{
 "metadata": {
  "name": "",
  "signature": "sha256:2feed5021e77c26a19e3c0e92a23c08552bcf82ed180391fa05c8bee0714817b"
 },
 "nbformat": 3,
 "nbformat_minor": 0,
 "worksheets": [
  {
   "cells": [
    {
     "cell_type": "heading",
     "level": 1,
     "metadata": {},
     "source": [
      "Python Devlog session Objets 5/6 : Sauvegarde et reconstruction d'objets"
     ]
    },
    {
     "cell_type": "heading",
     "level": 2,
     "metadata": {},
     "source": [
      "G\u00e9n\u00e9ralit\u00e9s "
     ]
    },
    {
     "cell_type": "markdown",
     "metadata": {},
     "source": [
      "* Les objets sont dit \"persistants\" lorsqu'ils ne disparaissent pas \u00e0 la fin du programme Python en cours. Cela consiste en g\u00e9n\u00e9ral \u00e0 les \"s\u00e9rialiser\", c'est \u00e0 dire en produire une repr\u00e9sentation binaire compacte, et \u00e0 stocker cette repr\u00e9sentation dans un fichier.\n",
      "* En Python, la persistance repose sur des modules de la libraire standard, tels que `pickle` et `shelve`."
     ]
    },
    {
     "cell_type": "heading",
     "level": 2,
     "metadata": {},
     "source": [
      "Pickle / cPickle"
     ]
    },
    {
     "cell_type": "markdown",
     "metadata": {},
     "source": [
      "* Ce module est capable de transformer en flot d'octets n'importe quel objet en m\u00e9moire. Ces octets peuvent \u00eatre \u00e9crits dans un fichier, envoy\u00e9s par r\u00e9seau, etc.\n",
      "* A l'inverse, le module peut lire et recr\u00e9e en m\u00e9moire les objets d'un fichier, l'un apr\u00e8s l'autre.\n",
      "* Quand c'est disponible, pr\u00e9f\u00e9rez cPickle, \u00e9crit en C et plus rapide.\n",
      "* **ATTENTION** : pas de garantie de portabilit\u00e9 de vos donn\u00e9es entre des plateformes diff\u00e9rentes."
     ]
    },
    {
     "cell_type": "code",
     "collapsed": false,
     "input": [
      "class Vecteur:\n",
      "    def __init__(self,u=0,v=0):\n",
      "        self.x = u\n",
      "        self.y = v\n",
      "    def __str__(self):\n",
      "        return \"(%.0f,%.0f)\" % (self.x,self.y)\n",
      "\n",
      "v1 = Vecteur(1,2)\n",
      "v2 = Vecteur(3,4)\n",
      "\n",
      "import pickle\n",
      "\n",
      "fw = open('vecteurs.pkl','w')\n",
      "pickle.dump(v1,fw)\n",
      "pickle.dump(v2,fw)\n",
      "fw.close()\n",
      "\n",
      "fr = open('vecteurs.pkl','r')\n",
      "print pickle.load(fr)\n",
      "print pickle.load(fr)\n",
      "fr.close()"
     ],
     "language": "python",
     "metadata": {},
     "outputs": [
      {
       "output_type": "stream",
       "stream": "stdout",
       "text": [
        "(1,2)\n",
        "(3,4)\n"
       ]
      }
     ],
     "prompt_number": 1
    },
    {
     "cell_type": "markdown",
     "metadata": {},
     "source": [
      "* [documentation python 2](http://docs.python.org/2.7/library/pickle.html)\n",
      "* [documentation python 3](http://docs.python.org/3.3/library/pickle.html)"
     ]
    },
    {
     "cell_type": "heading",
     "level": 2,
     "metadata": {},
     "source": [
      "Shelve "
     ]
    },
    {
     "cell_type": "markdown",
     "metadata": {},
     "source": [
      "* Ce module permet de ranger des objets dans un fichier, non pas s\u00e9quentiellement, mais en les associant \u00e0 des noms.\n",
      "* Le fichier est manipul\u00e9 comme si il s'agissait d'un dictionnaire."
     ]
    },
    {
     "cell_type": "code",
     "collapsed": false,
     "input": [
      "class Vecteur:\n",
      "    def __init__(self,u=0,v=0):\n",
      "        self.x = u\n",
      "        self.y = v\n",
      "    def __str__(self):\n",
      "        return \"(%.0f,%.0f)\" % (self.x,self.y)\n",
      "\n",
      "import shelve\n",
      "\n",
      "s = shelve.open('vecteurs.db')\n",
      "s['v1'] = Vecteur(1,2)\n",
      "s['v2'] = Vecteur(3,4)\n",
      "s.close()\n",
      "\n",
      "#...\n",
      "\n",
      "s = shelve.open('vecteurs.db')\n",
      "print s.keys()\n",
      "print s['v1']\n",
      "print s['v2']\n",
      "s.close()"
     ],
     "language": "python",
     "metadata": {},
     "outputs": []
    },
    {
     "cell_type": "markdown",
     "metadata": {},
     "source": [
      "* [documentation python 2](http://docs.python.org/2.7/library/shelve.html)\n",
      "* [documentation python 3](http://docs.python.org/3.3/library/shelve.html)"
     ]
    }
   ],
   "metadata": {}
  }
 ]
}