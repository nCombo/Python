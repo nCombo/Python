{
 "metadata": {
  "name": "",
  "signature": "sha256:36c0760945397c9de27b00ecbb62f02c8a95a494b797bdd373e0d0a9b3b31d31"
 },
 "nbformat": 3,
 "nbformat_minor": 0,
 "worksheets": [
  {
   "cells": [
    {
     "cell_type": "heading",
     "level": 1,
     "metadata": {
      "internals": {
       "slide_type": "subslide"
      },
      "slideshow": {
       "slide_type": "slide"
      }
     },
     "source": [
      "Python Devlog session Objets 4/6 : L'h\u00e9ritage entre classes"
     ]
    },
    {
     "cell_type": "heading",
     "level": 2,
     "metadata": {
      "internals": {},
      "slideshow": {
       "slide_type": "-"
      }
     },
     "source": [
      "G\u00e9n\u00e9ralit\u00e9s "
     ]
    },
    {
     "cell_type": "markdown",
     "metadata": {
      "internals": {},
      "slideshow": {
       "slide_type": "-"
      }
     },
     "source": [
      "Python permet d'exprimer une relation \"est une sorte de\" entre deux classes. Si `B` est une sorte de `A`, on s'attend \u00e0 ce que les instances de `B` poss\u00e8de les attributs (donn\u00e9es et m\u00e9thodes) de cette classe, mais aussi tous ceux de `A`, puisque ces objets sont aussi une sorte de `A`. On dit que `B` h\u00e9rite de `A`, ou d\u00e9rive de `A`. On peut aussi qualifier `A` de \"classe m\u00e8re\", de \"classe de base\", de \"super-classe\", et `B` de \"classe d\u00e9riv\u00e9e\", de \"classe fille\", de \"sous-classe\" de `A`.\n",
      "\n",
      "Pour h\u00e9riter d'une classe m\u00e8re, il suffit d\u2019indiquer son nom entre parenth\u00e8ses apr\u00e8s le nom de la classe fille. La classe fille a acc\u00e8s \u00e0 tous les attributs de la classe m\u00e8re. En d'autres termes, quand on \u00e9crit `obj.x`, l'interpr\u00e9teur cherche `x` dans l'instance, puis dans sa classe, puis dans la classe m\u00e8re de cette classe, etc.\n",
      "\n",
      "La classe pr\u00e9d\u00e9finie `object` sert de classe de base commune \u00e0 toutes les classes \"nouveau style\" de Python. Assurez-vous toujours que vos classes h\u00e9ritent d'`object`, directement ou indirectement, sans quoi vous perdrez un grand nombre de fonctionnalit\u00e9s du Python moderne."
     ]
    },
    {
     "cell_type": "code",
     "collapsed": false,
     "input": [
      "class A(object):\n",
      "    def x(self): return \"A\"\n",
      "    def y(self): return \"A\"\n",
      "    \n",
      "class B(A):\n",
      "    def z(self): return \"B\"\n",
      "    \n",
      "b = B()\n",
      "\n",
      "print b.x(), b.y(), b.z()"
     ],
     "language": "python",
     "metadata": {
      "internals": {},
      "slideshow": {
       "slide_type": "-"
      }
     },
     "outputs": [
      {
       "output_type": "stream",
       "stream": "stdout",
       "text": [
        "A A B\n"
       ]
      }
     ],
     "prompt_number": 4
    },
    {
     "cell_type": "heading",
     "level": 2,
     "metadata": {
      "internals": {},
      "slideshow": {
       "slide_type": "-"
      }
     },
     "source": [
      "Surcharge"
     ]
    },
    {
     "cell_type": "markdown",
     "metadata": {
      "internals": {},
      "slideshow": {
       "slide_type": "-"
      }
     },
     "source": [
      "Une classe d\u00e9riv\u00e9e peut ajouter de nouveaux attributs, qu'il s'agisse de donn\u00e9es ou de m\u00e9thodes. Elle peut aussi red\u00e9finir un des attributs de la classe de base, auquel cas, pour les instances de la classe d\u00e9riv\u00e9e, c'est la nouvelle d\u00e9finition qui sera trouv\u00e9e la premi\u00e8re, et utilis\u00e9e. On parle de \"surcharge\"."
     ]
    },
    {
     "cell_type": "code",
     "collapsed": false,
     "input": [
      "class A(object):\n",
      "    def x(self): return \"A\"\n",
      "    def y(self): return \"A\"\n",
      "    def z(self): return \"A\"\n",
      "    \n",
      "class B(A):\n",
      "    def x(self): return \"B\"\n",
      "    def t(self): return \"B\"\n",
      "    \n",
      "b = B()\n",
      "\n",
      "print b.x(), b.y(), b.z(), b.t()"
     ],
     "language": "python",
     "metadata": {
      "internals": {},
      "slideshow": {
       "slide_type": "-"
      }
     },
     "outputs": [
      {
       "output_type": "stream",
       "stream": "stdout",
       "text": [
        "B A A B\n"
       ]
      }
     ],
     "prompt_number": 5
    },
    {
     "cell_type": "heading",
     "level": 2,
     "metadata": {
      "internals": {},
      "slideshow": {
       "slide_type": "-"
      }
     },
     "source": [
      "H\u00e9ritage multiple"
     ]
    },
    {
     "cell_type": "markdown",
     "metadata": {
      "internals": {},
      "slideshow": {
       "slide_type": "-"
      }
     },
     "source": [
      "Une classe peut h\u00e9riter de plusieurs autres en m\u00eame temps (on donne alors une liste de noms s\u00e9par\u00e9s par des virgules). L'ordre de gauche \u00e0 droite des classes parentes est respect\u00e9 lorsque l'interpr\u00e9teur Python recherche un nom (donn\u00e9e ou m\u00e9thode)."
     ]
    },
    {
     "cell_type": "code",
     "collapsed": false,
     "input": [
      "class A1(object):\n",
      "    def x(self): print \"A1\"\n",
      "    \n",
      "class A2(object):\n",
      "    def x(self): print \"A2\"\n",
      "    \n",
      "class B(A1,A2):\n",
      "    pass\n",
      "\n",
      "b = B()\n",
      "b.x()"
     ],
     "language": "python",
     "metadata": {
      "internals": {},
      "slideshow": {
       "slide_type": "-"
      }
     },
     "outputs": [
      {
       "output_type": "stream",
       "stream": "stdout",
       "text": [
        "A1\n"
       ]
      }
     ],
     "prompt_number": 19
    },
    {
     "cell_type": "heading",
     "level": 2,
     "metadata": {
      "internals": {},
      "slideshow": {
       "slide_type": "-"
      }
     },
     "source": [
      "Arborescence d'h\u00e9ritage"
     ]
    },
    {
     "cell_type": "markdown",
     "metadata": {
      "internals": {},
      "slideshow": {
       "slide_type": "-"
      }
     },
     "source": [
      "En plus de l'h\u00e9ritage multiple, chaque classe de base peut \u00e0 son tour h\u00e9riter d'une autre classe, etc. L'ensemble des classes dont h\u00e9rite une instance forme ainsi une arborescence parfois complexe. Dans cette arborescence, la recherche d'un attribut se fait de bas en haut et de gauche \u00e0 droite, en profondeur d'abord, mais en faisant en sorte qu'une classe de base ne soit jamais explor\u00e9e avant que toutes ses d\u00e9riv\u00e9es le soient. Ainsi, dans l'exemple ci-dessous, `A` est prioritaire sur `C`, mais pas sur `B2` :"
     ]
    },
    {
     "cell_type": "code",
     "collapsed": false,
     "input": [
      "class A(object):\n",
      "    def x(self): return \"A\"\n",
      "    def y(self): return \"A\"\n",
      "    def z(self): return \"A\"\n",
      "    \n",
      "class B1(A):\n",
      "    pass\n",
      "    \n",
      "class B2(A):\n",
      "    def x(self): return \"B2\"\n",
      "    \n",
      "class C(object):\n",
      "    def y(self): return \"C\"\n",
      "    def z(self): return \"C\"\n",
      "    \n",
      "class D(B1,B2,C):\n",
      "    z = C.z\n",
      "\n",
      "d = D()\n",
      "print d.x(), d.y(), d.z()"
     ],
     "language": "python",
     "metadata": {
      "internals": {},
      "slideshow": {
       "slide_type": "-"
      }
     },
     "outputs": [
      {
       "output_type": "stream",
       "stream": "stdout",
       "text": [
        "B2 A C\n"
       ]
      }
     ],
     "prompt_number": 3
    },
    {
     "cell_type": "markdown",
     "metadata": {
      "internals": {},
      "slideshow": {
       "slide_type": "-"
      }
     },
     "source": [
      "L'ordre de parcours des classes est appel\u00e9 le **MRO** (Method Resolution Order).\n",
      "\n",
      "On voit aussi, dans l'exemple ci-dessus, que l'on peut explicitement copier la m\u00e9thode `z` de `C` dans `D`. Ainsi, tout appel \u00e0 la m\u00e9thode `z` pour une instance de `D` se trouve redirig\u00e9 vers la m\u00e9thode de `C` (au lieu de `A`)."
     ]
    },
    {
     "cell_type": "heading",
     "level": 2,
     "metadata": {
      "internals": {},
      "slideshow": {
       "slide_type": "-"
      }
     },
     "source": [
      "Chaque recherche d'attribut est ind\u00e9pendante et repart de `self`"
     ]
    },
    {
     "cell_type": "markdown",
     "metadata": {
      "internals": {},
      "slideshow": {
       "slide_type": "-"
      }
     },
     "source": [
      "Lorsque j'appelle une m\u00e9thode m1 de l'objet obj, cette m\u00e9thode est recherch\u00e9e dans l'arborescence de classes de obj. Si, \u00e0 son tour, m1 appelle une autre m\u00e9thode m2, la recherche de m2 repart de obj (et pas de la classe de m1). En C++, on dirait que toutes les m\u00e9thodes sont virtuelles et toutes les variables polymorphiques."
     ]
    },
    {
     "cell_type": "code",
     "collapsed": false,
     "input": [
      "class A(object):\n",
      "    def x(self): return \"A\"\n",
      "    def y(self): return \"A\"\n",
      "    def affichex(self): print self.x()\n",
      "    \n",
      "class B1(A):\n",
      "    pass\n",
      "    \n",
      "class B2(A):\n",
      "    def x(self): return \"B2\"\n",
      "    \n",
      "class C(object):\n",
      "    def x(self): return \"C\"\n",
      "    def affichey(self): print self.y()\n",
      "    \n",
      "class D(B1,B2,C):\n",
      "    pass\n",
      "\n",
      "d = D()\n",
      "d.affichex()\n",
      "d.affichey()"
     ],
     "language": "python",
     "metadata": {
      "internals": {},
      "slideshow": {
       "slide_type": "-"
      }
     },
     "outputs": [
      {
       "output_type": "stream",
       "stream": "stdout",
       "text": [
        "B2\n",
        "A\n"
       ]
      }
     ],
     "prompt_number": 2
    },
    {
     "cell_type": "heading",
     "level": 2,
     "metadata": {
      "internals": {},
      "slideshow": {
       "slide_type": "-"
      }
     },
     "source": [
      "Reutiliser explicitement une m\u00e9thode de base"
     ]
    },
    {
     "cell_type": "markdown",
     "metadata": {
      "internals": {},
      "slideshow": {
       "slide_type": "-"
      }
     },
     "source": [
      "Lorsqu'une m\u00e9thode est red\u00e9finie dans une classe d\u00e9riv\u00e9e, on dit qu'elle est surcharg\u00e9e. Plut\u00f4t que de r\u00e9\u00e9crire toutes les instructions, il peut \u00eatre utile de commencer par \u00e9x\u00e9cuter le code de la m\u00e9thode de la classe de base. C'est particuli\u00e8rement vrai pour les m\u00e9thodes sp\u00e9ciales, telles que les constructeurs."
     ]
    },
    {
     "cell_type": "code",
     "collapsed": false,
     "input": [
      "class Fruit(object):\n",
      "    def __init__(self, couleur, variete=''):\n",
      "        self.__couleur= couleur\n",
      "        self.__variete= variete\n",
      "    def __str__(self):\n",
      "        if (self.__variete!=''):\n",
      "            return \"%s %s\" % (self.__variete,self.__couleur)\n",
      "        else:\n",
      "            return \"fruit %s\" % self.__couleur\n",
      "\n",
      "class Pomme(Fruit):\n",
      "    def __init__(self, couleur, variete='golden'):\n",
      "        Fruit.__init__(self,couleur,variete)\n",
      "    def __str__(self):\n",
      "        return (\"pomme \" + Fruit.__str__(self))\n",
      "\n",
      "p = Pomme('rouge')\n",
      "\n",
      "print p"
     ],
     "language": "python",
     "metadata": {
      "internals": {},
      "slideshow": {
       "slide_type": "-"
      }
     },
     "outputs": [
      {
       "output_type": "stream",
       "stream": "stdout",
       "text": [
        "pomme golden rouge\n"
       ]
      }
     ],
     "prompt_number": 2
    },
    {
     "cell_type": "markdown",
     "metadata": {
      "internals": {},
      "slideshow": {
       "slide_type": "-"
      }
     },
     "source": [
      "On peut remplacer l'appel explicite \u00e0 la classe de base par un appel \u00e0 la fonction pr\u00e9d\u00e9finie `super()`, en lui passant le nom de la classe courante et l'instance courante. Dans le cas d'un h\u00e9ritage simple, cela permet ensuite de revoir les classe de base sans avoir \u00e0 corriger tous les appels directs aux m\u00e9thodes de la classe de base."
     ]
    },
    {
     "cell_type": "code",
     "collapsed": false,
     "input": [
      "class Pomme(Fruit):\n",
      "    def __init__(self, couleur, variete='golden'):\n",
      "        super(Pomme,self).__init__(couleur,variete)\n",
      "    def __str__(self):\n",
      "        return (\"pomme \" + Fruit.__str__(self))\n",
      "\n",
      "p = Pomme('rouge')\n",
      "\n",
      "print p"
     ],
     "language": "python",
     "metadata": {
      "internals": {},
      "slideshow": {
       "slide_type": "-"
      }
     },
     "outputs": [
      {
       "output_type": "stream",
       "stream": "stdout",
       "text": [
        "pomme golden rouge\n"
       ]
      }
     ],
     "prompt_number": 4
    },
    {
     "cell_type": "markdown",
     "metadata": {
      "internals": {},
      "slideshow": {
       "slide_type": "-"
      }
     },
     "source": [
      "Cependant, le nom `super()` est un faux ami, car en cas d'h\u00e9ritage multiple, il y a plusieurs super-classes. En r\u00e9alit\u00e9 ce que renvoie la fonction `super()`, c'est un objet interm\u00e9diaire, qui va rechercher l'attribut demand\u00e9 en suivant le chemin habituellement parcouru en cas d'h\u00e9ritage (MRO)."
     ]
    },
    {
     "cell_type": "code",
     "collapsed": false,
     "input": [
      "class A(object):\n",
      "    def x(self): return \"A\"\n",
      "    \n",
      "class B1(A):\n",
      "    pass\n",
      "    \n",
      "class B2(A):\n",
      "    def x(self): return \"B2\"\n",
      "    \n",
      "class C(B1,B2):\n",
      "    def x(self):\n",
      "        return super(C,self).x()\n",
      "\n",
      "c = C()\n",
      "print c.x()"
     ],
     "language": "python",
     "metadata": {
      "internals": {},
      "slideshow": {
       "slide_type": "-"
      }
     },
     "outputs": [
      {
       "output_type": "stream",
       "stream": "stdout",
       "text": [
        "B2\n"
       ]
      }
     ],
     "prompt_number": 10
    },
    {
     "cell_type": "markdown",
     "metadata": {
      "internals": {},
      "slideshow": {
       "slide_type": "-"
      }
     },
     "source": [
      "*PYTHON 3 SEULEMENT : on peut appeler super() sans arguments, ce qui permet notamment de renommer une classe sans avoir \u00e0 corriger tous les appels \u00e0 super().*"
     ]
    }
   ],
   "metadata": {}
  }
 ]
}