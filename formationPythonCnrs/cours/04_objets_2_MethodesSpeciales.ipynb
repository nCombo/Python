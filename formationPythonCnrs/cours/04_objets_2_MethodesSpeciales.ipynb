{
 "metadata": {
  "name": "",
  "signature": "sha256:ce2700e294fea5b862bdbafe306c5fd606d43ce24a249ad691671886fb26c4ee"
 },
 "nbformat": 3,
 "nbformat_minor": 0,
 "worksheets": [
  {
   "cells": [
    {
     "cell_type": "heading",
     "level": 1,
     "metadata": {
      "internals": {
       "slide_type": "subslide"
      },
      "slideshow": {
       "slide_type": "slide"
      }
     },
     "source": [
      "Python Devlog session Objets 2/6 : Les m\u00e9thodes sp\u00e9ciales"
     ]
    },
    {
     "cell_type": "heading",
     "level": 2,
     "metadata": {
      "internals": {},
      "slideshow": {
       "slide_type": "-"
      }
     },
     "source": [
      "Constructeur et destructeur"
     ]
    },
    {
     "cell_type": "markdown",
     "metadata": {
      "internals": {},
      "slideshow": {
       "slide_type": "-"
      }
     },
     "source": [
      "Le constructeur est une m\u00e9thode sp\u00e9ciale, appel\u00e9e `__init__()`, qui est appel\u00e9e lors de la cr\u00e9ation d'une instance de classe.\n",
      "\n",
      "Le destructeur est une m\u00e9thode sp\u00e9ciale, appel\u00e9e `__del__()`, qui est appel\u00e9e lors de la destruction d'une instance. **ATTENTION** : on ne contr\u00f4le pas vraiment le moment ou le destructeur est appel\u00e9. De ce fait, il est rarement utilis\u00e9."
     ]
    },
    {
     "cell_type": "code",
     "collapsed": false,
     "input": [
      "class Vector(object):\n",
      "  def __init__(self,u=0,v=0):\n",
      "    self.__x = u\n",
      "    self.__y = v\n",
      "  def getx(self):\n",
      "    return self.__x\n",
      "  def gety(self):\n",
      "    return self.__y\n",
      "  def norm(self):\n",
      "    x2 = self.__x**2\n",
      "    y2 = self.__y**2\n",
      "    return (x2+ y2)**(1/2)\n",
      "\n",
      "v1 = Vector(3, 4)\n",
      "print v1.getx(), v1.gety()"
     ],
     "language": "python",
     "metadata": {
      "internals": {},
      "slideshow": {
       "slide_type": "-"
      }
     },
     "outputs": [
      {
       "output_type": "stream",
       "stream": "stdout",
       "text": [
        "3 4\n"
       ]
      }
     ],
     "prompt_number": 36
    },
    {
     "cell_type": "code",
     "collapsed": false,
     "input": [
      "v2 = Vector(-2, 7)\n",
      "print v2.getx(), v2.gety()"
     ],
     "language": "python",
     "metadata": {
      "internals": {},
      "slideshow": {
       "slide_type": "-"
      }
     },
     "outputs": [
      {
       "output_type": "stream",
       "stream": "stdout",
       "text": [
        "-2 7\n"
       ]
      }
     ],
     "prompt_number": 9
    },
    {
     "cell_type": "heading",
     "level": 2,
     "metadata": {
      "internals": {},
      "slideshow": {
       "slide_type": "-"
      }
     },
     "source": [
      "Affichage "
     ]
    },
    {
     "cell_type": "markdown",
     "metadata": {
      "internals": {},
      "slideshow": {
       "slide_type": "-"
      }
     },
     "source": [
      "Par d\u00e9faut, l'affichage d'une instance renvoie son nom de classe et son adresse en m\u00e9moire :"
     ]
    },
    {
     "cell_type": "code",
     "collapsed": false,
     "input": [
      "class Vector(object):\n",
      "  def __init__(self,u=0,v=0):\n",
      "    self.__x = u\n",
      "    self.__y = v\n",
      "\n",
      "v = Vector(3,4)\n",
      "\n",
      "print v"
     ],
     "language": "python",
     "metadata": {
      "internals": {},
      "slideshow": {
       "slide_type": "-"
      }
     },
     "outputs": [
      {
       "output_type": "stream",
       "stream": "stdout",
       "text": [
        "<__main__.Vector instance at 0x00000000054CC2C8>\n"
       ]
      }
     ],
     "prompt_number": 4
    },
    {
     "cell_type": "code",
     "collapsed": false,
     "input": [
      "v"
     ],
     "language": "python",
     "metadata": {
      "internals": {},
      "slideshow": {
       "slide_type": "-"
      }
     },
     "outputs": [
      {
       "metadata": {},
       "output_type": "pyout",
       "prompt_number": 5,
       "text": [
        "<__main__.Vector instance at 0x00000000054CC2C8>"
       ]
      }
     ],
     "prompt_number": 5
    },
    {
     "cell_type": "markdown",
     "metadata": {
      "internals": {},
      "slideshow": {
       "slide_type": "-"
      }
     },
     "source": [
      "On peut personnaliser cet affichage en s'appuyant sur les m\u00e9thodes sp\u00e9ciales `__str()__` et `__repr()__`."
     ]
    },
    {
     "cell_type": "code",
     "collapsed": false,
     "input": [
      "class Vector(object):\n",
      "  def __init__(self,u=0,v=0):\n",
      "    self.__x = u\n",
      "    self.__y = v\n",
      "  def __str__(self):\n",
      "    return \"(%.0f,%.0f)\" % (self.__x,self.__y)\n",
      "  def __repr__(self):\n",
      "    return \"Vector(%.0f,%.0f)\" % (self.__x,self.__y)\n",
      "\n",
      "v = Vector(3,4)\n",
      "\n",
      "print v"
     ],
     "language": "python",
     "metadata": {
      "internals": {},
      "slideshow": {
       "slide_type": "-"
      }
     },
     "outputs": [
      {
       "output_type": "stream",
       "stream": "stdout",
       "text": [
        "(3,4)\n"
       ]
      }
     ],
     "prompt_number": 3
    },
    {
     "cell_type": "code",
     "collapsed": false,
     "input": [
      "v"
     ],
     "language": "python",
     "metadata": {
      "internals": {},
      "slideshow": {
       "slide_type": "-"
      }
     },
     "outputs": [
      {
       "metadata": {},
       "output_type": "pyout",
       "prompt_number": 4,
       "text": [
        "Vector(3,4)"
       ]
      }
     ],
     "prompt_number": 4
    },
    {
     "cell_type": "markdown",
     "metadata": {
      "internals": {},
      "slideshow": {
       "slide_type": "-"
      }
     },
     "source": [
      "En cas d'affichage destin\u00e9 \u00e0 l'utilisateur, tel qu'un appel \u00e0 `print`, c'est la m\u00e9thode `__str__` qui est recherch\u00e9e en priorit\u00e9, et seulement en dernier recours la m\u00e9thode `__repr__`. En principe, cette derni\u00e8re est suppos\u00e9 retourner un texte qui, si il \u00e9tait ex\u00e9cut\u00e9, recr\u00e9erait l'objet original."
     ]
    },
    {
     "cell_type": "heading",
     "level": 2,
     "metadata": {
      "internals": {},
      "slideshow": {
       "slide_type": "-"
      }
     },
     "source": [
      "Objets-fonctions"
     ]
    },
    {
     "cell_type": "markdown",
     "metadata": {
      "internals": {},
      "slideshow": {
       "slide_type": "-"
      }
     },
     "source": [
      "En dotant une classe de la m\u00e9thode `__call__`, les instances de cette classe peuvent \u00eatre utilis\u00e9s comme des fonctions. On parle d'objets-fonctions. Cela peut-\u00eatre utile lorsqu'on veut utiliser un programme g\u00e9n\u00e9rique qui attend une fonction en param\u00e8tre, et que l'on veut lui donner \u00e0 la place des objets qui savent se comporter en fonction, tout en ayant des param\u00e8tres internes."
     ]
    },
    {
     "cell_type": "code",
     "collapsed": false,
     "input": [
      "class Multiplier(object):\n",
      "    def __init__(self,constant):\n",
      "        self.constant = constant\n",
      "    def __call__(self,other):\n",
      "        return self.constant*other\n",
      "    \n",
      "m2 = Multiplier(2)\n",
      "print m2(6)\n",
      "print map(m2,[1,2,3,4,5])"
     ],
     "language": "python",
     "metadata": {
      "internals": {},
      "slideshow": {
       "slide_type": "-"
      }
     },
     "outputs": [
      {
       "output_type": "stream",
       "stream": "stdout",
       "text": [
        "12\n",
        "[2, 4, 6, 8, 10]\n"
       ]
      }
     ],
     "prompt_number": 3
    },
    {
     "cell_type": "markdown",
     "metadata": {
      "internals": {},
      "slideshow": {
       "slide_type": "-"
      }
     },
     "source": [
      "Ce m\u00e9canisme est souvent le plus sain pour associer des donn\u00e9es persistantes \u00e0 une fonction, plut\u00f4t que l'utilisation de variables globales, de fonctions imbriqu\u00e9es, ou de valeurs par d\u00e9faut modifiables."
     ]
    },
    {
     "cell_type": "heading",
     "level": 2,
     "metadata": {
      "internals": {},
      "slideshow": {
       "slide_type": "-"
      }
     },
     "source": [
      "Op\u00e9rateurs math\u00e9matiques"
     ]
    },
    {
     "cell_type": "markdown",
     "metadata": {
      "internals": {},
      "slideshow": {
       "slide_type": "-"
      }
     },
     "source": [
      "Il est possible de permettre l'utilisation des op\u00e9rateurs habituels avec vos nouvelles classes, en red\u00e9finissant des m\u00e9thodes sp\u00e9ciales au nom impos\u00e9 :\n",
      "\n",
      "* `+` : `__add__(self,other)`\n",
      "* `-` : `__sub__(self,other)`\n",
      "* `*` : `__mul__(self,other)`\n",
      "* `/` : `__truediv__(self,other)`\n",
      "* `//` : `__floordiv__(self,other)`\n",
      "* `%` : `__mod__(self,other)`\n",
      "* `**` : `__pow__(self,other)`"
     ]
    },
    {
     "cell_type": "code",
     "collapsed": false,
     "input": [
      "class Vector(object):\n",
      "  def __init__(self,u=0,v=0):\n",
      "    self.__x = u\n",
      "    self.__y = v\n",
      "  def __add__(self, other):\n",
      "    if isinstance(other, Vector):\n",
      "      newx = self.__x + other.__x\n",
      "      newy = self.__y + other.__y\n",
      "      return Vector(newx, newy)\n",
      "  def __str__(self):\n",
      "    return \"(%.0f,%.0f)\" % (self.__x,self.__y)\n",
      "\n",
      "v1 = Vector(2, 3)\n",
      "v2 = Vector(-4, 7)\n",
      "v3 = v1 + v2\n",
      "\n",
      "print v3"
     ],
     "language": "python",
     "metadata": {
      "internals": {},
      "slideshow": {
       "slide_type": "-"
      }
     },
     "outputs": [
      {
       "output_type": "stream",
       "stream": "stdout",
       "text": [
        "(-2,10)\n"
       ]
      }
     ],
     "prompt_number": 6
    },
    {
     "cell_type": "heading",
     "level": 2,
     "metadata": {
      "internals": {},
      "slideshow": {
       "slide_type": "-"
      }
     },
     "source": [
      "Index de s\u00e9quence"
     ]
    },
    {
     "cell_type": "markdown",
     "metadata": {
      "internals": {},
      "slideshow": {
       "slide_type": "-"
      }
     },
     "source": [
      "A l'aide de la m\u00e9thode `__getitem__()`, on peut impl\u00e9menter l'op\u00e9rateur `[]` sous toutes ses formes :"
     ]
    },
    {
     "cell_type": "code",
     "collapsed": false,
     "input": [
      "class MonTexte(object):\n",
      "    def __init__(self,value):\n",
      "        self.data = value\n",
      "    def __getitem__(self,index):\n",
      "        return self.data[index]\n",
      "        \n",
      "txt = MonTexte(\"Bonjour\")\n",
      "print txt[2]"
     ],
     "language": "python",
     "metadata": {
      "internals": {},
      "slideshow": {
       "slide_type": "-"
      }
     },
     "outputs": [
      {
       "output_type": "stream",
       "stream": "stdout",
       "text": [
        "n\n"
       ]
      }
     ],
     "prompt_number": 1
    },
    {
     "cell_type": "code",
     "collapsed": false,
     "input": [
      "print txt[-1::-1]"
     ],
     "language": "python",
     "metadata": {},
     "outputs": [
      {
       "output_type": "stream",
       "stream": "stdout",
       "text": [
        "ruojnoB\n"
       ]
      }
     ],
     "prompt_number": 2
    },
    {
     "cell_type": "markdown",
     "metadata": {
      "internals": {},
      "slideshow": {
       "slide_type": "-"
      }
     },
     "source": [
      "En bonus, la pr\u00e9sence de `__getitem__` permet d'utiliser un objet au sein d'une boucle `for`. L'interpr\u00e9teur va invoquer cette m\u00e9thode avec des valeurs enti\u00e8res croissantes, en commencant par `0`, et jsuqu'\u00e0 l'\u00e9mission d'une exception `IndexError`."
     ]
    },
    {
     "cell_type": "raw",
     "metadata": {
      "internals": {},
      "slideshow": {
       "slide_type": "-"
      }
     },
     "source": [
      "for c in txt:\n",
      "    print c"
     ]
    },
    {
     "cell_type": "markdown",
     "metadata": {
      "internals": {},
      "slideshow": {
       "slide_type": "-"
      }
     },
     "source": [
      "En r\u00e9alit\u00e9, la pr\u00e9sence de `__getitem__` permet d'utiliser un objet dans de multiples autres \"contextes d'it\u00e9ration\", tels que qu'un test d'appartenance `in`, une \"compr\u00e9hension de liste\", la fonction pr\u00e9d\u00e9finie `map`, l'assignation de s\u00e9quences, ..."
     ]
    },
    {
     "cell_type": "code",
     "collapsed": false,
     "input": [
      "'i' in txt"
     ],
     "language": "python",
     "metadata": {
      "internals": {},
      "slideshow": {
       "slide_type": "-"
      }
     },
     "outputs": [
      {
       "metadata": {},
       "output_type": "pyout",
       "prompt_number": 7,
       "text": [
        "False"
       ]
      }
     ],
     "prompt_number": 7
    },
    {
     "cell_type": "code",
     "collapsed": false,
     "input": [
      "[c for c in txt]"
     ],
     "language": "python",
     "metadata": {
      "internals": {},
      "slideshow": {
       "slide_type": "-"
      }
     },
     "outputs": [
      {
       "metadata": {},
       "output_type": "pyout",
       "prompt_number": 16,
       "text": [
        "['B', 'o', 'n', 'j', 'o', 'u', 'r']"
       ]
      }
     ],
     "prompt_number": 16
    },
    {
     "cell_type": "code",
     "collapsed": false,
     "input": [
      "map(ord,txt)"
     ],
     "language": "python",
     "metadata": {
      "internals": {},
      "slideshow": {
       "slide_type": "-"
      }
     },
     "outputs": [
      {
       "metadata": {},
       "output_type": "pyout",
       "prompt_number": 17,
       "text": [
        "[66, 111, 110, 106, 111, 117, 114]"
       ]
      }
     ],
     "prompt_number": 17
    },
    {
     "cell_type": "code",
     "collapsed": false,
     "input": [
      "(c1, c2, c3, c4, c5, c6, c7) = txt\n",
      "c3, c2, c1"
     ],
     "language": "python",
     "metadata": {
      "internals": {},
      "slideshow": {
       "slide_type": "-"
      }
     },
     "outputs": [
      {
       "metadata": {},
       "output_type": "pyout",
       "prompt_number": 19,
       "text": [
        "('n', 'o', 'B')"
       ]
      }
     ],
     "prompt_number": 19
    },
    {
     "cell_type": "code",
     "collapsed": false,
     "input": [
      "list(txt), tuple(txt), '-'.join(txt)"
     ],
     "language": "python",
     "metadata": {
      "internals": {},
      "slideshow": {
       "slide_type": "-"
      }
     },
     "outputs": [
      {
       "metadata": {},
       "output_type": "pyout",
       "prompt_number": 20,
       "text": [
        "(['B', 'o', 'n', 'j', 'o', 'u', 'r'],\n",
        " ('B', 'o', 'n', 'j', 'o', 'u', 'r'),\n",
        " 'B-o-n-j-o-u-r')"
       ]
      }
     ],
     "prompt_number": 20
    }
   ],
   "metadata": {}
  }
 ]
}