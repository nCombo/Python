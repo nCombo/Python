{
 "metadata": {
  "name": "",
  "signature": "sha256:93cc5365f8ec2eb82dd152b8e6cbfca8679dfd66d70fb7e4978dcc0f49e6d51d"
 },
 "nbformat": 3,
 "nbformat_minor": 0,
 "worksheets": [
  {
   "cells": [
    {
     "cell_type": "heading",
     "level": 1,
     "metadata": {
      "internals": {
       "slide_helper": "subslide_end",
       "slide_type": "subslide"
      },
      "slide_helper": "slide_end",
      "slideshow": {
       "slide_type": "slide"
      }
     },
     "source": [
      "Python Devlog session Objets 1/6 : La d\u00e9finition de classes"
     ]
    },
    {
     "cell_type": "heading",
     "level": 2,
     "metadata": {
      "internals": {
       "slide_type": "subslide"
      },
      "slideshow": {
       "slide_type": "slide"
      }
     },
     "source": [
      "G\u00e9n\u00e9ralit\u00e9s"
     ]
    },
    {
     "cell_type": "markdown",
     "metadata": {
      "internals": {},
      "slideshow": {
       "slide_type": "-"
      }
     },
     "source": [
      "La cr\u00e9ation d'une nouvelle classe peut \u00eatre consid\u00e9r\u00e9e comme la cr\u00e9ation d'un nouveau type de donn\u00e9es, d\u00e9fini par le d\u00e9veloppeur. Par convention, les noms de classe sont g\u00e9n\u00e9ralement typographi\u00e9 en \"CamelCase\". Dans l'exemple ci-dessous, l'ex\u00e9cution de l'instruction `class` provoque la cr\u00e9ation d'un objet de type `class`, et lui assigne comme nom `Vecteur`. Comme n'importe quelle entit\u00e9 de Python, la classe cr\u00e9\u00e9e est plac\u00e9e dans un module (ici `__main__` puisque l'instruction `class` est soumise directement \u00e0 l'interpr\u00e9teur)."
     ]
    },
    {
     "cell_type": "code",
     "collapsed": false,
     "input": [
      "class Vecteur(object):\n",
      "    pass\n",
      "\n",
      "print Vecteur"
     ],
     "language": "python",
     "metadata": {
      "internals": {
       "slide_helper": "subslide_end"
      },
      "slide_helper": "subslide_end",
      "slideshow": {
       "slide_type": "-"
      }
     },
     "outputs": [
      {
       "output_type": "stream",
       "stream": "stdout",
       "text": [
        "<class '__main__.Vecteur'>\n"
       ]
      }
     ],
     "prompt_number": 1
    },
    {
     "cell_type": "markdown",
     "metadata": {
      "internals": {
       "frag_number": 4,
       "slide_type": "subslide"
      },
      "slideshow": {
       "slide_type": "subslide"
      }
     },
     "source": [
      "De m\u00eame qu'un type pr\u00e9d\u00e9fini de Python (par exemple `float` ou `list`) poss\u00e8de de multiples valeurs (par exemple `3.14` ou `[]`), une classe peut donner naissance \u00e0 de multiples objets. On dit de chacun de ces objets qu'il est une \"instance\" de la classe. Pour cr\u00e9er une telle instance, on utilise le nom de la classe comme si c'\u00e9tait un nom de fonction (utilisation de parenth\u00e8ses). Dans l'exemple ci-dessous, l'instruction provoque la cr\u00e9ation d'une instance de type `Vecteur`, et lui assigne comme nom `v`."
     ]
    },
    {
     "cell_type": "code",
     "collapsed": false,
     "input": [
      "v = Vecteur()\n",
      "\n",
      "print v"
     ],
     "language": "python",
     "metadata": {
      "internals": {
       "frag_helper": "fragment_end",
       "frag_number": 4,
       "slide_helper": "subslide_end"
      },
      "slide_helper": "slide_end",
      "slideshow": {
       "slide_type": "-"
      }
     },
     "outputs": [
      {
       "output_type": "stream",
       "stream": "stdout",
       "text": [
        "<__main__.Vecteur object at 0x00000000042B80F0>\n"
       ]
      }
     ],
     "prompt_number": 2
    },
    {
     "cell_type": "heading",
     "level": 2,
     "metadata": {
      "internals": {
       "frag_helper": "fragment_end",
       "frag_number": 4,
       "slide_type": "subslide"
      },
      "slideshow": {
       "slide_type": "slide"
      }
     },
     "source": [
      "Donn\u00e9es membres "
     ]
    },
    {
     "cell_type": "markdown",
     "metadata": {
      "internals": {
       "frag_helper": "fragment_end",
       "frag_number": 4
      },
      "slideshow": {
       "slide_type": "-"
      }
     },
     "source": [
      "Tout comme un nombre flottant est compos\u00e9 de sous-parties (mantisse, exposant, signe...), une instance est appel\u00e9e \u00e0 contenir des donn\u00e9es nomm\u00e9es, accessibles indivuellement par l'op\u00e9rateur `.`. Les donn\u00e9es membres peuvent \u00eatre lues, cr\u00e9\u00e9es et modifi\u00e9es \u00e0 tout moment et par n'importe qui."
     ]
    },
    {
     "cell_type": "code",
     "collapsed": false,
     "input": [
      "v.x = 1\n",
      "v.y = 2\n",
      "print v.x"
     ],
     "language": "python",
     "metadata": {
      "internals": {
       "frag_helper": "fragment_end",
       "frag_number": 4
      },
      "slideshow": {
       "slide_type": "-"
      }
     },
     "outputs": [
      {
       "output_type": "stream",
       "stream": "stdout",
       "text": [
        "1\n"
       ]
      }
     ],
     "prompt_number": 3
    },
    {
     "cell_type": "code",
     "collapsed": false,
     "input": [
      "print v.y"
     ],
     "language": "python",
     "metadata": {
      "internals": {
       "frag_helper": "fragment_end",
       "frag_number": 4
      },
      "slideshow": {
       "slide_type": "-"
      }
     },
     "outputs": [
      {
       "output_type": "stream",
       "stream": "stdout",
       "text": [
        "2\n"
       ]
      }
     ],
     "prompt_number": 4
    },
    {
     "cell_type": "code",
     "collapsed": false,
     "input": [
      "del v.y\n",
      "print v.y"
     ],
     "language": "python",
     "metadata": {
      "internals": {
       "frag_helper": "fragment_end",
       "frag_number": 4,
       "slide_helper": "subslide_end"
      },
      "slide_helper": "subslide_end",
      "slideshow": {
       "slide_type": "-"
      }
     },
     "outputs": [
      {
       "ename": "AttributeError",
       "evalue": "'Vecteur' object has no attribute 'y'",
       "output_type": "pyerr",
       "traceback": [
        "\u001b[1;31m---------------------------------------------------------------------------\u001b[0m\n\u001b[1;31mAttributeError\u001b[0m                            Traceback (most recent call last)",
        "\u001b[1;32m<ipython-input-5-3a2cca00cd27>\u001b[0m in \u001b[0;36m<module>\u001b[1;34m()\u001b[0m\n\u001b[0;32m      1\u001b[0m \u001b[1;32mdel\u001b[0m \u001b[0mv\u001b[0m\u001b[1;33m.\u001b[0m\u001b[0my\u001b[0m\u001b[1;33m\u001b[0m\u001b[0m\n\u001b[1;32m----> 2\u001b[1;33m \u001b[1;32mprint\u001b[0m \u001b[0mv\u001b[0m\u001b[1;33m.\u001b[0m\u001b[0my\u001b[0m\u001b[1;33m\u001b[0m\u001b[0m\n\u001b[0m",
        "\u001b[1;31mAttributeError\u001b[0m: 'Vecteur' object has no attribute 'y'"
       ]
      }
     ],
     "prompt_number": 5
    },
    {
     "cell_type": "heading",
     "level": 2,
     "metadata": {
      "internals": {
       "frag_helper": "fragment_end",
       "frag_number": 4,
       "slide_type": "subslide"
      },
      "slideshow": {
       "slide_type": "slide"
      }
     },
     "source": [
      "M\u00e9thodes "
     ]
    },
    {
     "cell_type": "markdown",
     "metadata": {
      "internals": {
       "frag_helper": "fragment_end",
       "frag_number": 4
      },
      "slideshow": {
       "slide_type": "-"
      }
     },
     "source": [
      "Imaginons ci-dessous que l'on souhaite doter nos nouveaux vecteurs d'un calcul de norme et d'une transformation de type homoth\u00e9tie. Pour uniformiser, on d\u00e9finit \u00e9galement une fonction pour initialiser les attributs d'une instance, et une fonction d'affichage :"
     ]
    },
    {
     "cell_type": "code",
     "collapsed": false,
     "input": [
      "class Vecteur(object):\n",
      "    pass\n",
      "    \n",
      "def init(v,x=0,y=0):\n",
      "    v.x = x\n",
      "    v.y = y\n",
      "\n",
      "def norme(v):\n",
      "    x2 = v.x**2\n",
      "    y2 = v.y**2\n",
      "    return (x2+y2)**(1./2.)\n",
      "\n",
      "def homothetie(v,n):\n",
      "    v.x = v.x * n\n",
      "    v.y = v.y * n\n",
      "\n",
      "def affiche(v):\n",
      "    print v.x, v.y\n",
      "\n",
      "v = Vecteur()\n",
      "init(v,3,-4)\n",
      "print norme(v)"
     ],
     "language": "python",
     "metadata": {
      "internals": {
       "frag_helper": "fragment_end",
       "frag_number": 4
      },
      "slideshow": {
       "slide_type": "-"
      }
     },
     "outputs": [
      {
       "output_type": "stream",
       "stream": "stdout",
       "text": [
        "5.0\n"
       ]
      }
     ],
     "prompt_number": 7
    },
    {
     "cell_type": "code",
     "collapsed": false,
     "input": [
      "homothetie(v,3)\n",
      "affiche(v)"
     ],
     "language": "python",
     "metadata": {
      "internals": {
       "frag_helper": "fragment_end",
       "frag_number": 4,
       "slide_helper": "subslide_end"
      },
      "slide_helper": "slide_end",
      "slideshow": {
       "slide_type": "-"
      }
     },
     "outputs": [
      {
       "output_type": "stream",
       "stream": "stdout",
       "text": [
        "9 -12\n"
       ]
      }
     ],
     "prompt_number": 8
    },
    {
     "cell_type": "markdown",
     "metadata": {
      "internals": {
       "frag_helper": "fragment_end",
       "frag_number": 4,
       "slide_type": "subslide"
      },
      "slideshow": {
       "slide_type": "slide"
      }
     },
     "source": [
      "On peut \u00eatre rapidement confront\u00e9 \u00e0 des conflits de noms avec d'autres fonctions similaires pour d'autres classes, et on aimerait que nos nouvelles fonctions ne soient utilis\u00e9es qu'avec notre nouvelle classe Vector. Pour ce faire, nous allons en faire des *m\u00e9thodes* en les ins\u00e9rant dans la classe.\n",
      "\n",
      "Une m\u00e9thode est une fonction \"attach\u00e9e\" \u00e0 une classe particuli\u00e8re. La d\u00e9finition des m\u00e9thodes est faite \u00e0 l'int\u00e9rieur de la d\u00e9finition de la classe.\n",
      "\n",
      "Dans la d\u00e9finition d'une m\u00e9thode, le premier param\u00e8tre d\u00e9signe l'instance courante sur laquelle on veut appliquer la m\u00e9thode. Pour ex\u00e9cuter une m\u00e9thode sur une instance particuliere, on utilise l'op\u00e9rateur \".\", comme pour les donn\u00e9es membres, puis des parenth\u00e8ses pour signifier qu'il s'agit d'une fonction. L'instance \u00e0 gauche du \".\" est alors pass\u00e9e \u00e0 la m\u00e9thode en tant que premier param\u00e8tre.  "
     ]
    },
    {
     "cell_type": "code",
     "collapsed": false,
     "input": [
      "class Vecteur(object):\n",
      "    def init(self,x=0,y=0):\n",
      "        self.x = x\n",
      "        self.y = y\n",
      "    def norme(self):\n",
      "        x2 = self.x**2\n",
      "        y2 = self.y**2\n",
      "        return (x2+y2)**(1./2.)\n",
      "    def homothetie(self,n):\n",
      "        self.x = self.x * n\n",
      "        self.y = self.y * n\n",
      "    def affiche(self):\n",
      "        print self.x, self.y\n",
      "\n",
      "\n",
      "v = Vecteur()\n",
      "v.init(3,-4)\n",
      "print v.norme()"
     ],
     "language": "python",
     "metadata": {
      "internals": {
       "frag_helper": "fragment_end",
       "frag_number": 4
      },
      "slideshow": {
       "slide_type": "-"
      }
     },
     "outputs": [
      {
       "output_type": "stream",
       "stream": "stdout",
       "text": [
        "5.0\n"
       ]
      }
     ],
     "prompt_number": 11
    },
    {
     "cell_type": "code",
     "collapsed": false,
     "input": [
      "v.homothetie(3)\n",
      "v.affiche()"
     ],
     "language": "python",
     "metadata": {
      "internals": {
       "frag_helper": "fragment_end",
       "frag_number": 4,
       "slide_helper": "subslide_end"
      },
      "slide_helper": "subslide_end",
      "slideshow": {
       "slide_type": "-"
      }
     },
     "outputs": [
      {
       "output_type": "stream",
       "stream": "stdout",
       "text": [
        "9 -12\n"
       ]
      }
     ],
     "prompt_number": 12
    },
    {
     "cell_type": "heading",
     "level": 2,
     "metadata": {
      "internals": {
       "frag_helper": "fragment_end",
       "frag_number": 4,
       "slide_type": "subslide"
      },
      "slideshow": {
       "slide_type": "slide"
      }
     },
     "source": [
      "Encapsulation"
     ]
    },
    {
     "cell_type": "markdown",
     "metadata": {
      "internals": {
       "frag_helper": "fragment_end",
       "frag_number": 4
      },
      "slideshow": {
       "slide_type": "-"
      }
     },
     "source": [
      "Donn\u00e9es membres et m\u00e9thodes sont collectivement appel\u00e9s \"attributs\". On  place g\u00e9n\u00e9ralement les donn\u00e9es dans les instances (et elles varient d'une instance \u00e0 l'autre), par contreet les m\u00e9thodes sont plac\u00e9es dans la classe.\n",
      "\n",
      "En programmation orient\u00e9e objet orthodoxe, il est pr\u00e9conis\u00e9 d'interdire un acc\u00e8s direct aux donn\u00e9es par les codes clients ext\u00e9rieurs, et de forcer ces clients \u00e0 passer par l'interm\u00e9diaire de m\u00e9thodes de lecture (qu'on appelle \"getters\") et de m\u00e9thodes de modification (qu'on appelle \"setters\").\n",
      "\n",
      "Python ne permet pas vraiment d'interdire l'acc\u00e8s aux donn\u00e9es, mais seulement de les masquer. Pour ce faire, donnez leur un nom qui commence par \"\\_\\_\". les donn\u00e9es sont alors dites \"pseudo-priv\u00e9es\".\n",
      "\n",
      "Dans l'exemple ci-dessous, les attributs `x` et `y` de `Vector` ont \u00e9t\u00e9 rendus pseudo-priv\u00e9s, la m\u00e9thode `init()` fait office de \"setter\" global (m\u00e9thode pour changer les valeurs de x et y), et les m\u00e9thodes `getx()` et `gety()` font office de \"getters\"."
     ]
    },
    {
     "cell_type": "code",
     "collapsed": false,
     "input": [
      "class Vecteur(object):\n",
      "    \n",
      "  def init(self,u=0,v=0):\n",
      "    self.__x = u\n",
      "    self.__y = v\n",
      "    \n",
      "  def getx(self):\n",
      "    return self.__x\n",
      "\n",
      "  def gety(self):\n",
      "    return self.__y\n",
      "\n",
      "v = Vecteur()\n",
      "v.init(3, -4)\n",
      "print v.getx(), v.gety()"
     ],
     "language": "python",
     "metadata": {
      "internals": {
       "frag_helper": "fragment_end",
       "frag_number": 4,
       "slide_helper": "subslide_end"
      },
      "slide_helper": "subslide_end",
      "slideshow": {
       "slide_type": "-"
      }
     },
     "outputs": [
      {
       "output_type": "stream",
       "stream": "stdout",
       "text": [
        "3 -4\n"
       ]
      }
     ],
     "prompt_number": 14
    },
    {
     "cell_type": "code",
     "collapsed": false,
     "input": [
      "print v.x, v.y"
     ],
     "language": "python",
     "metadata": {},
     "outputs": [
      {
       "ename": "AttributeError",
       "evalue": "'Vecteur' object has no attribute 'x'",
       "output_type": "pyerr",
       "traceback": [
        "\u001b[1;31m---------------------------------------------------------------------------\u001b[0m\n\u001b[1;31mAttributeError\u001b[0m                            Traceback (most recent call last)",
        "\u001b[1;32m<ipython-input-17-9166e99d7851>\u001b[0m in \u001b[0;36m<module>\u001b[1;34m()\u001b[0m\n\u001b[1;32m----> 1\u001b[1;33m \u001b[1;32mprint\u001b[0m \u001b[0mv\u001b[0m\u001b[1;33m.\u001b[0m\u001b[0mx\u001b[0m\u001b[1;33m,\u001b[0m \u001b[0mv\u001b[0m\u001b[1;33m.\u001b[0m\u001b[0my\u001b[0m\u001b[1;33m\u001b[0m\u001b[0m\n\u001b[0m",
        "\u001b[1;31mAttributeError\u001b[0m: 'Vecteur' object has no attribute 'x'"
       ]
      }
     ],
     "prompt_number": 17
    },
    {
     "cell_type": "code",
     "collapsed": false,
     "input": [
      "print v.__x, v.__y"
     ],
     "language": "python",
     "metadata": {},
     "outputs": [
      {
       "ename": "AttributeError",
       "evalue": "'Vecteur' object has no attribute '__x'",
       "output_type": "pyerr",
       "traceback": [
        "\u001b[1;31m---------------------------------------------------------------------------\u001b[0m\n\u001b[1;31mAttributeError\u001b[0m                            Traceback (most recent call last)",
        "\u001b[1;32m<ipython-input-16-e70456a59924>\u001b[0m in \u001b[0;36m<module>\u001b[1;34m()\u001b[0m\n\u001b[1;32m----> 1\u001b[1;33m \u001b[1;32mprint\u001b[0m \u001b[0mv\u001b[0m\u001b[1;33m.\u001b[0m\u001b[0m__x\u001b[0m\u001b[1;33m,\u001b[0m \u001b[0mv\u001b[0m\u001b[1;33m.\u001b[0m\u001b[0m__y\u001b[0m\u001b[1;33m\u001b[0m\u001b[0m\n\u001b[0m",
        "\u001b[1;31mAttributeError\u001b[0m: 'Vecteur' object has no attribute '__x'"
       ]
      }
     ],
     "prompt_number": 16
    },
    {
     "cell_type": "heading",
     "level": 2,
     "metadata": {
      "internals": {
       "frag_helper": "fragment_end",
       "frag_number": 4,
       "slide_type": "subslide"
      },
      "slideshow": {
       "slide_type": "slide"
      }
     },
     "source": [
      "Documentation"
     ]
    },
    {
     "cell_type": "markdown",
     "metadata": {
      "internals": {
       "frag_helper": "fragment_end",
       "frag_number": 4
      },
      "slideshow": {
       "slide_type": "-"
      }
     },
     "source": [
      "Les \"docstrings\" habituelles fonctionnent avec les classes."
     ]
    },
    {
     "cell_type": "code",
     "collapsed": false,
     "input": [
      "class MaClasse(object):\n",
      "    \"Documentation de MaClasse\"\n",
      "    __data = []\n",
      "    def ma_methode():\n",
      "        \"documentation de ma_methode()\"\n",
      "        pass\n",
      "    \n",
      "print MaClasse.__doc__"
     ],
     "language": "python",
     "metadata": {
      "internals": {
       "frag_helper": "fragment_end",
       "frag_number": 4
      },
      "slideshow": {
       "slide_type": "-"
      }
     },
     "outputs": [
      {
       "output_type": "stream",
       "stream": "stdout",
       "text": [
        "Documentation de MaClasse\n"
       ]
      }
     ],
     "prompt_number": 14
    },
    {
     "cell_type": "code",
     "collapsed": false,
     "input": [
      "print MaClasse.ma_methode.__doc__"
     ],
     "language": "python",
     "metadata": {
      "internals": {
       "frag_helper": "fragment_end",
       "frag_number": 4
      },
      "slideshow": {
       "slide_type": "-"
      }
     },
     "outputs": [
      {
       "output_type": "stream",
       "stream": "stdout",
       "text": [
        "documentation de ma_methode()\n"
       ]
      }
     ],
     "prompt_number": 15
    },
    {
     "cell_type": "code",
     "collapsed": false,
     "input": [
      "help(MaClasse)"
     ],
     "language": "python",
     "metadata": {
      "internals": {
       "frag_helper": "fragment_end",
       "frag_number": 4,
       "slide_helper": "subslide_end"
      },
      "slide_helper": "slide_end",
      "slideshow": {
       "slide_type": "-"
      }
     },
     "outputs": [
      {
       "output_type": "stream",
       "stream": "stdout",
       "text": [
        "Help on class MaClasse in module __main__:\n",
        "\n",
        "class MaClasse(__builtin__.object)\n",
        " |  Documentation de MaClasse\n",
        " |  \n",
        " |  Methods defined here:\n",
        " |  \n",
        " |  ma_methode()\n",
        " |      documentation de ma_methode()\n",
        " |  \n",
        " |  ----------------------------------------------------------------------\n",
        " |  Data descriptors defined here:\n",
        " |  \n",
        " |  __dict__\n",
        " |      dictionary for instance variables (if defined)\n",
        " |  \n",
        " |  __weakref__\n",
        " |      list of weak references to the object (if defined)\n",
        "\n"
       ]
      }
     ],
     "prompt_number": 16
    }
   ],
   "metadata": {}
  }
 ]
}