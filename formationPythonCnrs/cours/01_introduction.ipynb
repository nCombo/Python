{
 "metadata": {
  "celltoolbar": "Slideshow",
  "name": "",
  "signature": "sha256:b1a69cbe642b54e183dcc92a9cf598a5f18f5e110ed621f1486ee36258edafe1"
 },
 "nbformat": 3,
 "nbformat_minor": 0,
 "worksheets": [
  {
   "cells": [
    {
     "cell_type": "markdown",
     "metadata": {
      "internals": {
       "slide_helper": "subslide_end",
       "slide_type": "subslide"
      },
      "slide_helper": "slide_end",
      "slideshow": {
       "slide_type": "slide"
      }
     },
     "source": [
      "#Formation Python\n",
      "#*Introduction*\n",
      "&nbsp;\n",
      "<center>\n",
      "**CEPAge - DR15** Christophe Halgand\n",
      "</center>\n",
      "<center>\n",
      "**DevelopR6 - DR6** S\u00e9kou Diakit\u00e9\n",
      "</center>\n",
      "<center>\n",
      "**LoOPs - DR4** Lo\u00efc Gouarin\n",
      "</center>\n",
      "<center>\n",
      "**Min2Rien - DR18** Nicolas Can\n",
      "</center>\n",
      "&nbsp;\n",
      "<center>\n",
      "10 - 12 d\u00e9cembre 2014\n",
      "</center>"
     ]
    },
    {
     "cell_type": "markdown",
     "metadata": {
      "internals": {
       "slide_helper": "subslide_end",
       "slide_type": "subslide"
      },
      "slide_helper": "slide_end",
      "slideshow": {
       "slide_type": "slide"
      }
     },
     "source": [
      "#Plan de la formation\n",
      "-----\n",
      "\n",
      "Il s'agit d'une formation de base \u00e0 Python.<br/>\n",
      "La m\u00eame formation sera jou\u00e9e dans les diff\u00e9rentes r\u00e9gions, par des intervenants locaux.<br/>\n",
      "D'autres sessions devraient \u00eatre propos\u00e9es en 2015.\n",
      "\n",
      "6 demi-journ\u00e9es :\n",
      "\n",
      "- Introduction : installation et prise en main, initiation \u00e0 la syntaxe Python, les types de donn\u00e9es standard, les structures de contr\u00f4le.\n",
      "- Les fonctions\n",
      "- Les modules et le packaging\n",
      "- Les tests + Documentation\n",
      "- L'approche objet\n",
      "- Projet de manipulation\n",
      "\n",
      "Les travaux pratiques de la formation seront effectu\u00e9s avec la distribution Anaconda (python 2.7)."
     ]
    },
    {
     "cell_type": "markdown",
     "metadata": {
      "internals": {
       "slide_helper": "subslide_end",
       "slide_type": "subslide"
      },
      "slide_helper": "slide_end",
      "slideshow": {
       "slide_type": "slide"
      }
     },
     "source": [
      "#Ce qui sera abord\u00e9 ce matin :\n",
      "-----\n",
      "\n",
      "1. Qu'est ce que Pyhton ?\n",
      "\n",
      "2. La distribution Anaconda\n",
      "\n",
      "3. Initiation \u00e0 la syntaxe de Python\n",
      "\n",
      "4. Les types de donn\u00e9es (containers)\n",
      "\n",
      "5. Les structures de contr\u00f4le\n"
     ]
    },
    {
     "cell_type": "markdown",
     "metadata": {
      "internals": {
       "slide_helper": "subslide_end",
       "slide_type": "subslide"
      },
      "slide_helper": "slide_end",
      "slideshow": {
       "slide_type": "slide"
      }
     },
     "source": [
      "#Plan\n",
      "-----\n",
      "\n",
      "1. **Qu'est ce que Pyhton ?**\n",
      "    1. Que peut-on faire avec Python ?\n",
      "    2. Les principales caract\u00e9ristiques de ce langage\n",
      "    3. Comment est traduit mon code en langage machine ?\n",
      "    4. Les diff\u00e9rentes versions de Python\n",
      "    5. Les impl\u00e9mentations de Python\n",
      "    6. Les diff\u00e9rents IDE pour Python\n",
      "2. La distribution Anaconda\n",
      "\n",
      "3. Initiation \u00e0 la syntaxe de Python\n",
      "\n",
      "4. Les types de donn\u00e9es (containers)\n",
      "\n",
      "5. Les structures de contr\u00f4le\n"
     ]
    },
    {
     "cell_type": "markdown",
     "metadata": {
      "internals": {
       "slide_type": "subslide"
      },
      "slideshow": {
       "slide_type": "slide"
      }
     },
     "source": [
      "#1. Qu'est ce que Pyhton ?\n",
      "-----\n",
      "\n",
      "Python a \u00e9t\u00e9 cr\u00e9\u00e9 par **Guido van Rossum** en 1989.\n",
      "\n",
      "**Le langage Python :**\n",
      "\n",
      "- est plac\u00e9 sous **une licence libre** proche de la licence BSD2\n",
      "- **fonctionne sur la plupart des plates-formes informatiques**, des supercalculateurs aux ordinateurs centraux, de Windows \u00e0 Unix en passant par GNU/Linux, Mac OS, ou encore Android, iOS, et aussi avec Java ou encore .NET. \n",
      "\n",
      "Il est con\u00e7u pour optimiser la productivit\u00e9 des programmeurs en offrant des outils de haut niveau et une syntaxe simple \u00e0 utiliser.\n",
      "\n",
      "<center>\n",
      "<img src=\"Figures/python-logo-TM.png\" style=\"width:50%\"/>\n",
      "</center>"
     ]
    },
    {
     "cell_type": "markdown",
     "metadata": {
      "internals": {
       "slide_helper": "subslide_end"
      },
      "slide_helper": "slide_end",
      "slideshow": {
       "slide_type": "slide"
      }
     },
     "source": [
      "##1.A Que peut-on faire avec Python ?\n",
      "-----\n",
      "\n",
      "**Web**\n",
      "\n",
      "    Django, TurboGears, Zope, Plone, ...\n",
      "    \n",
      "**Bases de donn\u00e9es**\n",
      "\n",
      "    MySQL, PostgrSQL, Oracle, ...\n",
      "    \n",
      "**R\u00e9seaux**\n",
      "    \n",
      "    TwistedMatrix, PyRO, ...\n",
      "    \n",
      "**UI**\n",
      "    \n",
      "    Gtk, Qt, Tcl/Tk, WxWidgets, Kivy,...\n",
      "    \n",
      "**Repr\u00e9sentation graphique**\n",
      "    \n",
      "    gnuplot, matplotlib, VTK, ...\n",
      "    \n",
      "**Calcul scientifique**\n",
      "    \n",
      "    numpy, scipy, sage, ...\n",
      "..."
     ]
    },
    {
     "cell_type": "markdown",
     "metadata": {
      "internals": {
       "slide_helper": "subslide_end",
       "slide_type": "subslide"
      },
      "slide_helper": "slide_end",
      "slideshow": {
       "slide_type": "slide"
      }
     },
     "source": [
      "##1.B Principales caract\u00e9ristiques de ce langage\n",
      "-----\n",
      "\n",
      "Python est un langage de programmation qui permet de travailler plus vite.\n",
      "\n",
      "- langage de programmation \u00e0 usage g\u00e9n\u00e9ral de haut niveau\n",
      "- riche et polyvalent\n",
      "- interpr\u00e9t\u00e9\n",
      "- ouvert et multiplateforme\n",
      "- facilit\u00e9 d'apprentissage et de mise en oeuvre\n",
      "- diversit\u00e9 des outils de d\u00e9veloppement\n",
      "- stable/mature, tr\u00e8s r\u00e9pandu et \u00e9volutif"
     ]
    },
    {
     "cell_type": "markdown",
     "metadata": {
      "internals": {
       "slide_helper": "subslide_end",
       "slide_type": "subslide"
      },
      "slide_helper": "slide_end",
      "slideshow": {
       "slide_type": "slide"
      }
     },
     "source": [
      "##1.C Comment est traduit mon code en langage machine ?\n",
      "-----\n",
      "\n",
      "Il existe 2 techniques principales pour effectuer la traduction en langage machine de mon code source :\n",
      "\n",
      "- Interpr\u00e9tation\n",
      "<img src=\"Figures/Interpretation.png\" />\n",
      "\n",
      "- Compilation\n",
      "<img src=\"Figures/Compilation.png\" />"
     ]
    },
    {
     "cell_type": "markdown",
     "metadata": {
      "internals": {
       "slide_helper": "subslide_end",
       "slide_type": "subslide"
      },
      "slide_helper": "slide_end",
      "slideshow": {
       "slide_type": "slide"
      }
     },
     "source": [
      "##1.C Comment est traduit mon code en langage machine ?\n",
      "-----\n",
      "\n",
      "** Qu'en est-il pour mon code Python ? **\n",
      "\n",
      "<img src=\"Figures/TraductionPython.png\" />"
     ]
    },
    {
     "cell_type": "markdown",
     "metadata": {
      "internals": {
       "slide_helper": "subslide_end",
       "slide_type": "subslide"
      },
      "slide_helper": "slide_end",
      "slideshow": {
       "slide_type": "slide"
      }
     },
     "source": [
      "##1.D Les diff\u00e9rentes versions de Python\n",
      "-----\n",
      "\n",
      "Il existe deux versions de Python (python 2.x et python 3.x).\n",
      "\n",
      "Les modifications apport\u00e9es sont assez importantes pour qu'un code \u00e9crit en 2.x ne fonctionne pas en 3.x. Pour vous aider \u00e0 transf\u00e9rer vos codes, vous avez \u00e0 disposition un programme [2to3.py](https://docs.python.org/2/library/2to3.html).\n",
      "\n",
      "Nous avons choisi de r\u00e9aliser cette formation sur la version 2.7 et en utilisant la distribution Anaconda. Le choix de la version est important puisqu'il est en \u00e9troite relation avec les modules et paquets dont vous avez besoin."
     ]
    },
    {
     "cell_type": "markdown",
     "metadata": {
      "internals": {
       "slide_helper": "subslide_end",
       "slide_type": "subslide"
      },
      "slide_helper": "slide_end",
      "slideshow": {
       "slide_type": "slide"
      }
     },
     "source": [
      "##1.E Les impl\u00e9mentations de Python\n",
      "-----\n",
      "\n",
      "Il existe plusieurs impl\u00e9mentations de python qui permettent d'\u00e9tendre le langage avec des librairies dans d'autres langages :\n",
      "\n",
      "- **CPython** : L'interpr\u00e9teur de r\u00e9f\u00e9rence de python. Il g\u00e9n\u00e8re du byte-code python (fichier *.pyc) et est \u00e9crit en C; il permet d'\u00e9tendre le langage avec des librairies C.\n",
      "- **Jython** : Interpr\u00e9teur qui permet de coupler du python et du java dans le m\u00eame programme, g\u00e9n\u00e8re du byte-code JAVA.\n",
      "- **IronPython** : Impl\u00e9mentation de python qui vise .Net et Mono, permet de coupler python avec le framework .Net.\n",
      "- **Pypy** : Impl\u00e9mentation de Python en Python; projet de recherche pour obtenir une impl\u00e9mentation plus rapide que l'impl\u00e9mentation de r\u00e9f\u00e9rence (CPython).\n",
      "\n",
      "Plus d'informations sur les impl\u00e9mentations [ici](https://wiki.python.org/moin/PythonImplementations)"
     ]
    },
    {
     "cell_type": "markdown",
     "metadata": {
      "internals": {
       "slide_helper": "subslide_end",
       "slide_type": "subslide"
      },
      "slide_helper": "slide_end",
      "slideshow": {
       "slide_type": "slide"
      }
     },
     "source": [
      "##1.F Les diff\u00e9rents IDE pour Python\n",
      "-----\n",
      "| IDE multi-plateforme | IDE multi-plateforme |\n",
      "|----------------------|----------------------|\n",
      "| [NetBeans](http://wiki.netbeans.org/Python) | [PyCharm](https://www.jetbrains.com/pycharm/) |\n",
      "| [KDevelop](https://www.kdevelop.org) | [PyDev](http://pydev.org) |\n",
      "| [Wing IDE](http://wingware.com) - propri\u00e9taire | [**Spyder**](https://pythonhosted.org/spyder/) |\n",
      "| [IDLE](https://docs.python.org/2/library/idle.html) | [IDLEX](http://idlex.sourceforge.net) |\n",
      "| [IEP](http://www.iep-project.org) | [PTK](http://pythontoolkit.sourceforge.net) |\n",
      "| [PyStudio](https://code.google.com/p/editra-plugins/wiki/PyStudio) | [Eric IDE](http://eric-ide.python-projects.org) |\n",
      "\n",
      "Nous utiliserons **Spyder**. Plus d'informations sur les IDE [ici](https://wiki.python.org/moin/IntegratedDevelopmentEnvironments)"
     ]
    },
    {
     "cell_type": "markdown",
     "metadata": {
      "internals": {
       "slide_helper": "subslide_end",
       "slide_type": "subslide"
      },
      "slide_helper": "slide_end",
      "slideshow": {
       "slide_type": "slide"
      }
     },
     "source": [
      "#Plan\n",
      "-----\n",
      "\n",
      "1. Qu'est ce que Pyhton ?\n",
      "\n",
      "2. **La distribution Anaconda**\n",
      "    1. Description\n",
      "    2. Installation\n",
      "    3. Mise \u00e0 jour\n",
      "    4. Premiers pas sous Spyder\n",
      "    5. Premiers pas \u00e0 l'interpr\u00e9teur int\u00e9ractif\n",
      "3. Initiation \u00e0 la syntaxe de Python\n",
      "\n",
      "4. Les types de donn\u00e9es (containers)\n",
      "\n",
      "5. Les structures de contr\u00f4le\n"
     ]
    },
    {
     "cell_type": "markdown",
     "metadata": {
      "internals": {
       "slide_type": "subslide"
      },
      "slideshow": {
       "slide_type": "slide"
      }
     },
     "source": [
      "#2. La distribution Anaconda\n",
      "-----\n",
      "\n",
      "<img src=\"Figures/Distribution_Anaconda.png\" />\n"
     ]
    },
    {
     "cell_type": "markdown",
     "metadata": {
      "internals": {
       "slide_helper": "subslide_end"
      },
      "slide_helper": "slide_end",
      "slideshow": {
       "slide_type": "-"
      }
     },
     "source": [
      "##2.A Description\n",
      "-----\n",
      " Anaconda est un bundle de Python actuellement tr\u00e8s utilis\u00e9 dans le monde scientifique.\n",
      " \n",
      " D\u00e9velopp\u00e9 par la [soci\u00e9t\u00e9 Continuum Analytics](http://www.continuum.io/about-continuum), non \"libre\" mais gratuit dans sa version de base, il a l'avantage d'\u00eatre multiplateforme (Windows, MacOSX et GNU/Linux) et d'int\u00e9grer une grande quantit\u00e9 d'outils et packages Python, notamment : IPython, Spyder, NumPy, SciPy, MatplotLib, Pandas, Sympy, PIP... (voir la [liste compl\u00e8te](http://docs.continuum.io/anaconda/pkg-docs.html)).\n",
      " "
     ]
    },
    {
     "cell_type": "markdown",
     "metadata": {
      "internals": {
       "slide_helper": "subslide_end",
       "slide_type": "subslide"
      },
      "slide_helper": "slide_end",
      "slideshow": {
       "slide_type": "slide"
      }
     },
     "source": [
      "##2.B Installation\n",
      "-----\n",
      "\n",
      "- **Syst\u00e8me linux**\n",
      "\n",
      "Apr\u00e8s t\u00e9l\u00e9chargement de l'installateur Anaconda, ouvrir un terminal et naviguer au r\u00e9pertoire ou dossier o\u00f9 l'installateur a \u00e9t\u00e9 t\u00e9l\u00e9charg\u00e9. A partir de l\u00e0, lancer la commande suivante en rempla\u00e7ant le \"2.x.x\" dans la commande avec le num\u00e9ro de version du fichier de l'installateur t\u00e9l\u00e9charg\u00e9 :\n",
      "\n",
      "> bash Anaconda-2.x.x-Linux-x86[_64].sh\n",
      "\n",
      "Apr\u00e8s l'acceptation des termes de licence, il vous sera demand\u00e9 de sp\u00e9cifier le lieu de l'installation (par d\u00e9faut ~/anaconda).\n",
      "\n",
      " **Note** : Vous n'avez pas besoin d'avoir les privil\u00e8ges root pour installer Anaconda. Il suffit juste d'avoir les droits en \u00e9criture sur le lieu de l'installation, comme ~/anaconda\n",
      "\n",
      "Une fois l'installation termin\u00e9e, vous pourrez accepter d'ajouter le r\u00e9pertoire binaire anaconda \u00e0 votre variable de chemin d'acc\u00e8s.\n",
      "\n",
      "Comme tout ce qui concerne Anaconda est dans un simple r\u00e9pertoire, d\u00e9sinstaller Anaconda est simple (vous supprimer simplement le r\u00e9pertoire entier o\u00f9 anaconda a \u00e9t\u00e9 install\u00e9)."
     ]
    },
    {
     "cell_type": "markdown",
     "metadata": {
      "internals": {
       "slide_type": "subslide"
      },
      "slideshow": {
       "slide_type": "slide"
      }
     },
     "source": [
      "##2.B Installation\n",
      "-----\n",
      "\n",
      "- **Syst\u00e8me Mac (64 bit, 10.5 et plus)** et **Syst\u00e8me Windows**\n",
      "\n",
      "T\u00e9l\u00e9charger l'installateur Anaconda et double cliquer dessus pour l'installer.\n",
      "\n",
      "Suiver les instructions...\n",
      "\n",
      "Sous Mac, comme tout ce qui concerne Anaconda est dans un simple r\u00e9pertoire, d\u00e9sinstaller Anaconda est simple (vous supprimer simplement le r\u00e9pertoire entier o\u00f9 anaconda a \u00e9t\u00e9 install\u00e9).\n",
      "\n",
      "Sous Windows, si vous rencontrez un probl\u00e8me \u00e0 l'installation, essayer sans anti-virus actif. Pour d\u00e9sinstaller Anaconda, c'est comme n'importe quel autre logiciel en passant par le panneau de configuration."
     ]
    },
    {
     "cell_type": "markdown",
     "metadata": {
      "internals": {
       "slide_helper": "subslide_end"
      },
      "slide_helper": "slide_end",
      "slideshow": {
       "slide_type": "-"
      }
     },
     "source": [
      "##2.C Mise \u00e0 jour\n",
      "-----\n",
      "\n",
      "Pour mettre \u00e0 jour votre version d'Anaconda, vous pouvez facilement mettre \u00e0 jour \u00e0 la derni\u00e8re version en tappant :\n",
      "\n",
      "> conda update conda\n",
      "\n",
      "> conda update anaconda"
     ]
    },
    {
     "cell_type": "markdown",
     "metadata": {
      "internals": {
       "slide_helper": "subslide_end",
       "slide_type": "subslide"
      },
      "slide_helper": "slide_end",
      "slideshow": {
       "slide_type": "slide"
      }
     },
     "source": [
      "##2.D Premiers pas avec Spyder\n",
      "-----\n",
      "<img src=\"Figures/PythonSpyder.jpeg\" />"
     ]
    },
    {
     "cell_type": "markdown",
     "metadata": {
      "internals": {
       "slide_helper": "subslide_end",
       "slide_type": "subslide"
      },
      "slide_helper": "slide_end",
      "slideshow": {
       "slide_type": "slide"
      }
     },
     "source": [
      "##2.D Premiers pas avec Spyder\n",
      "-----\n",
      "\n",
      "**Spyder** (Scientific PYthon Development EnviRonment) est un IDE orient\u00e9 vers un usage scientifique de Python.\n",
      "\n",
      "Il est dot\u00e9 de fonctionnalit\u00e9s avanc\u00e9es :\n",
      "    - d'\u00e9dition, \n",
      "    - de debugging, \n",
      "    - d'introspection et\n",
      "    - de profiling. \n",
      "\n",
      "Un environnement familier pour les utilisateurs de matlab :\n",
      "    - Console, \n",
      "    - Editeur,\n",
      "    - Explorateur de variable,\n",
      "    - Explorateur de fichier,\n",
      "    - Historique, \n",
      "    - Aide en ligne... \n",
      "    \n",
      "Multiplateforme, cet IDE est lui-m\u00eame \u00e9crit en Python et s'appuie sur le toolkit graphique multiplateforme Qt (n\u00e9cessitant les packages PyQt ou PySide). Cet IDE est notamment int\u00e9gr\u00e9 aux bundles WinPython."
     ]
    },
    {
     "cell_type": "markdown",
     "metadata": {
      "internals": {
       "slide_helper": "subslide_end",
       "slide_type": "subslide"
      },
      "slide_helper": "slide_end",
      "slideshow": {
       "slide_type": "slide"
      }
     },
     "source": [
      "## 2.E Premiers pas \u00e0 l'interpr\u00e9teur int\u00e9ractif\n",
      "-----\n",
      "\n",
      "Ce matin le cours va se poursuivre sous Spyder et plus particuli\u00e8rement [IPython](http://ipython.org).\n",
      "\n",
      "IPython est un interpr\u00e9teur Python \u00e0 la diff\u00e9rence qu'il offre :\n",
      "\n",
      "- chercher une m\u00e9thode dans un module ou un namespace, \n",
      "- afficher le prototype d'une m\u00e9thode ou d'une fonction, \n",
      "- la compl\u00e9tion dans l'espace de nom local et\n",
      "- l'historique des commandes.\n",
      "\n",
      "Dans IPython, on acc\u00e8de \u00e0 l'aide en tappant **help()** et on quitte l'aide avec la commande **quit**"
     ]
    },
    {
     "cell_type": "markdown",
     "metadata": {
      "slideshow": {
       "slide_type": "slide"
      }
     },
     "source": [
      "## 2.E Premiers pas \u00e0 l'interpr\u00e9teur int\u00e9ractif\n",
      "-----\n",
      "\n",
      "L'aide dans IPython, c'est aussi :\n",
      "\n",
      "- **help(\"topics\")** : \u00e9num\u00e8re les diff\u00e9rents \"concepts\" Python au sujet desquels on peut demander de l'aide ; frapper ensuite\n",
      "- **help(\"SUJET\")** pour avoir de l'aide sur le SUJET souhait\u00e9\n",
      "- **help(objet)** : affiche des informations sur l'objet Python sp\u00e9cifi\u00e9 (variable, fonction...) tel que son type, ses m\u00e9thodes...\n",
      "- **help(\"module\")** : affiche l'aide relative au module sp\u00e9cifi\u00e9 ; si le module est import\u00e9 on peut directement faire help(module) (sans guillements)\n",
      "- **help(\"module.objet\")** : affiche directement l'aide relative \u00e0 l'objet sp\u00e9cifi\u00e9 du module\n",
      "\n",
      "Pour vous donner une id\u00e9e tapper :"
     ]
    },
    {
     "cell_type": "code",
     "collapsed": false,
     "input": [
      "help(\"print\")\n",
      "print \"Hello World !\"\n",
      "1+1"
     ],
     "language": "python",
     "metadata": {},
     "outputs": []
    },
    {
     "cell_type": "markdown",
     "metadata": {
      "internals": {
       "slide_helper": "subslide_end",
       "slide_type": "subslide"
      },
      "slide_helper": "slide_end",
      "slideshow": {
       "slide_type": "slide"
      }
     },
     "source": [
      "#Plan\n",
      "-----\n",
      "\n",
      "1. Qu'est ce que Pyhton ?\n",
      "\n",
      "2. La distribution Anaconda\n",
      "\n",
      "3. **Initiation \u00e0 la syntaxe de Python**\n",
      "    1. Les types simples\n",
      "    2. Interaction avec l'\u00e9cran et le clavier\n",
      "    3. Instruction sur plusieurs lignes et commentaires\n",
      "    4. Assignation simple et multiple\n",
      "    5. R\u00e9f\u00e9rencement\n",
      "    6. Op\u00e9rateurs de base\n",
      "    7. Op\u00e9rateurs de comparaison, d'objets et de logiques\n",
      "4. Les types de donn\u00e9es (containers)\n",
      "\n",
      "5. Les structures de contr\u00f4le\n"
     ]
    },
    {
     "cell_type": "markdown",
     "metadata": {
      "slideshow": {
       "slide_type": "slide"
      }
     },
     "source": [
      "# 3. Initiation \u00e0 la syntaxe de python\n",
      "-----"
     ]
    },
    {
     "cell_type": "markdown",
     "metadata": {
      "slideshow": {
       "slide_type": "subslide"
      }
     },
     "source": [
      "Le nom des variables en Python doit satisfaire plusieurs crit\u00e8res\n",
      "\n",
      " - il ne doit pas commencer par un chiffre,\n",
      " - les miniscules et les majuscules sont dissoci\u00e9es,\n",
      " - il ne doit pas y avoir de caract\u00e8res accentu\u00e9s.\n",
      "\n",
      "Le dernier crit\u00e8re n'est plus \u00e0 v\u00e9rifier dans la version 3.x puisqu'il travaille en unicode.\n",
      "\n",
      "Le langage Python est bas\u00e9 sur un certain nombre de documents proposant des am\u00e9liorations du langage: les PEPs.\n",
      "\n",
      "Le guide des bonnes pratiques concernant l'\u00e9criture de code Python est d\u00e9fini dans le PEP8.\n",
      "\n",
      "Python est sensible aux noms des variables. Il n'aime pas les accents (th\u00e9oriquement plus avec python 3 puisqu'il travaille en unicode) mais diff\u00e9rencie les minuscules des majuscules. Nous resterons en ASCII pour \u00e9viter tout litige."
     ]
    },
    {
     "cell_type": "markdown",
     "metadata": {
      "internals": {
       "slide_helper": "subslide_end",
       "slide_type": "subslide"
      },
      "slide_helper": "slide_end",
      "slideshow": {
       "slide_type": "subslide"
      }
     },
     "source": [
      "Comme tout langage, Python a ses mots cl\u00e9s :\n",
      "~~~python\n",
      "help(\"keywords\")\n",
      "~~~\n",
      "\n",
      "    False       def         if          raise\n",
      "    None        del         import      return\n",
      "    True        elif        in          try\n",
      "    and         else        is          while\n",
      "    as          except      lambda      with\n",
      "    assert      finally     nonlocal    yield\n",
      "    break       for         not                 \n",
      "    class       from        or                  \n",
      "    continue    global      pass                \n",
      "\n",
      "Nous allons maintenant voir **les types simples** et **les types containers**"
     ]
    },
    {
     "cell_type": "markdown",
     "metadata": {
      "internals": {
       "slide_helper": "subslide_end",
       "slide_type": "subslide"
      },
      "slide_helper": "slide_end",
      "slideshow": {
       "slide_type": "slide"
      }
     },
     "source": [
      "## 3.A Les types simples\n",
      "-----\n",
      "\n",
      "4 types simples : **bool\u00e9en, entier**, r\u00e9el et complexe flottant\n",
      "\n",
      "- **Bool\u00e9en**\n",
      "    ~~~python\n",
      "    # le type bool\u00e9en prend les valeurs True ou False\n",
      "    logique = True\n",
      "    logique = False\n",
      "    type(logique)\n",
      "    ~~~\n",
      "\n",
      "- **Entier**\n",
      "    ~~~python\n",
      "    # int : entier de pr\u00e9cision illimit\u00e9e !\n",
      "    a = 2 ; i = -12\n",
      "    v = 2**80         # => 1208925819614629174706176\n",
      "      # d\u00e9finition d'entiers en binaire, octal ou hexad\u00e9c.:\n",
      "    k = 0b111         # => 7\n",
      "    m = 0o77          # => 63\n",
      "    n = 0xff          # => 255\n",
      "      # conv. cha\u00eenes bin/octal/hexa en entier & vice-versa:\n",
      "    int('111',2)  # => 7,   et inverse: bin(7)   => '0b111'\n",
      "    int('77',8)   # => 63,  et inverse: oct(63)  => '0o77'\n",
      "    int('ff',16)  # => 255, et inverse: hex(255) => '0xff'\n",
      "    ~~~\n",
      "    \n",
      "- *Remarque 1* : Vous aurez remarqu\u00e9 l'absence de \";\" en fin de ligne. Il n'est utilis\u00e9 que si il y a plusieurs instructions sur la m\u00eame ligne\n",
      "- *Remarque 2* : La fonction **type()** vous permet de connaitre le type de la variable\n",
      "- *Remarque 3* : le symbole **#** permet d'\u00e9crire un commentaire jusqu'au retour \u00e0 la ligne"
     ]
    },
    {
     "cell_type": "markdown",
     "metadata": {
      "slideshow": {
       "slide_type": "slide"
      }
     },
     "source": [
      "## 3.A Les types simples\n",
      "-----\n",
      "\n",
      "4 types simples:\n",
      "\n",
      "- bool\u00e9en,\n",
      "- entier, \n",
      "- r\u00e9el,\n",
      "- complexe."
     ]
    },
    {
     "cell_type": "markdown",
     "metadata": {
      "slideshow": {
       "slide_type": "slide"
      }
     },
     "source": [
      "###Les bool\u00e9ens"
     ]
    },
    {
     "cell_type": "code",
     "collapsed": false,
     "input": [
      "# le type bool\u00e9en prend les valeurs True ou False\n",
      "logique = True\n",
      "logique = False\n",
      "type(logique)"
     ],
     "language": "python",
     "metadata": {},
     "outputs": []
    },
    {
     "cell_type": "markdown",
     "metadata": {
      "slideshow": {
       "slide_type": "slide"
      }
     },
     "source": [
      "###Les entiers"
     ]
    },
    {
     "cell_type": "code",
     "collapsed": false,
     "input": [
      "a = 2 ; i = -12\n",
      "# int : entier de pr\u00e9cision illimit\u00e9e !\n",
      "v = 2**80         # => 1208925819614629174706176\n",
      "# d\u00e9finition d'entiers en binaire, octal ou hexad\u00e9c.:\n",
      "k = 0b111         # => 7\n",
      "m = 0o77          # => 63\n",
      "n = 0xff          # => 255\n",
      "# conv. cha\u00eenes bin/octal/hexa en entier & vice-versa:\n",
      "int('111',2)  # => 7,   et inverse: bin(7)   => '0b111'\n",
      "int('77',8)   # => 63,  et inverse: oct(63)  => '0o77'\n",
      "int('ff',16)  # => 255, et inverse: hex(255) => '0xff'   "
     ],
     "language": "python",
     "metadata": {},
     "outputs": []
    },
    {
     "cell_type": "markdown",
     "metadata": {
      "slideshow": {
       "slide_type": "subslide"
      }
     },
     "source": [
      "Quelques remarques\n",
      "\n",
      "  - ; n'est utilis\u00e9 que si il y a plusieurs instructions sur la m\u00eame ligne.\n",
      "  - La fonction type() vous permet de conna\u00eetre le type de la variable.\n",
      "  - Le symbole # permet d'\u00e9crire un commentaire jusqu'au retour \u00e0 la ligne."
     ]
    },
    {
     "cell_type": "markdown",
     "metadata": {
      "slideshow": {
       "slide_type": "slide"
      }
     },
     "source": [
      "###R\u00e9el\n",
      "\n",
      "Les r\u00e9els sont cod\u00e9s en double precision (64 bits). "
     ]
    },
    {
     "cell_type": "code",
     "collapsed": false,
     "input": [
      "b = -3.3 ; r = 3e10\n",
      "abs(b)            # => 3.3\n",
      "# arrondi et conversion\n",
      "int(3.67)         # => 3 (int)\n",
      "int(-3.67)        # => -4 (int)\n",
      "round(3.67)       # => 4 (int), comme round(3.67, 0)\n",
      "round(3.67,1)     # => 3.7 (float)\n",
      "round(133,-1)     # => 130 (int)\n",
      "round(133,-2)     # => 100 (int)"
     ],
     "language": "python",
     "metadata": {},
     "outputs": []
    },
    {
     "cell_type": "markdown",
     "metadata": {
      "slideshow": {
       "slide_type": "slide"
      }
     },
     "source": [
      "###Complexe flottant"
     ]
    },
    {
     "cell_type": "code",
     "collapsed": false,
     "input": [
      "cplx = 3.4 + 2.1j # ou:  cplx = complex(3.4, 2.1)\n",
      "cplx.real         # => 3.4\n",
      "cplx.imag         # => 2.1"
     ],
     "language": "python",
     "metadata": {},
     "outputs": []
    },
    {
     "cell_type": "markdown",
     "metadata": {
      "internals": {
       "slide_helper": "subslide_end",
       "slide_type": "subslide"
      },
      "slide_helper": "slide_end",
      "slideshow": {
       "slide_type": "-"
      }
     },
     "source": [
      "**Remarque** : Python est un langage objet. Vous verrez qu'il existe des m\u00e9thodes associ\u00e9s \u00e0 un type comme ici pour les nombres complexes"
     ]
    },
    {
     "cell_type": "markdown",
     "metadata": {
      "internals": {
       "slide_type": "subslide"
      },
      "slideshow": {
       "slide_type": "slide"
      }
     },
     "source": [
      "## 3.B Interaction avec l'\u00e9cran et le clavier\n",
      "-----\n",
      "\n",
      "Deux fonctions vont nous \u00eatre utiles : `print` et `input`\n",
      "\n",
      "    - print arguments\n",
      "    - input(prompt) \n",
      "\n",
      " - Attention, si vous souhaitez entrer une chaine de caract\u00e8re, il vous faudra utiliser les quotes ou les doubles quotes.\n"
     ]
    },
    {
     "cell_type": "code",
     "collapsed": false,
     "input": [
      "help(\"print\")\n",
      "help(\"input\")"
     ],
     "language": "python",
     "metadata": {},
     "outputs": []
    },
    {
     "cell_type": "code",
     "collapsed": false,
     "input": [
      "a=3\n",
      "b=2\n",
      "print 'Le produit de', a, 'et', b, 'est', a*b\n",
      "print 'Le produit de %d et %e est %e'%(a, b, a*b)\n",
      "print 'Le produit de {0} et {1:.3f} est {2:.3f}'.format(a, b, a*b)"
     ],
     "language": "python",
     "metadata": {
      "internals": {},
      "slideshow": {
       "slide_type": "-"
      }
     },
     "outputs": []
    },
    {
     "cell_type": "code",
     "collapsed": false,
     "input": [
      "nom = raw_input(\"Quel est votre nom ?\")"
     ],
     "language": "python",
     "metadata": {
      "internals": {},
      "slideshow": {
       "slide_type": "-"
      }
     },
     "outputs": []
    },
    {
     "cell_type": "code",
     "collapsed": false,
     "input": [
      "age = raw_input(\"Quel \u00e2ge avez-vous ?\")"
     ],
     "language": "python",
     "metadata": {
      "internals": {},
      "slideshow": {
       "slide_type": "-"
      }
     },
     "outputs": []
    },
    {
     "cell_type": "code",
     "collapsed": false,
     "input": [
      "type(age)"
     ],
     "language": "python",
     "metadata": {
      "internals": {},
      "slideshow": {
       "slide_type": "-"
      }
     },
     "outputs": []
    },
    {
     "cell_type": "code",
     "collapsed": false,
     "input": [
      "print bin(age)\n",
      "print hex(age)"
     ],
     "language": "python",
     "metadata": {
      "internals": {
       "slide_helper": "subslide_end"
      },
      "slide_helper": "slide_end",
      "slideshow": {
       "slide_type": "-"
      }
     },
     "outputs": []
    },
    {
     "cell_type": "markdown",
     "metadata": {
      "internals": {
       "slide_type": "subslide"
      },
      "slideshow": {
       "slide_type": "slide"
      }
     },
     "source": [
      "## 3.C Instruction sur plusieurs lignes et commentaires\n",
      "-----\n",
      "\n",
      "Imaginons que nous sommes des linguistes, on veut \u00e9tudier la premi\u00e8re phrase de pr\u00e9sentation du CNRS :\n",
      "\n",
      "\"Le Centre national de la recherche scientifique est un organisme public de recherche  (Etablissement public \u00e0 caract\u00e8re scientifique et technologique, plac\u00e9 sous la tutelle du Minist\u00e8re de l'\u00c9ducation nationale, de l'Enseignement sup\u00e9rieur et de la Recherche). Il produit du savoir et met ce savoir au service de la soci\u00e9t\u00e9.\"\n",
      "\n",
      "- Faites afficher cette phrase : print \"blabla\""
     ]
    },
    {
     "cell_type": "code",
     "collapsed": false,
     "input": [
      "print \"Le Centre national de la recherche scientifique est un organisme public de recherche (Etablissement public \u00e0 caract\u00e8re scientifique et technologique, plac\u00e9 sous la tutelle du Minist\u00e8re de l'\u00c9ducation nationale, de l'Enseignement sup\u00e9rieur et de la Recherche).\""
     ],
     "language": "python",
     "metadata": {
      "internals": {},
      "slideshow": {
       "slide_type": "-"
      }
     },
     "outputs": []
    },
    {
     "cell_type": "markdown",
     "metadata": {
      "internals": {},
      "slideshow": {
       "slide_type": "-"
      }
     },
     "source": [
      "Pour des raisons de libilit\u00e9 et de portabilit\u00e9, le [guide de style Python](https://www.python.org/dev/peps/pep-0008/#maximum-line-length) recommande de ne pas d\u00e9passer 79 caract\u00e8res sur une ligne de code..."
     ]
    },
    {
     "cell_type": "code",
     "collapsed": false,
     "input": [
      "print 'Le Centre national de la recherche scientifique est un organisme public de recherche \\\n",
      "(Etablissement public \u00e0 caract\u00e8re scientifique et technologique, plac\u00e9 sous la tutelle \\\n",
      "du Minist\u00e8re de l'\u00c9ducation nationale, de l'Enseignement sup\u00e9rieur et de la Recherche)'"
     ],
     "language": "python",
     "metadata": {
      "internals": {},
      "slideshow": {
       "slide_type": "-"
      }
     },
     "outputs": []
    },
    {
     "cell_type": "markdown",
     "metadata": {
      "internals": {
       "slide_helper": "subslide_end"
      },
      "slide_helper": "slide_end",
      "slideshow": {
       "slide_type": "-"
      }
     },
     "source": [
      "Essayer en utilisant des apostrophes \u00e0 la place des guillemets..."
     ]
    },
    {
     "cell_type": "markdown",
     "metadata": {
      "internals": {
       "slide_type": "subslide"
      },
      "slideshow": {
       "slide_type": "slide"
      }
     },
     "source": [
      "## 3.C Instruction sur plusieurs lignes et commentaires\n",
      "-----"
     ]
    },
    {
     "cell_type": "code",
     "collapsed": false,
     "input": [
      "print 'pourtant ca marche avec ces apostrophes'"
     ],
     "language": "python",
     "metadata": {
      "internals": {},
      "slideshow": {
       "slide_type": "-"
      }
     },
     "outputs": []
    },
    {
     "cell_type": "markdown",
     "metadata": {
      "internals": {},
      "slideshow": {
       "slide_type": "-"
      }
     },
     "source": [
      "Vous avez des apostrophes dans votre chaine de caract\u00e8res, utilisez les guillemets :"
     ]
    },
    {
     "cell_type": "code",
     "collapsed": false,
     "input": [
      "print \"Puisqu'il pleut, jusqu'\u00e0 demain, c'est...\""
     ],
     "language": "python",
     "metadata": {
      "internals": {},
      "slideshow": {
       "slide_type": "-"
      }
     },
     "outputs": []
    },
    {
     "cell_type": "markdown",
     "metadata": {},
     "source": [
      "Pour les commentaires sur plusieurs lignes, vous pouvez utiliser le triple guillement ou le triple apostrophe..."
     ]
    },
    {
     "cell_type": "code",
     "collapsed": false,
     "input": [
      "\"\"\"\n",
      "ceci est un commentaire sur\n",
      "plusieurs lignes\n",
      "\"\"\"\n",
      "'''\n",
      "ceci est un autre commentaire sur\n",
      "plusieurs lignes\n",
      "'''\n",
      "# Rappel : celui-ci n'est valable que jusqu'\u00e0 la fin de la ligne\n"
     ],
     "language": "python",
     "metadata": {},
     "outputs": []
    },
    {
     "cell_type": "code",
     "collapsed": false,
     "input": [
      "a = ( 3\n",
      "     + 4)\n",
      "print a"
     ],
     "language": "python",
     "metadata": {},
     "outputs": []
    },
    {
     "cell_type": "markdown",
     "metadata": {
      "slideshow": {
       "slide_type": "slide"
      }
     },
     "source": [
      "## 3.D Assignation simple et multiple\n",
      "-----\n",
      "\n",
      "L'assignation se fait avec le signe \"**=**\""
     ]
    },
    {
     "cell_type": "code",
     "collapsed": false,
     "input": [
      "# Que valent a et b ?\n",
      "a=2;b=3\n",
      "a,b=2,3\n",
      "print a, b\n",
      "a = b = 4\n",
      "print a, b\n",
      "a,b=b,a"
     ],
     "language": "python",
     "metadata": {},
     "outputs": []
    },
    {
     "cell_type": "markdown",
     "metadata": {},
     "source": [
      "On reviendra sur les tuples mais voici un exemple :"
     ]
    },
    {
     "cell_type": "code",
     "collapsed": false,
     "input": [
      "tuple1=(1,'python')\n",
      "x,y=tuple1\n",
      "# Que valent x et y ?\n",
      "print x, y\n",
      "print type(x)\n",
      "type(y)"
     ],
     "language": "python",
     "metadata": {},
     "outputs": []
    },
    {
     "cell_type": "markdown",
     "metadata": {
      "slideshow": {
       "slide_type": "slide"
      }
     },
     "source": [
      "## 3.E R\u00e9f\u00e9rencement"
     ]
    },
    {
     "cell_type": "code",
     "collapsed": false,
     "input": [
      "x='python'   # cr\u00e9ation de la donn\u00e9e \"python\" r\u00e9f\u00e9renc\u00e9 par \"x\"\n",
      "print type(x)      # l'OBJET r\u00e9f\u00e9renc\u00e9 est de type \"str\"\n",
      "print id(x)        # 4297861808 (adresse m\u00e9moire)\n",
      "y=x          # nouvelle variable pointant sur la m\u00eame donn\u00e9e\n",
      "print id(y)# 4297861808 (m\u00eame adresse m\u00e9moire)\n",
      "print x\n",
      "print y\n",
      "x[2] = \"x\"\n",
      "print x\n",
      "print y\n",
      "x=123        # cr\u00e9ation de la donn\u00e9e \"123\" et changement de r\u00e9f\u00e9rencement pour \"x\"\n",
      "print type(x)      # l'OBJET r\u00e9f\u00e9renc\u00e9 est de type \"int\"\n",
      "print id(x)  # 4299222384 (x pointe vers une autre adresse m\u00e9moire)\n",
      "print y\n",
      "del(y)       # on supprime le r\u00e9f\u00e9rencement de y sur la donn\u00e9e \"python\"\n",
      "             # le garbage collector supprimera la donn\u00e9e automatiquement\n",
      "             # lib\u00e9rant ainsi de la m\u00e9moire..."
     ],
     "language": "python",
     "metadata": {},
     "outputs": []
    },
    {
     "cell_type": "markdown",
     "metadata": {
      "internals": {
       "slide_type": "subslide"
      },
      "slideshow": {
       "slide_type": "slide"
      }
     },
     "source": [
      "## 3.F Op\u00e9rateurs de base\n",
      "-----\n",
      "\n",
      "Les op\u00e9rateurs math\u00e9matiques de bases sont :\n",
      "\n",
      "- les classiques : ** + - / \\* **\n",
      "- la division enti\u00e8re tronqu\u00e9e : //\n",
      "- la puissance : \\**\n",
      "- le modulo : %"
     ]
    },
    {
     "cell_type": "code",
     "collapsed": false,
     "input": [
      "print 3+2\n",
      "print 3-2\n",
      "print 3*2"
     ],
     "language": "python",
     "metadata": {
      "internals": {},
      "slideshow": {
       "slide_type": "-"
      }
     },
     "outputs": []
    },
    {
     "cell_type": "code",
     "collapsed": false,
     "input": [
      "print 3/2\n",
      "print 3/2.\n",
      "print 3//2"
     ],
     "language": "python",
     "metadata": {
      "internals": {},
      "slideshow": {
       "slide_type": "-"
      }
     },
     "outputs": []
    },
    {
     "cell_type": "markdown",
     "metadata": {},
     "source": [
      "**Remarque**: dans Python 3.x, la division de base est la division flottante et non la division enti\u00e8re. Si vous voulez par d\u00e9faut le division flottante dans Python 2.x, il vous suffit de faire"
     ]
    },
    {
     "cell_type": "code",
     "collapsed": false,
     "input": [
      "from __future__ import division\n",
      "print 3/2"
     ],
     "language": "python",
     "metadata": {},
     "outputs": []
    },
    {
     "cell_type": "code",
     "collapsed": false,
     "input": [
      "print 10**2\n",
      "print 3%2"
     ],
     "language": "python",
     "metadata": {
      "internals": {},
      "slideshow": {
       "slide_type": "-"
      }
     },
     "outputs": []
    },
    {
     "cell_type": "markdown",
     "metadata": {
      "internals": {},
      "slideshow": {
       "slide_type": "-"
      }
     },
     "source": [
      "On pourra noter que la fonction divmod(a,b) renvoie le tuple (a//b,a%b)"
     ]
    },
    {
     "cell_type": "code",
     "collapsed": false,
     "input": [
      "divmod(3,2)"
     ],
     "language": "python",
     "metadata": {
      "internals": {
       "slide_helper": "subslide_end"
      },
      "slide_helper": "slide_end",
      "slideshow": {
       "slide_type": "-"
      }
     },
     "outputs": []
    },
    {
     "cell_type": "markdown",
     "metadata": {
      "internals": {
       "slide_type": "subslide"
      },
      "slideshow": {
       "slide_type": "slide"
      }
     },
     "source": [
      "## 3.F Op\u00e9rateurs de base\n",
      "-----\n",
      "\n",
      "Les op\u00e9rateurs \"**+**\" et \"** \\* **\" s'appliquent aussi aux s\u00e9quences (cha\u00eenes, listes, tuples)"
     ]
    },
    {
     "cell_type": "code",
     "collapsed": false,
     "input": [
      "2*'a tchick ' + 3*'aie '"
     ],
     "language": "python",
     "metadata": {
      "internals": {},
      "slideshow": {
       "slide_type": "-"
      }
     },
     "outputs": []
    },
    {
     "cell_type": "markdown",
     "metadata": {},
     "source": [
      "Les op\u00e9rateurs pr\u00e9- et post-incr\u00e9mentations **++** et **--** n'existe pas en python. On utilisera \u00e0 la place le **+=1** et le **-=1**"
     ]
    },
    {
     "cell_type": "code",
     "collapsed": false,
     "input": [
      "# Que vous renvoie :\n",
      "x=10\n",
      "x+=1\n",
      "x-=1\n",
      "x*=5\n",
      "x/=10\n",
      "x%=2\n",
      "\n",
      "fruit = 'pomme'\n",
      "fruit+='s'\n",
      "\n",
      "monTuple=(1,2,3)\n",
      "monTuple+=(4,)\n",
      "monTuple*=2"
     ],
     "language": "python",
     "metadata": {},
     "outputs": []
    },
    {
     "cell_type": "markdown",
     "metadata": {
      "slideshow": {
       "slide_type": "slide"
      }
     },
     "source": [
      "## 3.F Op\u00e9rateurs de base\n",
      "-----"
     ]
    },
    {
     "cell_type": "code",
     "collapsed": false,
     "input": [
      "x=10                # renvoie 10\n",
      "x+=1                # renvoie 11\n",
      "x-=1                # renvoie 10\n",
      "x*=5                # renvoie 50\n",
      "x/=10               # renvoie 5\n",
      "x%=2                # renvoie 1\n",
      "\n",
      "fruit = 'pomme'     # renvoie \"pomme\"\n",
      "fruit+='s'          # renvoie \"pommes\"\n",
      "\n",
      "monTuple=(1,2,3)    # renvoie (1,2,3)\n",
      "print monTuple\n",
      "monTuple+=(4,)      # renvoie (1,2,3,4)\n",
      "print monTuple\n",
      "monTuple*=2         # renvoie (1,2,3,4,1,2,3,4)"
     ],
     "language": "python",
     "metadata": {},
     "outputs": []
    },
    {
     "cell_type": "markdown",
     "metadata": {
      "slideshow": {
       "slide_type": "slide"
      }
     },
     "source": [
      "## 3.G Op\u00e9rateurs de comparaison, d'objets et de logiques\n",
      "-----\n",
      "\n",
      "- Op\u00e9rateurs de comparaison\n",
      "\n",
      "| op\u00e9rateur |\n",
      "|-----------|\n",
      "| **==** | \u00e9gal              |\n",
      "| **!=** | diff\u00e9rent         |\n",
      "| **<**  | inf\u00e9rieur         |\n",
      "| **<=** | inf\u00e9rieur ou \u00e9gal |\n",
      "| **>**  | sup\u00e9rieur         |\n",
      "| **>=** | sup\u00e9rieur ou \u00e9gal |\n",
      "\n",
      "- Op\u00e9rateurs d'objets\n",
      "\n",
      "| op\u00e9rateur |\n",
      "|-----------|\n",
      "| is | m\u00eame objet          |\n",
      "| in | membre du container |"
     ]
    },
    {
     "cell_type": "markdown",
     "metadata": {
      "internals": {
       "slide_helper": "subslide_end",
       "slide_type": "subslide"
      },
      "slide_helper": "slide_end",
      "slideshow": {
       "slide_type": "subslide"
      }
     },
     "source": [
      "- Op\u00e9rateurs de logiques\n",
      "\n",
      "| op\u00e9rateur |\n",
      "|-----------|\n",
      "| not | n\u00e9gation logique |\n",
      "| and | ET logique |\n",
      "| or  | OU logique |"
     ]
    },
    {
     "cell_type": "markdown",
     "metadata": {
      "internals": {
       "slide_type": "subslide"
      },
      "slideshow": {
       "slide_type": "slide"
      }
     },
     "source": [
      "## 3.G Op\u00e9rateurs de comparaison, d'objets et de logiques\n",
      "-----\n",
      "\n",
      "Ces op\u00e9rateurs renvoient les valeurs logiques **True** ou **False** qui sont de type bool\u00e9en."
     ]
    },
    {
     "cell_type": "code",
     "collapsed": false,
     "input": [
      "a, b = 1, 2\n",
      "a<b"
     ],
     "language": "python",
     "metadata": {
      "internals": {},
      "slideshow": {
       "slide_type": "-"
      }
     },
     "outputs": []
    },
    {
     "cell_type": "code",
     "collapsed": false,
     "input": [
      "[\"a\",1,\"b\"] == [1,2,3]"
     ],
     "language": "python",
     "metadata": {
      "internals": {},
      "slideshow": {
       "slide_type": "-"
      }
     },
     "outputs": []
    },
    {
     "cell_type": "code",
     "collapsed": false,
     "input": [
      "a, b = [1,2], [1,2]\n",
      "a is b"
     ],
     "language": "python",
     "metadata": {
      "internals": {},
      "slideshow": {
       "slide_type": "-"
      }
     },
     "outputs": []
    },
    {
     "cell_type": "code",
     "collapsed": false,
     "input": [
      "a=b=[1,2]\n",
      "a is b"
     ],
     "language": "python",
     "metadata": {
      "internals": {},
      "slideshow": {
       "slide_type": "-"
      }
     },
     "outputs": []
    },
    {
     "cell_type": "code",
     "collapsed": false,
     "input": [
      "2 in [1,2,3]"
     ],
     "language": "python",
     "metadata": {
      "internals": {},
      "slideshow": {
       "slide_type": "-"
      }
     },
     "outputs": []
    },
    {
     "cell_type": "markdown",
     "metadata": {
      "slideshow": {
       "slide_type": "subslide"
      }
     },
     "source": [
      "En python, on peut cha\u00eener les comparaisons :"
     ]
    },
    {
     "cell_type": "code",
     "collapsed": false,
     "input": [
      "a=12\n",
      "print 10<a<20\n",
      "print a>10 and a<20"
     ],
     "language": "python",
     "metadata": {},
     "outputs": []
    },
    {
     "cell_type": "markdown",
     "metadata": {
      "internals": {
       "slide_helper": "subslide_end",
       "slide_type": "subslide"
      },
      "slide_helper": "slide_end",
      "slideshow": {
       "slide_type": "slide"
      }
     },
     "source": [
      "#Plan\n",
      "-----\n",
      "\n",
      "1. Qu'est ce que Pyhton ?\n",
      "\n",
      "2. La distribution Anaconda\n",
      "\n",
      "3. Initiation \u00e0 la syntaxe de Python\n",
      "\n",
      "4. **Les types de donn\u00e9es (containers)**\n",
      "    1. Les s\u00e9quences\n",
      "        1. Les cha\u00eenes de caract\u00e8res\n",
      "        2. Les listes\n",
      "        3. Les tuples\n",
      "    2. Les maps ou hash : dictionnaire\n",
      "    3. Les ensembles\n",
      "        1. Set\n",
      "        2. Forzenset\n",
      "    4. R\u00e9capitulatif sur les diff\u00e9rents types de donn\u00e9es\n",
      "5. Les structures de contr\u00f4le\n"
     ]
    },
    {
     "cell_type": "markdown",
     "metadata": {
      "internals": {
       "slide_helper": "subslide_end",
       "slide_type": "subslide"
      },
      "slide_helper": "slide_end",
      "slideshow": {
       "slide_type": "slide"
      }
     },
     "source": [
      "# 4 Les types de donn\u00e9es (containers)\n",
      "-----\n",
      "\n",
      "Contrairement aux types simples, les types containers permettent d'instancier des objets contenant plusieurs donn\u00e9es.\n",
      "\n",
      "On distingue trois cat\u00e9gories de containers impl\u00e9ment\u00e9s sous formes de 6 types de base :\n",
      "\n",
      "- les **s\u00e9quences** : cha\u00eene, liste, tuple\n",
      "- les **maps** ou **hashs** : dictionnaire\n",
      "- les **ensembles** : set, frozenset"
     ]
    },
    {
     "cell_type": "markdown",
     "metadata": {
      "internals": {
       "slide_type": "subslide"
      },
      "slideshow": {
       "slide_type": "slide"
      }
     },
     "source": [
      "## 4.A.a. Les s\u00e9quences : cha\u00eenes de caract\u00e8res\n",
      "-----\n",
      "\n",
      "Les cha\u00eenes de caract\u00e8res se d\u00e9limitent par des apostrophes ou des guillemets."
     ]
    },
    {
     "cell_type": "code",
     "collapsed": false,
     "input": [
      "maChaine1=\"tout est bon dans le python\"\n",
      "maChaine2='tout est bon dans le python'"
     ],
     "language": "python",
     "metadata": {
      "internals": {},
      "slideshow": {
       "slide_type": "-"
      }
     },
     "outputs": []
    },
    {
     "cell_type": "code",
     "collapsed": false,
     "input": [
      "maChaine3='C\\'est comme \u00e7a'\n",
      "maChaine4=\"C'est comme \u00e7a\" #pour la gestion des apostrophes dans les chaines\n",
      "maChaine4[4]"
     ],
     "language": "python",
     "metadata": {
      "internals": {},
      "slideshow": {
       "slide_type": "-"
      }
     },
     "outputs": []
    },
    {
     "cell_type": "markdown",
     "metadata": {
      "internals": {},
      "slideshow": {
       "slide_type": "-"
      }
     },
     "source": [
      "Les cha\u00eenes de caract\u00e8res en Python sont **immutables**. Les cha\u00eenes ne sont pas modifiables dans le sens o\u00f9 toutes modifications entrainent la cr\u00e9ation de nouvelles cha\u00eenes. Le garbage collector effacera alors automatique la ou les cha\u00eenes non r\u00e9f\u00e9renc\u00e9es.\n",
      "<img src=\"Figures/AccesAuxCaracteres.png\" />\n",
      "\n",
      "Une cha\u00eene de caract\u00e8res est une s\u00e9quence ordonn\u00e9e de caract\u00e8res ce qui permet de s'y r\u00e9f\u00e9rer par l'utilisation d'indice."
     ]
    },
    {
     "cell_type": "code",
     "collapsed": false,
     "input": [
      "print \"bonjour\"[0:3]\n",
      "print \"bonjour\"[-4:] "
     ],
     "language": "python",
     "metadata": {
      "internals": {
       "slide_helper": "subslide_end"
      },
      "slide_helper": "slide_end",
      "slideshow": {
       "slide_type": "-"
      }
     },
     "outputs": []
    },
    {
     "cell_type": "markdown",
     "metadata": {
      "slideshow": {
       "slide_type": "subslide"
      }
     },
     "source": [
      "## 4.A.a. Les s\u00e9quences : cha\u00eenes de caract\u00e8res\n",
      "-----\n",
      "\n",
      "- concat\u00e9nation"
     ]
    },
    {
     "cell_type": "code",
     "collapsed": false,
     "input": [
      "chain1=\"Tout est bon \"\n",
      "chain2=\"Python\"\n",
      "chain = chain1 + \"dans le \" + chain2\n",
      "print chain\n",
      "print \"2.0\" + \"re\"\n",
      "3 * \"po\""
     ],
     "language": "python",
     "metadata": {},
     "outputs": []
    },
    {
     "cell_type": "markdown",
     "metadata": {
      "internals": {
       "slide_type": "subslide"
      },
      "slideshow": {
       "slide_type": "subslide"
      }
     },
     "source": [
      "    \n",
      "Il existe diff\u00e9rente m\u00e9thodes associ\u00e9es aux cha\u00eenes comme par exemple :\n",
      "\n",
      "- **len(chain)** : renvoie la taille d'une cha\u00eene,\n",
      "- **chain.find** : recherche une sous-chna\u00eene dans la cha\u00eene,\n",
      "- **chain.rstrip** : enl\u00e8ve les espaces de fin,\n",
      "- **chain.replace** : remplace une cha\u00eene par une autre,\n",
      "- **chain.split** : d\u00e9coupe une cha\u00eene,\n",
      "- **chain.isdigit** : renvoie True si la cha\u00eene contient que des nombres, False sinon...\n",
      "- **...**\n",
      "\n",
      "Pour en savoir plus, je vous invite \u00e0 tapper : **help(str)**"
     ]
    },
    {
     "cell_type": "code",
     "collapsed": false,
     "input": [
      "print len(chain)"
     ],
     "language": "python",
     "metadata": {
      "internals": {},
      "slideshow": {
       "slide_type": "-"
      }
     },
     "outputs": []
    },
    {
     "cell_type": "code",
     "collapsed": false,
     "input": [
      "chain.split(\" \")"
     ],
     "language": "python",
     "metadata": {
      "internals": {},
      "slideshow": {
       "slide_type": "-"
      }
     },
     "outputs": []
    },
    {
     "cell_type": "markdown",
     "metadata": {
      "internals": {},
      "slideshow": {
       "slide_type": "-"
      }
     },
     "source": [
      "## 4.A.b. Les s\u00e9quences : les listes\n",
      "-----\n",
      "<img src=\"Figures/Listes.png\" />\n",
      "Une liste dans python permet de stocker une collection ordonn\u00e9e sous forme de s\u00e9quence. La modification des \u00e9l\u00e9ments est dynamique et les \u00e9l\u00e9ments peuvent \u00eatre h\u00e9t\u00e9rog\u00e8nes (de n'importe quel type)."
     ]
    },
    {
     "cell_type": "code",
     "collapsed": false,
     "input": [
      "maListe=[1,2.3,\"ab\",3.4 + 2.1j,[0,1,2]]\n",
      "maListe"
     ],
     "language": "python",
     "metadata": {
      "internals": {},
      "slideshow": {
       "slide_type": "-"
      }
     },
     "outputs": []
    },
    {
     "cell_type": "code",
     "collapsed": false,
     "input": [
      "maListe[4][1]"
     ],
     "language": "python",
     "metadata": {
      "internals": {},
      "slideshow": {
       "slide_type": "-"
      }
     },
     "outputs": []
    },
    {
     "cell_type": "code",
     "collapsed": false,
     "input": [
      "print type(maListe)\n",
      "print type(maListe[3])"
     ],
     "language": "python",
     "metadata": {
      "internals": {
       "slide_helper": "subslide_end"
      },
      "slide_helper": "slide_end",
      "slideshow": {
       "slide_type": "-"
      }
     },
     "outputs": []
    },
    {
     "cell_type": "markdown",
     "metadata": {
      "slideshow": {
       "slide_type": "slide"
      }
     },
     "source": [
      "## 4.A.b. Les s\u00e9quences : les listes\n",
      "-----\n",
      "\n",
      "- Modification"
     ]
    },
    {
     "cell_type": "code",
     "collapsed": false,
     "input": [
      "Lis = maListe\n",
      "print Lis\n",
      "maListe[2] = 6\n",
      "maListe[4][1] = 3\n",
      "print maListe\n",
      "print Lis"
     ],
     "language": "python",
     "metadata": {},
     "outputs": []
    },
    {
     "cell_type": "markdown",
     "metadata": {},
     "source": [
      " - Concat\u00e9nation"
     ]
    },
    {
     "cell_type": "code",
     "collapsed": false,
     "input": [
      "l = [0] * 10\n",
      "l"
     ],
     "language": "python",
     "metadata": {},
     "outputs": []
    },
    {
     "cell_type": "markdown",
     "metadata": {
      "internals": {
       "slide_helper": "subslide_end",
       "slide_type": "subslide"
      },
      "slide_helper": "slide_end",
      "slideshow": {
       "slide_type": "subslide"
      }
     },
     "source": [
      "- Copie de listes\n",
      "\n",
      "    Si l'on souhaite dupliquer les donn\u00e9es d'une liste, il faut comprendre qu'en Python, une simple assignation **maListeBis=maListe** n'effectue pas une copie des donn\u00e9es. **maListeBis** et **maListe** r\u00e9f\u00e9rence la m\u00eame liste !\n",
      "\n",
      "    Pour r\u00e9copier correctement une liste :\n",
      "\n",
      "    - **maListeBis**=**maListe[:]** duplique seulement les \u00e9l\u00e9ments de premier niveau. Les listes et/ou dictionnaires imbriqu\u00e9s continueront en revanche d'\u00eatre r\u00e9f\u00e9renc\u00e9s et non dupliqu\u00e9s.\n",
      "\n",
      "    - **maListeBis**=copy.deepcopy(**maListe**) permet une copie compl\u00e8te r\u00e9cursive. Il faudra n\u00e9anmoins importer le module **copy**"
     ]
    },
    {
     "cell_type": "markdown",
     "metadata": {
      "slideshow": {
       "slide_type": "subslide"
      }
     },
     "source": [
      "## 4.A.b. Les s\u00e9quences : les listes\n",
      "-----\n",
      "\n",
      "Plusieurs m\u00e9thodes peuvent \u00eatre appliqu\u00e9es aux listes."
     ]
    },
    {
     "cell_type": "code",
     "collapsed": false,
     "input": [
      "maListe=[1,2.3,\"ab\",3.4 + 2.1j,[0,1,2]]\n",
      "# Que permettent ces m\u00e9thodes :\n",
      "len(maListe)                  #\n",
      "maListe.sort()                  #\n",
      "maListe.append(5)             #\n",
      "maListe.insert(0,'a')         #\n",
      "maListe.extend(['a','b'])     #\n",
      "maListe.reverse()               #\n",
      "maListe.index(5)              #\n",
      "maListe.remove(3)             #\n",
      "maListe.pop()                   #"
     ],
     "language": "python",
     "metadata": {},
     "outputs": []
    },
    {
     "cell_type": "markdown",
     "metadata": {
      "internals": {
       "slide_helper": "subslide_end",
       "slide_type": "subslide"
      },
      "slide_helper": "slide_end",
      "slideshow": {
       "slide_type": "subslide"
      }
     },
     "source": [
      "Pour plus d'aide, je vous invite \u00e0 regarder l'aide : **help(list)**"
     ]
    },
    {
     "cell_type": "markdown",
     "metadata": {
      "internals": {
       "slide_type": "subslide"
      },
      "slideshow": {
       "slide_type": "slide"
      }
     },
     "source": [
      "## 4.A.c. Les s\u00e9quences : les tuples\n",
      "-----\n",
      "\n",
      "Le tuple Python est l'impl\u00e9mentation de la liste mais en lecture seule. Le tuple Python est donc une collection ordonn\u00e9e non modifiable d'\u00e9l\u00e9ments h\u00e9t\u00e9rog\u00e8nes. On retrouvera ainsi les m\u00eames m\u00e9thodes que pour les listes sans celles concernant les modifications.\n",
      "\n",
      "- L'int\u00e9r\u00eat des tuples par rapport aux listes est qu'ils occupent moins d'espace m\u00e9moire et que leur traitement est plus efficace."
     ]
    },
    {
     "cell_type": "code",
     "collapsed": false,
     "input": [
      "monTuple='a','b','c','d'\n",
      "monTuple[0]"
     ],
     "language": "python",
     "metadata": {
      "internals": {},
      "slideshow": {
       "slide_type": "-"
      }
     },
     "outputs": [
      {
       "metadata": {},
       "output_type": "pyout",
       "prompt_number": 36,
       "text": [
        "'a'"
       ]
      }
     ],
     "prompt_number": 36
    },
    {
     "cell_type": "code",
     "collapsed": false,
     "input": [
      "monTuple[0]='alpha'"
     ],
     "language": "python",
     "metadata": {
      "internals": {},
      "slideshow": {
       "slide_type": "-"
      }
     },
     "outputs": [
      {
       "ename": "TypeError",
       "evalue": "'tuple' object does not support item assignment",
       "output_type": "pyerr",
       "traceback": [
        "\u001b[1;31m---------------------------------------------------------------------------\u001b[0m\n\u001b[1;31mTypeError\u001b[0m                                 Traceback (most recent call last)",
        "\u001b[1;32m<ipython-input-37-b5b0d62a505a>\u001b[0m in \u001b[0;36m<module>\u001b[1;34m()\u001b[0m\n\u001b[1;32m----> 1\u001b[1;33m \u001b[0mmonTuple\u001b[0m\u001b[1;33m[\u001b[0m\u001b[1;36m0\u001b[0m\u001b[1;33m]\u001b[0m\u001b[1;33m=\u001b[0m\u001b[1;34m'alpha'\u001b[0m\u001b[1;33m\u001b[0m\u001b[0m\n\u001b[0m",
        "\u001b[1;31mTypeError\u001b[0m: 'tuple' object does not support item assignment"
       ]
      }
     ],
     "prompt_number": 37
    },
    {
     "cell_type": "code",
     "collapsed": false,
     "input": [
      "monTuple= ('alpha',) + monTuple[1:]\n",
      "monTuple"
     ],
     "language": "python",
     "metadata": {
      "internals": {},
      "slideshow": {
       "slide_type": "-"
      }
     },
     "outputs": [
      {
       "metadata": {},
       "output_type": "pyout",
       "prompt_number": 39,
       "text": [
        "('alpha', 'b', 'c', 'd')"
       ]
      }
     ],
     "prompt_number": 39
    },
    {
     "cell_type": "markdown",
     "metadata": {
      "internals": {},
      "slideshow": {
       "slide_type": "-"
      }
     },
     "source": [
      "## 4.A.c. Les s\u00e9quences : les tuples\n",
      "-----\n",
      "\n",
      "Si le premier niveau des tuples ne sont pas modifiables, on peut en revanche modifier les objets modifiables imbriqu\u00e9s."
     ]
    },
    {
     "cell_type": "code",
     "collapsed": false,
     "input": [
      "monTuple2=(1, 2, [3, 4], 6)\n",
      "monTuple2[2][0] = 1\n",
      "monTuple2"
     ],
     "language": "python",
     "metadata": {
      "internals": {},
      "slideshow": {
       "slide_type": "-"
      }
     },
     "outputs": []
    },
    {
     "cell_type": "markdown",
     "metadata": {
      "internals": {},
      "slideshow": {
       "slide_type": "-"
      }
     },
     "source": [
      "On peut convertir un tuple en liste avec la fonction **list()**"
     ]
    },
    {
     "cell_type": "code",
     "collapsed": false,
     "input": [
      "print monTuple2\n",
      "liste2=list(monTuple2)\n",
      "print liste2\n",
      "type(liste2)"
     ],
     "language": "python",
     "metadata": {
      "internals": {},
      "slideshow": {
       "slide_type": "-"
      }
     },
     "outputs": []
    },
    {
     "cell_type": "markdown",
     "metadata": {
      "internals": {},
      "slideshow": {
       "slide_type": "-"
      }
     },
     "source": [
      "On peut \u00e9galement concat\u00e9ner deux tuples :"
     ]
    },
    {
     "cell_type": "code",
     "collapsed": false,
     "input": [
      "monTuple + monTuple2"
     ],
     "language": "python",
     "metadata": {
      "internals": {},
      "slideshow": {
       "slide_type": "-"
      }
     },
     "outputs": []
    },
    {
     "cell_type": "markdown",
     "metadata": {
      "internals": {
       "slide_helper": "subslide_end"
      },
      "slide_helper": "slide_end",
      "slideshow": {
       "slide_type": "-"
      }
     },
     "source": [
      "Pour plus d'aide, je vous invite \u00e0 regarder l'aide : **help(tuple)**"
     ]
    },
    {
     "cell_type": "markdown",
     "metadata": {
      "internals": {
       "slide_type": "subslide"
      },
      "slideshow": {
       "slide_type": "slide"
      }
     },
     "source": [
      "## 4.B. Les maps ou hash : dictionnaire\n",
      "-----\n",
      "\n",
      "Un dictionnaire est une liste modifiable d'\u00e9l\u00e9ments h\u00e9t\u00e9rog\u00e8nes mais indic\u00e9s par des cl\u00e9s.\n",
      "\n",
      "- Un dictionnaire n'est pas une s\u00e9quence\n",
      "- Un dictionnaire est constitu\u00e9 de cl\u00e9s et de valeurs\n",
      "- On ne peut pas concat\u00e9ner un dictionnaire avec un autre\n"
     ]
    },
    {
     "cell_type": "code",
     "collapsed": false,
     "input": [
      "dic = {'a': 1, 'b': 2}\n",
      "dic"
     ],
     "language": "python",
     "metadata": {
      "internals": {},
      "slideshow": {
       "slide_type": "-"
      }
     },
     "outputs": [
      {
       "metadata": {},
       "output_type": "pyout",
       "prompt_number": 40,
       "text": [
        "{'a': 1, 'b': 2}"
       ]
      }
     ],
     "prompt_number": 40
    },
    {
     "cell_type": "code",
     "collapsed": false,
     "input": [
      "dic2={}\n",
      "dic2['a']=1\n",
      "dic2['b']=2\n",
      "dic2"
     ],
     "language": "python",
     "metadata": {
      "internals": {},
      "slideshow": {
       "slide_type": "-"
      }
     },
     "outputs": [
      {
       "metadata": {},
       "output_type": "pyout",
       "prompt_number": 41,
       "text": [
        "{'a': 1, 'b': 2}"
       ]
      }
     ],
     "prompt_number": 41
    },
    {
     "cell_type": "code",
     "collapsed": false,
     "input": [
      "dic3 = dict(a=1, b=2)\n",
      "dic3"
     ],
     "language": "python",
     "metadata": {
      "internals": {},
      "slideshow": {
       "slide_type": "-"
      }
     },
     "outputs": [
      {
       "metadata": {},
       "output_type": "pyout",
       "prompt_number": 42,
       "text": [
        "{'a': 1, 'b': 2}"
       ]
      }
     ],
     "prompt_number": 42
    },
    {
     "cell_type": "code",
     "collapsed": false,
     "input": [
      "dic4 = dict(zip(('a','b'), (1,2)))\n",
      "dic4"
     ],
     "language": "python",
     "metadata": {
      "internals": {
       "slide_helper": "subslide_end"
      },
      "slide_helper": "slide_end",
      "slideshow": {
       "slide_type": "-"
      }
     },
     "outputs": [
      {
       "metadata": {},
       "output_type": "pyout",
       "prompt_number": 43,
       "text": [
        "{'a': 1, 'b': 2}"
       ]
      }
     ],
     "prompt_number": 43
    },
    {
     "cell_type": "markdown",
     "metadata": {
      "slideshow": {
       "slide_type": "slide"
      }
     },
     "source": [
      "## 4.B. Les maps ou hash : dictionnaire\n",
      "-----\n",
      "\n",
      "- Pour r\u00e9cup\u00e9rer une valeur :\n",
      "    "
     ]
    },
    {
     "cell_type": "code",
     "collapsed": false,
     "input": [
      "dic['a']\n",
      "dic.get('a')"
     ],
     "language": "python",
     "metadata": {},
     "outputs": [
      {
       "metadata": {},
       "output_type": "pyout",
       "prompt_number": 44,
       "text": [
        "1"
       ]
      }
     ],
     "prompt_number": 44
    },
    {
     "cell_type": "markdown",
     "metadata": {},
     "source": [
      "    \n",
      "- Ajouter un \u00e9l\u00e9ment, modifier une valeur, supprimer un \u00e9l\u00e9ment.\n",
      "    "
     ]
    },
    {
     "cell_type": "code",
     "collapsed": false,
     "input": [
      "dic[1] = 7       # Ajout un \u00e9l\u00e9ment (cl\u00e9, valeur)\n",
      "dic['b'] = 3     # On modifie la valeur \"2\" par \"3\"\n",
      "del(dic['b'])    # On supprime l'\u00e9l\u00e9ment dont la cl\u00e9 est 'b'\n",
      "\n",
      "# A vous de d\u00e9couvrir ce qui se passe pour ceci :\n",
      "val=dic.pop('b')"
     ],
     "language": "python",
     "metadata": {},
     "outputs": [
      {
       "ename": "KeyError",
       "evalue": "'b'",
       "output_type": "pyerr",
       "traceback": [
        "\u001b[1;31m---------------------------------------------------------------------------\u001b[0m\n\u001b[1;31mKeyError\u001b[0m                                  Traceback (most recent call last)",
        "\u001b[1;32m<ipython-input-45-0ded6facae81>\u001b[0m in \u001b[0;36m<module>\u001b[1;34m()\u001b[0m\n\u001b[0;32m      4\u001b[0m \u001b[1;33m\u001b[0m\u001b[0m\n\u001b[0;32m      5\u001b[0m \u001b[1;31m# A vous de d\u00e9couvrir ce qui se passe pour ceci :\u001b[0m\u001b[1;33m\u001b[0m\u001b[1;33m\u001b[0m\u001b[0m\n\u001b[1;32m----> 6\u001b[1;33m \u001b[0mval\u001b[0m\u001b[1;33m=\u001b[0m\u001b[0mdic\u001b[0m\u001b[1;33m.\u001b[0m\u001b[0mpop\u001b[0m\u001b[1;33m(\u001b[0m\u001b[1;34m'b'\u001b[0m\u001b[1;33m)\u001b[0m\u001b[1;33m\u001b[0m\u001b[0m\n\u001b[0m",
        "\u001b[1;31mKeyError\u001b[0m: 'b'"
       ]
      }
     ],
     "prompt_number": 45
    },
    {
     "cell_type": "markdown",
     "metadata": {
      "internals": {
       "slide_type": "subslide"
      },
      "slideshow": {
       "slide_type": "subslide"
      }
     },
     "source": [
      "- Ajouter plusieurs \u00e9l\u00e9ments, fusion de dictionnaire :"
     ]
    },
    {
     "cell_type": "code",
     "collapsed": false,
     "input": [
      "dicBis={'c':3,'d':4}\n",
      "dic.update(dicBis)\n",
      "dic"
     ],
     "language": "python",
     "metadata": {
      "internals": {},
      "slideshow": {
       "slide_type": "-"
      }
     },
     "outputs": [
      {
       "metadata": {},
       "output_type": "pyout",
       "prompt_number": 46,
       "text": [
        "{1: 7, 'a': 1, 'c': 3, 'd': 4}"
       ]
      }
     ],
     "prompt_number": 46
    },
    {
     "cell_type": "markdown",
     "metadata": {
      "internals": {
       "slide_helper": "subslide_end"
      },
      "slide_helper": "slide_end",
      "slideshow": {
       "slide_type": "-"
      }
     },
     "source": [
      "- Pour copier un dictionnaire, utiliser un nouveau r\u00e9f\u00e9rencement ne suffit pas, il faut utiliser la m\u00e9thode **copy**\n",
      "\n",
      "~~~python\n",
      "# copier le dictionnaire dic dans le dictionnaire copieDeDic\n",
      "# quelle fonction vous permet de vous assurer de la bonne copie ?\n",
      "~~~"
     ]
    },
    {
     "cell_type": "markdown",
     "metadata": {
      "slideshow": {
       "slide_type": "slide"
      }
     },
     "source": [
      "## 4.B. Les maps ou hash : dictionnaire\n",
      "-----\n",
      "\n",
      "Plusieurs m\u00e9thodes existent pour les dictionnaires :"
     ]
    },
    {
     "cell_type": "code",
     "collapsed": false,
     "input": [
      "len(dic)      #taille du dictionnaire\n",
      "dic.keys      #renvoie les cl\u00e9s du dictionnaire sous forme de liste\n",
      "dic.values    #renvoie les valeurs du dictionnaire sous forme de liste\n",
      "dic.has_key   #renvoie True si la cl\u00e9 existe, False sinon\n",
      "dic.get       #donne la valeur de la cl\u00e9 si elle existe"
     ],
     "language": "python",
     "metadata": {},
     "outputs": []
    },
    {
     "cell_type": "markdown",
     "metadata": {
      "internals": {
       "slide_helper": "subslide_end",
       "slide_type": "subslide"
      },
      "slide_helper": "slide_end",
      "slideshow": {
       "slide_type": "-"
      }
     },
     "source": [
      "Remarque :  Les m\u00e9thodes **.keys()**, **.values()** et **.items()** retournent des objets permettant d'it\u00e9rer, par une boucle **for**, respectivement les cl\u00e9s, les valeurs et les paires cl\u00e9s/valeurs.\n",
      "\n",
      "Pour plus d'aide : **help(dic)**"
     ]
    },
    {
     "cell_type": "markdown",
     "metadata": {
      "internals": {
       "slide_type": "subslide"
      },
      "slideshow": {
       "slide_type": "slide"
      }
     },
     "source": [
      "## 4.C.a Les ensembles : set\n",
      "-----\n",
      "\n",
      "Ce type permet de cr\u00e9er des **collections de donn\u00e9es non ordonn\u00e9es modifiables** constitu\u00e9es d'**\u00e9l\u00e9ments uniques** de type **immutable**.\n",
      "\n",
      "Le type set n'est donc pas une s\u00e9quence en revanche, il supporte l'it\u00e9ration. C'est comme un dictionnaire avec des cl\u00e9s sans valeurs."
     ]
    },
    {
     "cell_type": "code",
     "collapsed": false,
     "input": [
      "monSet={1,2,3,1,4}\n",
      "monSet #\u00e9l\u00e9ments uniques"
     ],
     "language": "python",
     "metadata": {
      "internals": {},
      "slideshow": {
       "slide_type": "-"
      }
     },
     "outputs": [
      {
       "metadata": {},
       "output_type": "pyout",
       "prompt_number": 47,
       "text": [
        "{1, 2, 3, 4}"
       ]
      }
     ],
     "prompt_number": 47
    },
    {
     "cell_type": "code",
     "collapsed": false,
     "input": [
      "monSet1=set((1,2,1,4,3))\n",
      "monSet1"
     ],
     "language": "python",
     "metadata": {
      "internals": {},
      "slideshow": {
       "slide_type": "-"
      }
     },
     "outputs": [
      {
       "metadata": {},
       "output_type": "pyout",
       "prompt_number": 48,
       "text": [
        "{1, 2, 3, 4}"
       ]
      }
     ],
     "prompt_number": 48
    },
    {
     "cell_type": "markdown",
     "metadata": {
      "internals": {
       "slide_helper": "subslide_end"
      },
      "slide_helper": "slide_end",
      "slideshow": {
       "slide_type": "-"
      }
     },
     "source": [
      "Regardez ce que renvoie la commande **type**. De quel longeur est ce set ?"
     ]
    },
    {
     "cell_type": "markdown",
     "metadata": {
      "internals": {
       "slide_type": "subslide"
      },
      "slideshow": {
       "slide_type": "slide"
      }
     },
     "source": [
      "## 4.C.a. Les ensembles : set\n",
      "-----\n",
      "\n",
      "- Ajout d'\u00e9l\u00e9ments"
     ]
    },
    {
     "cell_type": "code",
     "collapsed": false,
     "input": [
      "monSet={1,2,3,1,4}\n",
      "monSet"
     ],
     "language": "python",
     "metadata": {
      "internals": {},
      "slideshow": {
       "slide_type": "-"
      }
     },
     "outputs": [
      {
       "metadata": {},
       "output_type": "pyout",
       "prompt_number": 49,
       "text": [
        "{1, 2, 3, 4}"
       ]
      }
     ],
     "prompt_number": 49
    },
    {
     "cell_type": "code",
     "collapsed": false,
     "input": [
      "monSet|={5,6}\n",
      "monSet"
     ],
     "language": "python",
     "metadata": {
      "internals": {},
      "slideshow": {
       "slide_type": "-"
      }
     },
     "outputs": [
      {
       "metadata": {},
       "output_type": "pyout",
       "prompt_number": 50,
       "text": [
        "{1, 2, 3, 4, 5, 6}"
       ]
      }
     ],
     "prompt_number": 50
    },
    {
     "cell_type": "code",
     "collapsed": false,
     "input": [
      "monSet=monSet|{7,8}\n",
      "monSet"
     ],
     "language": "python",
     "metadata": {
      "internals": {},
      "slideshow": {
       "slide_type": "-"
      }
     },
     "outputs": [
      {
       "metadata": {},
       "output_type": "pyout",
       "prompt_number": 51,
       "text": [
        "{1, 2, 3, 4, 5, 6, 7, 8}"
       ]
      }
     ],
     "prompt_number": 51
    },
    {
     "cell_type": "code",
     "collapsed": false,
     "input": [
      "monSet.update({9,10})\n",
      "monSet"
     ],
     "language": "python",
     "metadata": {
      "internals": {},
      "slideshow": {
       "slide_type": "-"
      }
     },
     "outputs": [
      {
       "metadata": {},
       "output_type": "pyout",
       "prompt_number": 52,
       "text": [
        "{1, 2, 3, 4, 5, 6, 7, 8, 9, 10}"
       ]
      }
     ],
     "prompt_number": 52
    },
    {
     "cell_type": "code",
     "collapsed": false,
     "input": [
      "monSet.add(11)\n",
      "monSet"
     ],
     "language": "python",
     "metadata": {
      "internals": {
       "slide_helper": "subslide_end"
      },
      "slide_helper": "slide_end",
      "slideshow": {
       "slide_type": "-"
      }
     },
     "outputs": [
      {
       "metadata": {},
       "output_type": "pyout",
       "prompt_number": 53,
       "text": [
        "{1, 2, 3, 4, 5, 6, 7, 8, 9, 10, 11}"
       ]
      }
     ],
     "prompt_number": 53
    },
    {
     "cell_type": "markdown",
     "metadata": {
      "slideshow": {
       "slide_type": "slide"
      }
     },
     "source": [
      "## 4.C.a. Les ensembles : set\n",
      "-----\n",
      "\n",
      "- D'autres m\u00e9thodes"
     ]
    },
    {
     "cell_type": "code",
     "collapsed": false,
     "input": [
      "monSet.remove(3)  # d\u00e9truit l'\u00e9l\u00e9ment \"3\"\n",
      "monSet.discard(3) # d\u00e9truit l'\u00e9l\u00e9ment \"3\" sans g\u00e9n\u00e9rer d'erreur si l'\u00e9l\u00e9ment est absent\n",
      "monSet.pop()      # retoure un \u00e9l\u00e9ment arbitraire et le d\u00e9truit\n",
      "monSet.clear()    # d\u00e9truit tous les \u00e9l\u00e9ments"
     ],
     "language": "python",
     "metadata": {},
     "outputs": []
    },
    {
     "cell_type": "markdown",
     "metadata": {},
     "source": [
      "- Op\u00e9rations propres aux ensembles"
     ]
    },
    {
     "cell_type": "code",
     "collapsed": false,
     "input": [
      "monSet | monSet1  # union        => {1, 2, 3, 4, 5, 6, 7, 8, 9, 10, 11}\n",
      "monSet & monSet1  # intersection => {1, 2, 3, 4}\n",
      "monSet - monSet1  # diff\u00e9rence   => {5, 6, 7, 8, 9, 10, 11}\n",
      "monSet1 - monSet  # diff\u00e9rence   => set()\n",
      "monSet ^ monSet1  # ou exclusif  => {5, 6, 7, 8, 9, 10, 11}"
     ],
     "language": "python",
     "metadata": {},
     "outputs": []
    },
    {
     "cell_type": "markdown",
     "metadata": {
      "slideshow": {
       "slide_type": "subslide"
      }
     },
     "source": [
      "- Tests"
     ]
    },
    {
     "cell_type": "code",
     "collapsed": false,
     "input": [
      "{'a','b'} == {'b','a'}         # sets identiques => True\n",
      "'a' in {'a','b','c'}           # pr\u00e9sence d'un \u00e9l\u00e9ment isol\u00e9 => True\n",
      "{'a','b'} <= {'a','b','c','d'} # pr\u00e9sence de tous les \u00e9l\u00e9ments => True"
     ],
     "language": "python",
     "metadata": {},
     "outputs": []
    },
    {
     "cell_type": "markdown",
     "metadata": {},
     "source": [
      "- Copie d'un set\n",
      "\n",
      "    Comme pour les listes et les dictionnaires, on en peut pas copier en faisant un simpe tonSet=monSet. Il faut utiliser :"
     ]
    },
    {
     "cell_type": "code",
     "collapsed": false,
     "input": [
      "tonSet=monSet.copy()"
     ],
     "language": "python",
     "metadata": {},
     "outputs": []
    },
    {
     "cell_type": "markdown",
     "metadata": {
      "internals": {
       "slide_helper": "subslide_end",
       "slide_type": "subslide"
      },
      "slide_helper": "slide_end",
      "slideshow": {
       "slide_type": "-"
      }
     },
     "source": [
      "Pour plus d'aide : **help(set)**"
     ]
    },
    {
     "cell_type": "markdown",
     "metadata": {
      "slideshow": {
       "slide_type": "slide"
      }
     },
     "source": [
      "## 4.C.b. Les ensembles : frozenset\n",
      "-----\n",
      "\n",
      "Un type frozenset est un **set** mais **immutable** (non-modifiable). Tout ce qui s'applique aux sets, s'appliquent \u00e9galement au frozenset \u00e0 l'exception de tout ce qui concerne les modifications."
     ]
    },
    {
     "cell_type": "code",
     "collapsed": false,
     "input": [
      "monFrozenset=frozenset({'x','y','z','x'}) # ou bien\n",
      "monFrozenset=frozenset(('x','y','z','x'))"
     ],
     "language": "python",
     "metadata": {},
     "outputs": []
    },
    {
     "cell_type": "markdown",
     "metadata": {
      "internals": {
       "slide_helper": "subslide_end",
       "slide_type": "subslide"
      },
      "slide_helper": "slide_end",
      "slideshow": {
       "slide_type": "-"
      }
     },
     "source": [
      "Pour plus d'aide : **help(frozenset)**"
     ]
    },
    {
     "cell_type": "markdown",
     "metadata": {
      "internals": {
       "slide_helper": "subslide_end",
       "slide_type": "subslide"
      },
      "slide_helper": "slide_end",
      "slideshow": {
       "slide_type": "slide"
      }
     },
     "source": [
      "## 4.D. R\u00e9capitulatif sur les diff\u00e9rents types de donn\u00e9es\n",
      "-----\n",
      "\n",
      "- Simple\n",
      "    - **modifiable**\n",
      "        - aucun\n",
      "    - **immutable**\n",
      "        - bool\u00e9en\n",
      "        - entier\n",
      "        - entier flotant\n",
      "        - complexe\n",
      "\n",
      "- Container\n",
      "    - **modifiable**\n",
      "        - liste (s\u00e9quence)\n",
      "        - set (ensemble)\n",
      "        - dictionnaire (map)\n",
      "    - **immutable**\n",
      "        - tuple (s\u00e9quence)\n",
      "        - frozenset (ensemble)\n",
      "        - cha\u00eene (s\u00e9quence)"
     ]
    },
    {
     "cell_type": "markdown",
     "metadata": {
      "internals": {
       "slide_helper": "subslide_end",
       "slide_type": "subslide"
      },
      "slide_helper": "slide_end",
      "slideshow": {
       "slide_type": "slide"
      }
     },
     "source": [
      "#Plan\n",
      "-----\n",
      "\n",
      "1. Qu'est ce que Pyhton ?\n",
      "\n",
      "2. La distribution Anaconda\n",
      "\n",
      "3. Initiation \u00e0 la syntaxe de Python\n",
      "\n",
      "4. Les types de donn\u00e9es (containers)\n",
      "\n",
      "5. **Les structures de contr\u00f4le**\n",
      "    1. Ex\u00e9cution conditionelle if-elif-else\n",
      "    2. Boucle WHILE\n",
      "    3. Boucle FOR\n",
      "    4. Instructions continue et break"
     ]
    },
    {
     "cell_type": "markdown",
     "metadata": {
      "internals": {
       "slide_helper": "subslide_end",
       "slide_type": "subslide"
      },
      "slide_helper": "slide_end",
      "slideshow": {
       "slide_type": "slide"
      }
     },
     "source": [
      "# 5. Les structures de contr\u00f4le\n",
      "-----\n",
      "\n",
      "En python, les structures de contr\u00f4le existent par l'indentation des blocs de code. L'indentation est donc tr\u00e8s importante en Python. Cette indentation apporte au langage une lisibilit\u00e9 et l\u00e9gert\u00e9 au code (absence d'accolades, points-virgules,...)\n",
      "\n",
      "<img src=\"Figures/Instructions_Blocs.png\" />\n",
      "\n",
      "Le [guide de style Python](https://www.python.org/dev/peps/pep-0008/#indentation) mentionne qu'il est pr\u00e9f\u00e9rable d'utiliser les espaces que la tabulation. Il indique m\u00eame 4 espaces par niveau d'indentation. Sous **Spyder**, nous pouvons g\u00e9rer les caract\u00e8res d'indentation dans : Outils/Pr\u00e9f\u00e9rences/Editeurs/Options avanc\u00e9es."
     ]
    },
    {
     "cell_type": "markdown",
     "metadata": {
      "internals": {
       "slide_type": "subslide"
      },
      "slideshow": {
       "slide_type": "slide"
      }
     },
     "source": [
      "## 5.A. Ex\u00e9cution conditionelle if-elif-else\n",
      "-----\n",
      "\n",
      "La forme de cette structure de contr\u00f4le est montr\u00e9e ci-dessous. Les parties **elif** et **else** sont bien s\u00fbr facultatifs."
     ]
    },
    {
     "cell_type": "code",
     "collapsed": false,
     "input": [
      "a = 10.\n",
      "if a > 0:\n",
      "    print \"a est strictement positif\"\n",
      "    if a >= 10:\n",
      "        print \"a est un nombre\"\n",
      "    else:\n",
      "        print \"a est un chiffre\"\n",
      "    a += 1\n",
      "elif a is not 0:\n",
      "    print \"a est strictement negatif\"\n",
      "else:\n",
      "    print \"a est nul\"\n",
      "print a"
     ],
     "language": "python",
     "metadata": {
      "internals": {},
      "slideshow": {
       "slide_type": "-"
      }
     },
     "outputs": [
      {
       "output_type": "stream",
       "stream": "stdout",
       "text": [
        "a est strictement positif\n",
        "a est un nombre\n",
        "11.0\n"
       ]
      }
     ],
     "prompt_number": 55
    },
    {
     "cell_type": "markdown",
     "metadata": {
      "internals": {},
      "slideshow": {
       "slide_type": "-"
      }
     },
     "source": [
      "Comme dans d'autres langages, python offre l'\u00e9criture d'expression conditionnelle :"
     ]
    },
    {
     "cell_type": "code",
     "collapsed": false,
     "input": [
      "a=10\n",
      "print \"a est positif\" if a>=0 else \"a est n\u00e9gatif\""
     ],
     "language": "python",
     "metadata": {
      "internals": {},
      "slideshow": {
       "slide_type": "-"
      }
     },
     "outputs": []
    },
    {
     "cell_type": "code",
     "collapsed": false,
     "input": [
      "if a >= 0:\n",
      "    print \"a est positif\"\n",
      "else:\n",
      "    print \"a est n\u00e9gatif\""
     ],
     "language": "python",
     "metadata": {},
     "outputs": []
    },
    {
     "cell_type": "markdown",
     "metadata": {
      "slideshow": {
       "slide_type": "slide"
      }
     },
     "source": [
      "## 5.B Boucle WHILE\n",
      "-----\n",
      "\n",
      "La boucle while permet d'ex\u00e9cuter un bloc d'instruction aussi longtemps qu'une condition (expression logique) est vraie."
     ]
    },
    {
     "cell_type": "code",
     "collapsed": false,
     "input": [
      "while <test1>:\n",
      "    <blocs d\u2019instructions 1>\n",
      "    if <test2>: \n",
      "        break\n",
      "    if <test3>: \n",
      "        continue\n",
      "else:\n",
      "    <blocs d\u2019instructions 2>"
     ],
     "language": "python",
     "metadata": {},
     "outputs": []
    },
    {
     "cell_type": "markdown",
     "metadata": {},
     "source": [
      "\n",
      " - **break** : sort de la boucle sans passer par else\n",
      " - **continue** : remonte au d\u00e9but de la boucle\n",
      " - **pass** : ne fait rien\n",
      " - **else** : lanc\u00e9 si et seulement si la boucle se termine normalement\n"
     ]
    },
    {
     "cell_type": "code",
     "collapsed": false,
     "input": [
      "nb = 1 ; stop = 3\n",
      "# Affiche le carr\u00e9 des nombres de nb \u00e0 stop\n",
      "while nb <= stop:\n",
      "    print(nb, nb**2)\n",
      "    nb += 1"
     ],
     "language": "python",
     "metadata": {},
     "outputs": [
      {
       "output_type": "stream",
       "stream": "stdout",
       "text": [
        "(1, 1)\n",
        "(2, 4)\n",
        "(3, 9)\n"
       ]
      }
     ],
     "prompt_number": 56
    },
    {
     "cell_type": "markdown",
     "metadata": {
      "slideshow": {
       "slide_type": "slide"
      }
     },
     "source": [
      "## 5.C Boucle FOR\n",
      "-----\n",
      "La boucle **for** permet d'it\u00e9rer les valeurs d'une liste, d'un tuple, d'une cha\u00eene ou de tout objet it\u00e9rable. Comme dans les autres structures de contr\u00f4le, le caract\u00e8re : (double point) d\u00e9finit le d\u00e9but du bloc d'instruction contr\u00f4l\u00e9 par **for**."
     ]
    },
    {
     "cell_type": "code",
     "collapsed": false,
     "input": [
      "for <cible> in <objet>:\n",
      "    <blocs d\u2019instructions>\n",
      "    if <test1>: \n",
      "        break\n",
      "    if <test2>: \n",
      "        continue\n",
      "else:\n",
      "    <blocs d\u2019instructions>"
     ],
     "language": "python",
     "metadata": {},
     "outputs": []
    },
    {
     "cell_type": "code",
     "collapsed": false,
     "input": [
      "sum = 0\n",
      "for i in [1, 2, 3, 4]:\n",
      "    sum += i\n",
      "sum"
     ],
     "language": "python",
     "metadata": {},
     "outputs": [
      {
       "metadata": {},
       "output_type": "pyout",
       "prompt_number": 57,
       "text": [
        "10"
       ]
      }
     ],
     "prompt_number": 57
    },
    {
     "cell_type": "code",
     "collapsed": false,
     "input": [
      "L = [ x + 10 for x in range(10)]\n",
      "L"
     ],
     "language": "python",
     "metadata": {},
     "outputs": [
      {
       "metadata": {},
       "output_type": "pyout",
       "prompt_number": 58,
       "text": [
        "[10, 11, 12, 13, 14, 15, 16, 17, 18, 19]"
       ]
      }
     ],
     "prompt_number": 58
    },
    {
     "cell_type": "markdown",
     "metadata": {},
     "source": [
      "## 5.C Boucle FOR\n",
      "------\n",
      "- Sur listes ou tuples"
     ]
    },
    {
     "cell_type": "code",
     "collapsed": false,
     "input": [
      "maList = [1,2,3]\n",
      "for n in maList:\n",
      "    print n"
     ],
     "language": "python",
     "metadata": {},
     "outputs": []
    },
    {
     "cell_type": "markdown",
     "metadata": {},
     "source": [
      "Pour it\u00e9rer sur une suite de nombres entiers, on utilise souvent la fonction xrange"
     ]
    },
    {
     "cell_type": "code",
     "collapsed": false,
     "input": [
      "for index in xrange(len(maList)):\n",
      "    print(index, maList[index])"
     ],
     "language": "python",
     "metadata": {},
     "outputs": []
    },
    {
     "cell_type": "markdown",
     "metadata": {},
     "source": [
      "Vous pouvez \u00e9galement utiliser la fonction **enumerate** qui retourne un objet sur lequel vous pouvez it\u00e9rer sur l'indice et la valeur d'une s\u00e9quence."
     ]
    },
    {
     "cell_type": "code",
     "collapsed": false,
     "input": [
      "for index,val in enumerate(maList):\n",
      "    print(index, val)"
     ],
     "language": "python",
     "metadata": {},
     "outputs": []
    },
    {
     "cell_type": "markdown",
     "metadata": {
      "slideshow": {
       "slide_type": "slide"
      }
     },
     "source": [
      "## 5.C Boucle FOR\n",
      "-----\n",
      "\n",
      " - Sur des chaines"
     ]
    },
    {
     "cell_type": "code",
     "collapsed": false,
     "input": [
      "voyelles = 'aeiouy'\n",
      "for car in 'chaine de catacteres':\n",
      "    if car in voyelles:\n",
      "        print car"
     ],
     "language": "python",
     "metadata": {},
     "outputs": [
      {
       "output_type": "stream",
       "stream": "stdout",
       "text": [
        "a\n",
        "i\n",
        "e\n",
        "e\n",
        "a\n",
        "a\n",
        "e\n",
        "e\n"
       ]
      }
     ],
     "prompt_number": 59
    },
    {
     "cell_type": "markdown",
     "metadata": {},
     "source": [
      " - Sur dictionnaires"
     ]
    },
    {
     "cell_type": "code",
     "collapsed": false,
     "input": [
      "carres = {}\n",
      "for n in xrange(1,4):\n",
      "    carres[n] = n**2\n",
      "print carres"
     ],
     "language": "python",
     "metadata": {},
     "outputs": [
      {
       "output_type": "stream",
       "stream": "stdout",
       "text": [
        "{1: 1, 2: 4, 3: 9}\n"
       ]
      }
     ],
     "prompt_number": 60
    },
    {
     "cell_type": "code",
     "collapsed": false,
     "input": [
      "for k in carres:  # it\u00e8re par d\u00e9faut sur la cl\u00e9 !\n",
      "  # identique \u00e0: for k in carres.keys():\n",
      "    print k"
     ],
     "language": "python",
     "metadata": {},
     "outputs": [
      {
       "output_type": "stream",
       "stream": "stdout",
       "text": [
        "1\n",
        "2\n",
        "3\n"
       ]
      }
     ],
     "prompt_number": 61
    },
    {
     "cell_type": "markdown",
     "metadata": {
      "slideshow": {
       "slide_type": "slide"
      }
     },
     "source": [
      "## 5.D MAP et ZIP\n",
      "-----\n",
      "\n",
      " - **map** applique une m\u00e9thode sur une ou plusieurs s\u00e9quences.\n",
      " - **zip** permet de parcourir plusieurs s\u00e9quences en parall\u00e8le.\n",
      "\n",
      "Remarque : **map** peut \u00eatre beaucoup plus rapide que l'utilisation de **for**"
     ]
    },
    {
     "cell_type": "code",
     "collapsed": false,
     "input": [
      "S = '0123456789'\n",
      "print map(int, S)"
     ],
     "language": "python",
     "metadata": {},
     "outputs": [
      {
       "output_type": "stream",
       "stream": "stdout",
       "text": [
        "[0, 1, 2, 3, 4, 5, 6, 7, 8, 9]\n"
       ]
      }
     ],
     "prompt_number": 62
    },
    {
     "cell_type": "code",
     "collapsed": false,
     "input": [
      "L1 = [1, 2, 3]\n",
      "L2 = [4, 5, 6]\n",
      "for (x, y) in zip(L1, L2):\n",
      "    print x, y, '--', x + y"
     ],
     "language": "python",
     "metadata": {},
     "outputs": []
    },
    {
     "cell_type": "markdown",
     "metadata": {
      "slideshow": {
       "slide_type": "slide"
      }
     },
     "source": [
      "# Exercice\n",
      "-----\n",
      "\n",
      "Je vous propose de progresser vers l'utilisation de l'\u00e9diteur de fichier. Nous allons donc utiliser la fen\u00eatre de gauche.\n",
      "\n",
      "\u00c9crivez un programme qui convertisse en degr\u00e9s Celsius une temp\u00e9rature exprim\u00e9e au d\u00e9part en degr\u00e9s Fahrenheit, ou l\u2019inverse.\n",
      "\n",
      "- La formule de conversion est : TF = TC \u00d71,8+32\n",
      "- TF : temp\u00e9rature en degr\u00e9 Farenheit\n",
      "- TC : temp\u00e9rature en degr\u00e9 Celsius"
     ]
    },
    {
     "cell_type": "markdown",
     "metadata": {
      "slideshow": {
       "slide_type": "slide"
      }
     },
     "source": [
      "# Exercice\n",
      "-----\n",
      "\n",
      "Avant de commencer \u00e0 coder, je vous invite \u00e0 vous positionner dans le r\u00e9pertoire de travail. Puisque c'est notre premi\u00e8re fois, vous devez savoir que dans les pr\u00e9f\u00e9rences de Spyder, vous avez acc\u00e8s \u00e0 diff\u00e9rents param\u00e8tres comme ce qui est en lien avec le r\u00e9pertoire de travail\n",
      "\n",
      "<img src=\"Figures/RepertoireDeTravail.png\" />"
     ]
    },
    {
     "cell_type": "markdown",
     "metadata": {
      "slideshow": {
       "slide_type": "slide"
      }
     },
     "source": [
      "# Exercice 1\n",
      "-----\n",
      "\n",
      "Nous allons maintenant cr\u00e9er un nouveau script. Vous disposez de trois solutions.\n",
      "\n",
      "- Ctrl+n\n",
      "- Cliquer sur l'ic\u00f4ne de la page vierge\n",
      "- Fichier/nouveau fichier\n",
      "\n",
      "<img src=\"Figures/NouveauFichier.png\" />\n",
      "\n",
      "\n",
      "Votre fichier nomm\u00e9 par d\u00e9faut *untitled0.py* devrait se pr\u00e9sent\u00e9 sous la forme suivante :\n",
      "\n",
      "~~~python\n",
      "# -*- coding: utf-8 -*-\n",
      "\"\"\"\n",
      "Created on Wed Nov 26 22:31:38 2014\n",
      "\n",
      "@author: moi\n",
      "\"\"\"\n",
      "~~~\n",
      "\n",
      "Penser \u00e0 \n",
      "- compl\u00e9ter l'ent\u00eate avec l'ennonc\u00e9 de l'exercice que vous placerez entre *Created* et *@author*\n",
      "- renommer le nom du script\n",
      "- enregistrer le script"
     ]
    },
    {
     "cell_type": "markdown",
     "metadata": {
      "slideshow": {
       "slide_type": "slide"
      }
     },
     "source": [
      "#Exercice 1\n",
      "-----\n",
      "\n",
      "Vous pouvez maintenant \u00e9crire votre programme.\n",
      "\n",
      "Pour l'ex\u00e9cuter, vous pouvez soit \n",
      "- utiliser la fl\u00e8che verte avec le label : Run File (F5)\n",
      "    - que vous soyez encore dans la console ipython\n",
      "    - ou dans la console \"Python 1\"\n",
      "- Si vous \u00eates dans la console \"Python 1\", \n",
      "    - vous pouvez glisser/d\u00e9poser dans cette console le script \u00e0 partir de l'explorateur de fichier.\n",
      "    - ou utiliser la commande \"runfile\" : runfile('conversion_deg_D_to_F.py')"
     ]
    },
    {
     "cell_type": "markdown",
     "metadata": {
      "slideshow": {
       "slide_type": "slide"
      }
     },
     "source": [
      "#Exercice 1\n",
      "-----\n",
      "\n",
      "Une solution non optimale mais du niveau des notions vues dans cette premi\u00e8re partie du cours...\n",
      "\n",
      "~~~python\n",
      "\"\"\"\n",
      "Created on Wed Nov 26 22:31:38 2014\n",
      "\n",
      "\u00c9crivez un programme qui convertisse en degr\u00e9s Celsius une temp\u00e9rature exprim\u00e9e au d\u00e9part en degr\u00e9s Fahrenheit, ou l\u2019inverse.\n",
      "\n",
      "La formule de conversion est : TF = TC \u00d7 1,8 + 32\n",
      "TF : temp\u00e9rature en degr\u00e9 Farenheit\n",
      "TC : temp\u00e9rature en degr\u00e9 Celsius\n",
      "\n",
      "@author: chalgand\n",
      "\"\"\"\n",
      "\n",
      "goodAnswer=False\n",
      "while goodAnswer==False:\n",
      "    print \"Dans quel sens voulez-vous faire la conversion ?\"\n",
      "    print \"1 - Degr\u00e9 Celsius    vers  Degr\u00e9 Farenheit\"\n",
      "    print \"2 - Degr\u00e9 Farenheit  vers  Degr\u00e9 Celsius\"\n",
      "    answer = input()\n",
      "    if type(answer)==int and (answer == 1 or answer == 2):\n",
      "        goodAnswer=True\n",
      "        print answer\n",
      "\n",
      "print \"Vous avez choisi la conversion : \" + \\\n",
      "    (\"Degr\u00e9 Celsius vers Degr\u00e9 Farenheit\" if answer==1 \\\n",
      "    else \"Degr\u00e9 Farenheit  vers  Degr\u00e9 Celsius\")\n",
      "\n",
      "temp=\"une mauvaise temp\u00e9rature\"\n",
      "while type(temp)!=int:\n",
      "    temp=input(\"Veuillez entrer la temp\u00e9rature \u00e0 convertir : \")\n",
      "\n",
      "if answer == 1:\n",
      "    print temp,\" degr\u00e9 Celsius = \",temp*1.8+32,\" degr\u00e9 Farenheit\"\n",
      "else:\n",
      "    print temp,\" degr\u00e9 Farenheit = \",(temp-32)/1.8,\" degr\u00e9 Celsius\"\n",
      "~~~"
     ]
    },
    {
     "cell_type": "markdown",
     "metadata": {
      "internals": {
       "slide_helper": "subslide_end"
      },
      "slide_helper": "slide_end",
      "slideshow": {
       "slide_type": "slide"
      }
     },
     "source": [
      "# Exercice 2\n",
      "\n",
      "Ecrivez un code Python qui affiche la suite de 12 nombres dont chaque terme est \u00e9gal au triple du pr\u00e9c\u00e9dent.\n"
     ]
    },
    {
     "cell_type": "markdown",
     "metadata": {
      "internals": {
       "slide_helper": "subslide_end"
      },
      "slide_helper": "slide_end",
      "slideshow": {
       "slide_type": "slide"
      }
     },
     "source": [
      "# Exercice 3\n",
      "\n",
      "Ecrivez un code Python qui affiche\n",
      "\n",
      "```\n",
      "*\n",
      "**\n",
      "***\n",
      "****\n",
      "*****\n",
      "```"
     ]
    },
    {
     "cell_type": "markdown",
     "metadata": {
      "internals": {
       "slide_helper": "subslide_end"
      },
      "slide_helper": "slide_end",
      "slideshow": {
       "slide_type": "slide"
      }
     },
     "source": [
      "# Exercice 4\n",
      "\n",
      "Que fait le code suivant ?"
     ]
    },
    {
     "cell_type": "code",
     "collapsed": false,
     "input": [
      "str = 'une chaine'\n",
      "i = str(3)"
     ],
     "language": "python",
     "metadata": {},
     "outputs": [
      {
       "ename": "TypeError",
       "evalue": "'str' object is not callable",
       "output_type": "pyerr",
       "traceback": [
        "\u001b[1;31m---------------------------------------------------------------------------\u001b[0m\n\u001b[1;31mTypeError\u001b[0m                                 Traceback (most recent call last)",
        "\u001b[1;32m<ipython-input-63-6529b4a82fc7>\u001b[0m in \u001b[0;36m<module>\u001b[1;34m()\u001b[0m\n\u001b[0;32m      1\u001b[0m \u001b[0mstr\u001b[0m \u001b[1;33m=\u001b[0m \u001b[1;34m'une chaine'\u001b[0m\u001b[1;33m\u001b[0m\u001b[0m\n\u001b[1;32m----> 2\u001b[1;33m \u001b[0mi\u001b[0m \u001b[1;33m=\u001b[0m \u001b[0mstr\u001b[0m\u001b[1;33m(\u001b[0m\u001b[1;36m3\u001b[0m\u001b[1;33m)\u001b[0m\u001b[1;33m\u001b[0m\u001b[0m\n\u001b[0m",
        "\u001b[1;31mTypeError\u001b[0m: 'str' object is not callable"
       ]
      }
     ],
     "prompt_number": 63
    },
    {
     "cell_type": "markdown",
     "metadata": {
      "internals": {
       "slide_helper": "subslide_end"
      },
      "slide_helper": "slide_end",
      "slideshow": {
       "slide_type": "slide"
      }
     },
     "source": [
      "# Exercice 5\n",
      "\n",
      "Soient les listes suivantes:"
     ]
    },
    {
     "cell_type": "code",
     "collapsed": false,
     "input": [
      "t1 = [31, 28, 31, 30, 31, 30, 31, 31, 30, 31, 30, 31]\n",
      "t2 = ['Janvier', 'F\u00e9vrier', 'Mars', 'Avril', 'Mai', 'Juin',\n",
      "      'Juillet', 'Ao\u00fbt', 'Septembre', 'Octobre', 'Novembre', 'D\u00e9cembre']"
     ],
     "language": "python",
     "metadata": {},
     "outputs": []
    },
    {
     "cell_type": "markdown",
     "metadata": {
      "internals": {
       "slide_helper": "subslide_end"
      },
      "slide_helper": "slide_end",
      "slideshow": {
       "slide_type": "slide"
      }
     },
     "source": [
      "Ecrivez un code Python qui ins\u00e8re dans la seconde liste tous les \u00e9l\u00e9ments de la premi\u00e8re, de telle sorte que chaque nom de mois soit suivi du nombre de jours correspondant\n",
      "\n",
      "```\n",
      "['Janvier',31,'F\u00e9vrier',28,'Mars',31, etc...].\n",
      "```"
     ]
    },
    {
     "cell_type": "markdown",
     "metadata": {
      "internals": {
       "slide_helper": "subslide_end"
      },
      "slide_helper": "slide_end",
      "slideshow": {
       "slide_type": "slide"
      }
     },
     "source": [
      "#Exercice 6\n",
      "Soit le dictionnaire suivant:"
     ]
    },
    {
     "cell_type": "code",
     "collapsed": false,
     "input": [
      "dico1 = {'computer': 'ordinateur', 'mouse': 'souris',\n",
      "         'printer': 'imprimante', 'keyboard': 'clavier'}  "
     ],
     "language": "python",
     "metadata": {},
     "outputs": []
    },
    {
     "cell_type": "markdown",
     "metadata": {
      "internals": {
       "slide_helper": "subslide_end"
      },
      "slide_helper": "slide_end",
      "slideshow": {
       "slide_type": "slide"
      }
     },
     "source": [
      "Ecrivez un code Python qui inverse les cl\u00e9s et les valeurs permettant de passer d'un dictionnaire anglais/fran\u00e7ais \u00e0 un dictionnaire fran\u00e7ais/anglais."
     ]
    },
    {
     "cell_type": "markdown",
     "metadata": {
      "internals": {
       "slide_helper": "subslide_end"
      },
      "slide_helper": "slide_end",
      "slideshow": {
       "slide_type": "slide"
      }
     },
     "source": [
      "#Exercice 7\n",
      "Soit la cha\u00eene de caract\u00e8res suivante:"
     ]
    },
    {
     "cell_type": "code",
     "collapsed": false,
     "input": [
      "Chaine='Ceci est une chaine.'"
     ],
     "language": "python",
     "metadata": {},
     "outputs": []
    },
    {
     "cell_type": "markdown",
     "metadata": {
      "internals": {
       "slide_helper": "subslide_end"
      },
      "slide_helper": "slide_end",
      "slideshow": {
       "slide_type": "slide"
      }
     },
     "source": [
      "- est-ce que chaine est un objet? Quelles sont ses m\u00e9thodes?\n",
      "- mettez dans CHAINE cette chaine en majuscules.\n",
      "- mettez dans nb_mot le nombre de mot de la phrase.\n",
      "- comptez le nombre de chaque lettre (on utilisera un dictionnaire et la fonction *get*)."
     ]
    }
   ],
   "metadata": {}
  }
 ]
}