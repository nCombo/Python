{
 "metadata": {
  "celltoolbar": "Slideshow",
  "name": "",
  "signature": "sha256:bde071a239569564c8b9aa04ba04452ac1a1083569259208e8e8f883d2be2d15"
 },
 "nbformat": 3,
 "nbformat_minor": 0,
 "worksheets": [
  {
   "cells": [
    {
     "cell_type": "markdown",
     "metadata": {
      "internals": {
       "slide_helper": "subslide_end",
       "slide_type": "subslide"
      },
      "slide_helper": "slide_end",
      "slideshow": {
       "slide_type": "slide"
      }
     },
     "source": [
      "#*Les tests*"
     ]
    },
    {
     "cell_type": "markdown",
     "metadata": {
      "slideshow": {
       "slide_type": "slide"
      }
     },
     "source": [
      "## Pourquoi \u00e9crire des tests ?"
     ]
    },
    {
     "cell_type": "markdown",
     "metadata": {},
     "source": [
      "Lorsque l'on \u00e9crit un programme, il est g\u00e9n\u00e9ralement constitu\u00e9 de plusieurs fonctions que l'on assemble afin de d\u00e9crire notre algorithme permettant de nous donner la r\u00e9ponse \u00e0 notre probl\u00e8me. Un programme n'est pas forc\u00e9ment un d\u00e9veloppement sur un temps court. \n",
      "\n",
      "On voit beaucoup de librairies scientifiques qui ont plus de dix ans. Les fonctions peuvent donc \u00eatre \u00e9crites \u00e0 diff\u00e9rents moments avec des \u00e9chelles de temps bien diff\u00e9rentes. On peut par exemple ajouter une fonctionnalit\u00e9 \u00e0 un bout de code plusieurs ann\u00e9es apr\u00e8s en avoir \u00e9crit le coeur. \n",
      "\n",
      "Si il est primordial d'\u00e9crire de la documentation pour comprendre ce qui est fait, il est \u00e9galement judicieux d'\u00e9crire des tests pour s'assurer du bon fonctionnement de notre programme.\n",
      "\n",
      "Il faut noter que certains types de d\u00e9veloppement logiciel s'appuient sur les tests ([Test Driven Development](http://fr.wikipedia.org/wiki/Test_Driven_Development))."
     ]
    },
    {
     "cell_type": "markdown",
     "metadata": {
      "slideshow": {
       "slide_type": "slide"
      }
     },
     "source": [
      "# Les types de tests"
     ]
    },
    {
     "cell_type": "markdown",
     "metadata": {},
     "source": [
      "On peut citer trois types de tests primordiaux permettant de s'assurer au mieux de l'absence de bugs dans notre programme. Un programme n'est jamais \u00e0 100% s\u00fbr.\n",
      "\n",
      "- les **tests unitaires**, \n",
      "\n",
      "- les **tests d'int\u00e9gration**,\n",
      "\n",
      "- les **tests du syst\u00e8me complet**.\n"
     ]
    },
    {
     "cell_type": "markdown",
     "metadata": {
      "slideshow": {
       "slide_type": "slide"
      }
     },
     "source": [
      "## Tests unitaires: niveau 0\n",
      "\n",
      "Le but est de tester chaque petit bout de code: fonctions, m\u00e9thodes, ...\n",
      "   \n",
      "\n",
      "Ils permettent d'\u00eatre s\u00fbr que chaque brique de votre programme fonctionne correctement ind\u00e9pendamment des autres.\n",
      "    \n",
      "\n",
      "N\u00e9anmoins, ils ne permettent pas d'assurer le bon fonctionnement du programme dans sa globalit\u00e9.\n"
     ]
    },
    {
     "cell_type": "markdown",
     "metadata": {
      "slideshow": {
       "slide_type": "slide"
      }
     },
     "source": [
      "## Tests d'int\u00e9gration: niveau 1\n",
      "\n",
      "Le but est de commencer \u00e0 tester de petites interactions entre les diff\u00e9rentes unit\u00e9s du programme.\n",
      "\n",
      "\n",
      "Ces tests peuvent \u00eatre r\u00e9alis\u00e9s avec les m\u00eames outils que ceux utilis\u00e9s dans les tests unitaires.\n",
      "\n",
      "\n",
      "Mais il y a une diff\u00e9rence importante: on suppose que les unit\u00e9s prises une \u00e0 une sont valides."
     ]
    },
    {
     "cell_type": "markdown",
     "metadata": {
      "slideshow": {
       "slide_type": "slide"
      }
     },
     "source": [
      "##\u00a0Tests du syst\u00e8me complet: niveau 2\n",
      "\n",
      "Le but est de tester le programme dans sa globalit\u00e9.\n",
      "\n",
      "On assemble \u00e0 pr\u00e9sent toutes les briques pour un probl\u00e8me concret.\n",
      "\n",
      "L\u00e0 encore, si les 2 premiers niveaux sont n\u00e9glig\u00e9s les tests du syst\u00e8me complet ne servent \u00e0 rien."
     ]
    },
    {
     "cell_type": "markdown",
     "metadata": {
      "slideshow": {
       "slide_type": "slide"
      }
     },
     "source": [
      "Les tests sont donc \u00e9crits \u00e0 des stades diff\u00e9rents du d\u00e9veloppement mais ont chacun leur importance. Un seul de ces trois types de tests ne suffit pas pour tester l'int\u00e9grit\u00e9 du programme. \n",
      "\n",
      "Les tests unitaires et les tests d'int\u00e9gration sont g\u00e9n\u00e9ralement test\u00e9s avec les m\u00eames outils. \n",
      "\n",
      "Pour le dernier type de tests, on prendra des exemples concrets d'ex\u00e9cution et on testera la sortie avec une solution certifi\u00e9e."
     ]
    },
    {
     "cell_type": "markdown",
     "metadata": {
      "slideshow": {
       "slide_type": "slide"
      }
     },
     "source": [
      "# Notre cas d'\u00e9tude"
     ]
    },
    {
     "cell_type": "markdown",
     "metadata": {},
     "source": [
      "Nous allons calculer les coefficients de la suite de Fibonacci en utilisant les coefficients binomiaux. Les coefficients binomiaux se calculent \u00e0 partir de la formule suivante\n",
      "\n",
      "$$\n",
      "\\left(\n",
      "\\begin{array}{c}\n",
      "n \\\\\n",
      "k\n",
      "\\end{array}\n",
      "\\right)=C_n^k=\\frac{n!}{k!(n-k)!} \\; \\text{pour} \\; k=0,\\cdots,n.\n",
      "$$\n",
      "\n",
      "On en d\u00e9duit alors le calcul des coefficients de la suite de Fibonacci par la formule suivante\n",
      "\n",
      "$$\n",
      "\\sum_{k=0}^n\n",
      "\\left(\n",
      "\\begin{array}{c}\n",
      "n-k \\\\\n",
      "k\n",
      "\\end{array} \n",
      "\\right)\n",
      "= F(n+1).\n",
      "$$\n",
      "\n",
      "Voici un exemple de code Python implantant cette formule"
     ]
    },
    {
     "cell_type": "code",
     "collapsed": false,
     "input": [
      "%%file fibonacci.py\n",
      "import numpy as np\n",
      "\n",
      "def factorielle(n):\n",
      "    \"\"\"\n",
      "    calcul de n!\n",
      "    \n",
      "    >>> factorielle(0)\n",
      "    1\n",
      "    >>> factorielle(5)\n",
      "    120\n",
      "    \n",
      "    \"\"\"\n",
      "    if n==1 or n==0:\n",
      "        return 1\n",
      "    else:\n",
      "        return n*factorielle(n-1)\n",
      "\n",
      "def somme(deb, fin, f, fargs=()):\n",
      "    \"\"\"\n",
      "    calcul de \n",
      "    \n",
      "    $$\n",
      "    \\sum_{k=deb}^fin f(k, *fargs)\n",
      "    $$\n",
      "    \n",
      "    test d'une suite arithmetique\n",
      "    >>> somme(0, 10, lambda k:k)\n",
      "    55.0\n",
      "    \n",
      "    test d'une suite geometrique\n",
      "    >>> somme(1, 8, lambda k: 2**k)\n",
      "    510.0\n",
      "\n",
      "    \"\"\"\n",
      "    \n",
      "    som = 0.\n",
      "    for k in xrange(deb, fin + 1):\n",
      "        som += f(k, *fargs)\n",
      "    return som\n",
      "    \n",
      "def coef_binomial(n, k):\n",
      "    \"\"\"\n",
      "    calcul de $C_n^k$\n",
      "    \n",
      "    >>> coef_binomial(4, 2)\n",
      "    6\n",
      "    \n",
      "    \"\"\"\n",
      "    if k > n or k < 0:\n",
      "        return 0.\n",
      "    return factorielle(n)/(factorielle(k)*factorielle(n-k))\n",
      "\n",
      "def fibonacci(n):\n",
      "    \"\"\"\n",
      "    Renvoie la liste des n premiers termes de la suite de Fibonacci\n",
      "    \n",
      "    >>> fibonacci(10)\n",
      "    [1, 1, 2, 3, 5, 8, 13, 21, 34, 55]\n",
      "    \n",
      "    \"\"\"\n",
      "    def g(k, n):\n",
      "        return coef_binomial(n - k, k)\n",
      "    \n",
      "    fibo = []\n",
      "    for i in xrange(n):\n",
      "        fibo.append(int(somme(0, i, g, fargs=(i,))))\n",
      "    \n",
      "    return fibo\n",
      "\n",
      "if __name__ == '__main__':\n",
      "    import doctest\n",
      "    doctest.testmod(verbose=True)"
     ],
     "language": "python",
     "metadata": {
      "slideshow": {
       "slide_type": "slide"
      }
     },
     "outputs": [
      {
       "output_type": "stream",
       "stream": "stdout",
       "text": [
        "Writing fibonacci.py\n"
       ]
      }
     ],
     "prompt_number": 1
    },
    {
     "cell_type": "markdown",
     "metadata": {
      "slideshow": {
       "slide_type": "slide"
      }
     },
     "source": [
      "On souhaite faire les tests suivants\n",
      "\n",
      "* **tests unitaires**: tester si les fonctions *factorielle* et *somme* fonctionnent correctement.\n",
      "* **tests d'int\u00e9gration**: tester si les fonctions *factorielle* et *somme* fonctionnent correctement ensemble, tester si la fonction *coef_binomial* fonctionne correctement.\n",
      "* **tests du syst\u00e8me complet**: tester si la fonction *fibonacci* donne le bon r\u00e9sultat."
     ]
    },
    {
     "cell_type": "markdown",
     "metadata": {
      "slideshow": {
       "slide_type": "slide"
      }
     },
     "source": [
      "# Les outils de tests en Python"
     ]
    },
    {
     "cell_type": "markdown",
     "metadata": {},
     "source": [
      "Il existe diff\u00e9rents outils en Python permettant de r\u00e9aliser des tests ([https://wiki.python.org/moin/PythonTestingToolsTaxonomy](https://wiki.python.org/moin/PythonTestingToolsTaxonomy)). Nous nous int\u00e9resserons ici \u00e0 trois d'entre eux\n",
      "\n",
      "- doctest\n",
      "- unittest\n",
      "- nosetests"
     ]
    },
    {
     "cell_type": "markdown",
     "metadata": {
      "slideshow": {
       "slide_type": "slide"
      }
     },
     "source": [
      "# doctest"
     ]
    },
    {
     "cell_type": "markdown",
     "metadata": {
      "slideshow": {
       "slide_type": "slide"
      }
     },
     "source": [
      "**doctest** permet de faire des tests basiques en s'appuyant par exemple sur les docstrings. \n",
      "\n",
      "\n",
      "*Rappel*: les docstrings permettent d'\u00e9crire de la documentation tr\u00e8s facilement de nos fonctions ou de nos classes Python. Elles se placent tout de suite apr\u00e8s une m\u00e9thode, une fonction, une classe. On rappelle ici bri\u00e8vement le principe en \u00e9crivant une documentation pour une fonction."
     ]
    },
    {
     "cell_type": "code",
     "collapsed": false,
     "input": [
      "def add(a, b):\n",
      "    \"\"\"\n",
      "    addition de 2 nombres a et b\n",
      "    \"\"\"\n",
      "    return a + b\n"
     ],
     "language": "python",
     "metadata": {
      "slideshow": {
       "slide_type": "slide"
      }
     },
     "outputs": [],
     "prompt_number": 56
    },
    {
     "cell_type": "code",
     "collapsed": false,
     "input": [
      "print help(add)"
     ],
     "language": "python",
     "metadata": {},
     "outputs": [
      {
       "output_type": "stream",
       "stream": "stdout",
       "text": [
        "Help on function add in module __main__:\n",
        "\n",
        "add(a, b)\n",
        "    addition de 2 nombres a et b\n",
        "\n",
        "None\n"
       ]
      }
     ],
     "prompt_number": 57
    },
    {
     "cell_type": "markdown",
     "metadata": {
      "slideshow": {
       "slide_type": "slide"
      }
     },
     "source": [
      "**doctest** effectue\n",
      "\n",
      "* une recherche dans les sources des bouts de texte qui ressemblent \u00e0 une session interactive Python,\n",
      "* une recherche dans des fichiers textes des bouts de texte qui ressemblent \u00e0 une session interactive Python,\n",
      "* une ex\u00e9cution de ces bouts de session pour voir si le r\u00e9sultat est conforme.\n",
      "\n",
      "Les sessions interactives sont repr\u00e9sent\u00e9es par le symbole **>>>**.\n",
      "\n",
      "Pour l'utiliser, il suffit d'importer le module *doctest* et d'appeler *testmod* si on veut tester l'ensemble d'un module comme dans notre exemple *fibonacci.py*.\n",
      "\n",
      "Voici un exemple de la sortie :"
     ]
    },
    {
     "cell_type": "code",
     "collapsed": false,
     "input": [
      "!python fibonacci.py"
     ],
     "language": "python",
     "metadata": {
      "slideshow": {
       "slide_type": "slide"
      }
     },
     "outputs": [
      {
       "output_type": "stream",
       "stream": "stdout",
       "text": [
        "Trying:\r\n",
        "    coef_binomial(4, 2)\r\n",
        "Expecting:\r\n",
        "    6\r\n",
        "ok\r\n",
        "Trying:\r\n",
        "    factorielle(0)\r\n",
        "Expecting:\r\n",
        "    1\r\n",
        "ok\r\n",
        "Trying:\r\n",
        "    factorielle(5)\r\n",
        "Expecting:\r\n",
        "    120\r\n",
        "ok\r\n",
        "Trying:\r\n",
        "    fibonacci(10)\r\n",
        "Expecting:\r\n",
        "    [1, 1, 2, 3, 5, 8, 13, 21, 34, 55]\r\n",
        "ok\r\n",
        "Trying:\r\n",
        "    somme(0, 10, lambda k:k)\r\n",
        "Expecting:\r\n",
        "    55.0\r\n",
        "ok\r\n",
        "Trying:\r\n",
        "    somme(1, 8, lambda k: 2**k)\r\n",
        "Expecting:\r\n",
        "    510.0\r\n",
        "ok\r\n",
        "1 items had no tests:\r\n",
        "    __main__\r\n",
        "4 items passed all tests:\r\n",
        "   1 tests in __main__.coef_binomial\r\n",
        "   2 tests in __main__.factorielle\r\n",
        "   1 tests in __main__.fibonacci\r\n",
        "   2 tests in __main__.somme\r\n",
        "6 tests in 5 items.\r\n",
        "6 passed and 0 failed.\r\n",
        "Test passed.\r\n"
       ]
      }
     ],
     "prompt_number": 58
    },
    {
     "cell_type": "markdown",
     "metadata": {
      "slideshow": {
       "slide_type": "slide"
      }
     },
     "source": [
      "## Les directives\n",
      "\n",
      "Il est possible d'ajouter des directives dans le texte permettant de ne pas faire le test, d'indiquer juste une partie de la sortie, ...\n",
      "\n"
     ]
    },
    {
     "cell_type": "code",
     "collapsed": false,
     "input": [
      "%%file fibo.txt\n",
      "Voici un exemple permettant de tester le module de fibonacci\n",
      "\n",
      ">>> import fibonacci as f\n",
      ">>> n = 30\n",
      ">>> for i in xrange(n):\n",
      "...    print f.coef_binomial(n, i) \n",
      "... # doctest: +ELLIPSIS +NORMALIZE_WHITESPACE\n",
      "1...\n",
      "145422675\n",
      "155117520\n",
      "145422675\n",
      "...\n"
     ],
     "language": "python",
     "metadata": {},
     "outputs": [
      {
       "output_type": "stream",
       "stream": "stdout",
       "text": [
        "Overwriting fibo.txt\n"
       ]
      }
     ],
     "prompt_number": 15
    },
    {
     "cell_type": "markdown",
     "metadata": {
      "slideshow": {
       "slide_type": "slide"
      }
     },
     "source": [
      "Si **doctest** est tr\u00e8s simple d'utilisation, on se rend bien compte qu'il est assez limit\u00e9 et qu'il ne permet pas de faire des tests tr\u00e8s \u00e9labor\u00e9s."
     ]
    },
    {
     "cell_type": "markdown",
     "metadata": {
      "slideshow": {
       "slide_type": "slide"
      }
     },
     "source": [
      "# unittest"
     ]
    },
    {
     "cell_type": "markdown",
     "metadata": {
      "slideshow": {
       "slide_type": "slide"
      }
     },
     "source": [
      "Ce module est \u00e9galement appel\u00e9 PyUnit et reprend l'esprit de JUnit qui permet de faire des tests en java. Il supporte\n",
      "\n",
      "* les tests automatiques,\n",
      "* les fonctions d'initialisation et de finalisation pour chaque test,\n",
      "* l'aggr\u00e9gation des tests,\n",
      "* l'ind\u00e9pendance des tests dans le rapport final."
     ]
    },
    {
     "cell_type": "markdown",
     "metadata": {
      "slideshow": {
       "slide_type": "slide"
      }
     },
     "source": [
      "Pour \u00e9crire des tests, il faut respecter certaines r\u00e8gles.\n",
      "\n",
      "* Les tests doivent faire partie d'une classe h\u00e9rit\u00e9e de la classe `unittest.TestCase`.\n",
      "* Les noms des m\u00e9thodes de cette classe doivent avoir le prefixe test pour \u00eatre consid\u00e9r\u00e9s comme tests.\n",
      "* Les tests sont ex\u00e9cut\u00e9s par ordre alphab\u00e9tique.\n",
      "* La fonction ex\u00e9cut\u00e9e avant chaque test doit avoir le nom `setUp`.\n",
      "* La fonction ex\u00e9cut\u00e9e apr\u00e8s chaque test doit avoir le nom `tearDown`.\n",
      "\n",
      "Voici un exemple de son utilisation avec notre module *fibonacci*."
     ]
    },
    {
     "cell_type": "code",
     "collapsed": false,
     "input": [
      "%%file test_fibo.py\n",
      "import unittest\n",
      "from fibonacci import *\n",
      "\n",
      "class TestFibo(unittest.TestCase):\n",
      "    def test_factorielle_0(self):\n",
      "        self.assertEqual(factorielle(0), 1)\n",
      "\n",
      "    def test_factorielle_5(self):\n",
      "        self.assertEqual(factorielle(5), 120)\n",
      "        \n",
      "    def test_somme(self):\n",
      "        self.assertEqual(somme(0, 10, lambda k:k), 55)\n",
      "\n",
      "    def test_coef_binomial(self):\n",
      "        self.assertEqual(coef_binomial(4, 2), 6)\n",
      "        \n",
      "    def test_fibo(self):\n",
      "        self.assertEqual(fibonacci(10), [1, 1, 2, 3, 5, 8, 13, 21, 34, 55])\n",
      "        \n",
      "if __name__ == '__main__':\n",
      "    unittest.main(verbosity=2) # par defaut verbosity=1"
     ],
     "language": "python",
     "metadata": {
      "slideshow": {
       "slide_type": "slide"
      }
     },
     "outputs": [
      {
       "output_type": "stream",
       "stream": "stdout",
       "text": [
        "Overwriting test_fibo.py\n"
       ]
      }
     ],
     "prompt_number": 37
    },
    {
     "cell_type": "code",
     "collapsed": false,
     "input": [
      "!python test_fibo.py"
     ],
     "language": "python",
     "metadata": {
      "slideshow": {
       "slide_type": "slide"
      }
     },
     "outputs": [
      {
       "output_type": "stream",
       "stream": "stdout",
       "text": [
        "test_coef_binomial (__main__.TestFibo) ... ok\r\n",
        "test_factorielle_0 (__main__.TestFibo) ... ok\r\n",
        "test_factorielle_5 (__main__.TestFibo) ... ok\r\n",
        "test_fibo (__main__.TestFibo) ... ok\r\n",
        "test_somme (__main__.TestFibo) ... ok\r\n",
        "\r\n",
        "----------------------------------------------------------------------\r\n",
        "Ran 5 tests in 0.001s\r\n",
        "\r\n",
        "OK\r\n"
       ]
      }
     ],
     "prompt_number": 38
    },
    {
     "cell_type": "markdown",
     "metadata": {
      "slideshow": {
       "slide_type": "slide"
      }
     },
     "source": [
      "## Les assertions\n",
      "\n",
      "Ils permettent de dire \u00e0 **unittest** ce que l'on attend comme r\u00e9sultat du test.\n",
      "\n",
      "- `assertEqual`: les 2 valeurs doivent \u00eatre \u00e9gales.\n",
      "- `assertAlmostEqual`: les 2 valeurs doivent \u00eatre \u00e0 peu pr\u00e8s \u00e9gales.\n",
      "- `assertTrue`: l'expression doit \u00eatre vraie.\n",
      "- `assertFalse`: l'expression doit \u00eatre fausse.\n",
      "- ...\n"
     ]
    },
    {
     "cell_type": "code",
     "collapsed": false,
     "input": [
      "%%file test_assert.py\n",
      "import unittest\n",
      "\n",
      "class TestAssert(unittest.TestCase):\n",
      "    def test_equal(self):\n",
      "        self.assertEqual(2, 1 + 1)\n",
      "\n",
      "    def test_false(self):\n",
      "        self.assertFalse(1 == 1 + 1)\n",
      "        \n",
      "    def test_almostEqual(self):\n",
      "        self.assertAlmostEqual(0.000011, 0.000012, places=5)\n",
      "        \n",
      "if __name__ == '__main__':\n",
      "    unittest.main(verbosity=2) # par defaut verbosity=1"
     ],
     "language": "python",
     "metadata": {
      "slideshow": {
       "slide_type": "slide"
      }
     },
     "outputs": [
      {
       "output_type": "stream",
       "stream": "stdout",
       "text": [
        "Overwriting test_assert.py\n"
       ]
      }
     ],
     "prompt_number": 43
    },
    {
     "cell_type": "code",
     "collapsed": false,
     "input": [
      "!python test_assert.py"
     ],
     "language": "python",
     "metadata": {
      "slideshow": {
       "slide_type": "slide"
      }
     },
     "outputs": [
      {
       "output_type": "stream",
       "stream": "stdout",
       "text": [
        "test_almostEqual (__main__.TestAssert) ... ok\r\n",
        "test_equal (__main__.TestAssert) ... ok\r\n",
        "test_false (__main__.TestAssert) ... ok\r\n",
        "\r\n",
        "----------------------------------------------------------------------\r\n",
        "Ran 3 tests in 0.000s\r\n",
        "\r\n",
        "OK\r\n"
       ]
      }
     ],
     "prompt_number": 44
    },
    {
     "cell_type": "markdown",
     "metadata": {},
     "source": [
      "## Rassembler les tests"
     ]
    },
    {
     "cell_type": "code",
     "collapsed": false,
     "input": [
      "%%file alltests.py\n",
      "import unittest\n",
      "\n",
      "def allTests():\n",
      "    from test_assert import TestAssert\n",
      "    from test_fibo import TestFibo\n",
      "\n",
      "    suite = unittest.TestSuite()\n",
      "    suite.addTest(unittest.makeSuite(TestAssert))\n",
      "    suite.addTest(unittest.makeSuite(TestFibo))\n",
      "\n",
      "    return suite\n",
      "\n",
      "if __name__ == '__main__':\n",
      "    unittest.TextTestRunner(verbosity=2).run(allTests())"
     ],
     "language": "python",
     "metadata": {
      "slideshow": {
       "slide_type": "-"
      }
     },
     "outputs": [
      {
       "output_type": "stream",
       "stream": "stdout",
       "text": [
        "Writing alltests.py\n"
       ]
      }
     ],
     "prompt_number": 45
    },
    {
     "cell_type": "code",
     "collapsed": false,
     "input": [
      "!python alltests.py"
     ],
     "language": "python",
     "metadata": {},
     "outputs": [
      {
       "output_type": "stream",
       "stream": "stdout",
       "text": [
        "test_almostEqual (test_assert.TestAssert) ... ok\r\n",
        "test_equal (test_assert.TestAssert) ... ok\r\n",
        "test_false (test_assert.TestAssert) ... ok\r\n",
        "test_coef_binomial (test_fibo.TestFibo) ... ok\r\n",
        "test_factorielle_0 (test_fibo.TestFibo) ... ok\r\n",
        "test_factorielle_5 (test_fibo.TestFibo) ... ok\r\n",
        "test_fibo (test_fibo.TestFibo) ... ok\r\n",
        "test_somme (test_fibo.TestFibo) ... ok\r\n",
        "\r\n",
        "----------------------------------------------------------------------\r\n",
        "Ran 8 tests in 0.001s\r\n",
        "\r\n",
        "OK\r\n"
       ]
      }
     ],
     "prompt_number": 46
    },
    {
     "cell_type": "markdown",
     "metadata": {
      "slideshow": {
       "slide_type": "slide"
      }
     },
     "source": [
      "# nosetests"
     ]
    },
    {
     "cell_type": "markdown",
     "metadata": {
      "slideshow": {
       "slide_type": "slide"
      }
     },
     "source": [
      "Ce module reconna\u00eet automatiquement les tests r\u00e9alis\u00e9s \u00e0 partir de **unittest** ou de **doctest**. Il a en plus d'autres fonctionalit\u00e9s int\u00e9ressantes\n",
      "\n",
      "* tests de couverture,\n",
      "* tests de profiling,\n",
      "* possibilit\u00e9 d'ajouter des plugins,\n",
      "* ..."
     ]
    },
    {
     "cell_type": "markdown",
     "metadata": {
      "slideshow": {
       "slide_type": "slide"
      }
     },
     "source": [
      "### *Exemple d'utilisation avec doctest*"
     ]
    },
    {
     "cell_type": "code",
     "collapsed": false,
     "input": [
      "!nosetests -v --with-doctest fibonacci.py"
     ],
     "language": "python",
     "metadata": {},
     "outputs": [
      {
       "output_type": "stream",
       "stream": "stdout",
       "text": [
        "Doctest: fibonacci.coef_binomial ... ok\r\n",
        "Doctest: fibonacci.factorielle ... ok\r\n",
        "Doctest: fibonacci.fibonacci ... ok\r\n",
        "Doctest: fibonacci.somme ... ok\r\n",
        "\r\n",
        "----------------------------------------------------------------------\r\n",
        "Ran 4 tests in 0.004s\r\n",
        "\r\n",
        "OK\r\n"
       ]
      }
     ],
     "prompt_number": 1
    },
    {
     "cell_type": "markdown",
     "metadata": {
      "slideshow": {
       "slide_type": "slide"
      }
     },
     "source": [
      "### *Exemple d'utilisation avec unittest*"
     ]
    },
    {
     "cell_type": "code",
     "collapsed": false,
     "input": [
      "!nosetests -v test_fibo.py"
     ],
     "language": "python",
     "metadata": {},
     "outputs": [
      {
       "output_type": "stream",
       "stream": "stdout",
       "text": [
        "test_coef_binomial (test_fibo.TestFibo) ... ok\r\n",
        "test_factorielle_0 (test_fibo.TestFibo) ... ok\r\n",
        "test_factorielle_5 (test_fibo.TestFibo) ... ok\r\n",
        "test_fibo (test_fibo.TestFibo) ... ok\r\n",
        "test_somme (test_fibo.TestFibo) ... ok\r\n",
        "\r\n",
        "----------------------------------------------------------------------\r\n",
        "Ran 5 tests in 0.001s\r\n",
        "\r\n",
        "OK\r\n"
       ]
      }
     ],
     "prompt_number": 47
    },
    {
     "cell_type": "markdown",
     "metadata": {
      "slideshow": {
       "slide_type": "slide"
      }
     },
     "source": [
      "## Ecriture de tests avec nosetest\n",
      "\n",
      "**nosetests** consid\u00e8re qu'un fichier, un r\u00e9pertoire contient des tests si celui-ci satisfait l'expression r\u00e9guli\u00e8re que l'on appellera dans la suite *matchTest*\n",
      "\n",
      "```\n",
      "((?:^|[\\\\b_\\\\.-])[Tt]est\n",
      "```\n",
      "\n",
      "En d'autres termes, il faut que les noms test ou Test soient au d\u00e9but du nom ou qu'ils soient pr\u00e9c\u00e9d\u00e9s de - ou _.\n",
      "\n",
      "La r\u00e8gle s'applique \u00e9galement aux fonctions, classes, ... qui se trouvent dans le fichier \u00e0 tester."
     ]
    },
    {
     "cell_type": "markdown",
     "metadata": {
      "slideshow": {
       "slide_type": "slide"
      }
     },
     "source": [
      "## Exemples"
     ]
    },
    {
     "cell_type": "code",
     "collapsed": false,
     "input": [
      "%%file test_nose.py\n",
      "\n",
      "class test_une_classe:\n",
      "    def pasuntestvalide(self):\n",
      "        pass\n",
      "\n",
      "    def testvalide(self):\n",
      "        pass\n",
      "\n",
      "    def encore_un_test_valide(self):\n",
      "        pass\n",
      "\n",
      "def ouUneFonction_Test():\n",
      "    pass"
     ],
     "language": "python",
     "metadata": {},
     "outputs": [
      {
       "output_type": "stream",
       "stream": "stdout",
       "text": [
        "Overwriting test_nose.py\n"
       ]
      }
     ],
     "prompt_number": 65
    },
    {
     "cell_type": "code",
     "collapsed": false,
     "input": [
      "!nosetests -v test_nose.py"
     ],
     "language": "python",
     "metadata": {},
     "outputs": [
      {
       "output_type": "stream",
       "stream": "stdout",
       "text": [
        "test_nose.test_une_classe.encore_un_test_valide ... ok\r\n",
        "test_nose.test_une_classe.testvalide ... ok\r\n",
        "test_nose.ouUneFonction_Test ... ok\r\n",
        "\r\n",
        "----------------------------------------------------------------------\r\n",
        "Ran 3 tests in 0.001s\r\n",
        "\r\n",
        "OK\r\n"
       ]
      }
     ],
     "prompt_number": 66
    },
    {
     "cell_type": "markdown",
     "metadata": {
      "slideshow": {
       "slide_type": "slide"
      }
     },
     "source": [
      "## Les assertions\n",
      "\n",
      "Tout comme **unittest**, **nosetests** comprend tout un tas d'outils pour faire des assertions. Ils se trouvent dans `nose.tools`. \n",
      "\n",
      "Attention: contrairement \u00e0 **unititest**, **nosetests** satisfait les r\u00e8gles de la [PEP 8](https://www.python.org/dev/peps/pep-0008#function-names). Par cons\u00e9quent, `assertEqual` devient `assert_equal`."
     ]
    },
    {
     "cell_type": "markdown",
     "metadata": {
      "slideshow": {
       "slide_type": "slide"
      }
     },
     "source": [
      "## Initialisation et finalisation des tests\n",
      "\n",
      "Il est possible d'ex\u00e9cuter du code en d\u00e9but et en fin de tests comme avec les fonctions `setUp` et `tearDown` de **unittest**."
     ]
    },
    {
     "cell_type": "markdown",
     "metadata": {
      "slideshow": {
       "slide_type": "slide"
      }
     },
     "source": [
      "## Pour les packages de tests\n",
      "\n",
      "On peut ajouter les fonctions d'initialisation et de finalisation dans le fichier `__init__.py`. \n",
      "\n",
      "Les fonctions d'initialisation doivent se nommer `setup`, `setup_package`, `setUp` ou `setUpPackage`.\n",
      "\n",
      "Les fonctions de finalisation doivent se nommer `teardown`, `teardown_package`, `tearDown` ou `tearDownPackage`."
     ]
    },
    {
     "cell_type": "markdown",
     "metadata": {
      "slideshow": {
       "slide_type": "slide"
      }
     },
     "source": [
      "##\u00a0Pour les modules de tests\n",
      "\n",
      "Un module de tests est un module dont le nom satisfait *matchTest*. \n",
      "\n",
      "De la m\u00eame mani\u00e8re que pour les packages, les fonctions d'initialisation et de finalisation doivent avoir les noms `setup`, `setup_module`, `setUp` ou `setUpModule` et `teardown`, `teardown_module`, `tearDown` ou `tearDownModule`\n"
     ]
    },
    {
     "cell_type": "markdown",
     "metadata": {
      "slideshow": {
       "slide_type": "slide"
      }
     },
     "source": [
      "##\u00a0Pour les classes de tests\n",
      "\n",
      "Une classe de tests est une classe dont le nom satisfait *matchTest*. Elle doit se trouver dans un module de tests.\n",
      "\n",
      "Soit elle d\u00e9rive de la classe `unittest.TestCase`, soit elle comporte des m\u00e9thodes qui satisfont le *matchTest*.\n",
      "\n",
      "Les fonctions d'initialisation sont `setup_class`, `setupClass`, `setUpClass`, `setupAll` ou `setUpAll`.\n",
      "\n",
      "Les fonctions de finalisation sont `teardown_class`, `teardownClass`, `tearDownClass`, `teardownAll` ou `tearDownAll`."
     ]
    },
    {
     "cell_type": "markdown",
     "metadata": {
      "slideshow": {
       "slide_type": "slide"
      }
     },
     "source": [
      "## Pour les fonctions de tests\n",
      "\n",
      "Une fonction de tests est une fonction dont le nom satisfait *matchTest*. Elle doit se trouver dans un module de tests.\n",
      "\n",
      "Contrairement aux pr\u00e9c\u00e9dents cas, il n'y a pas de format particulier pour les phases d'initialisation et de finalisation.\n",
      "\n",
      "Il faut utiliser le d\u00e9corateur `with_setup` qui se trouve dans le module `nose`."
     ]
    },
    {
     "cell_type": "code",
     "collapsed": false,
     "input": [
      "%%file test_nose2.py\n",
      "from nose import with_setup\n",
      "\n",
      "def init_func():\n",
      "    print \"j'inialise !!\"\n",
      "\n",
      "def end_func():\n",
      "    print \"je finalise !!\"\n",
      "    \n",
      "@with_setup(init_func, end_func)    \n",
      "def test1():\n",
      "    print \"test 1\"\n"
     ],
     "language": "python",
     "metadata": {
      "slideshow": {
       "slide_type": "slide"
      }
     },
     "outputs": [
      {
       "output_type": "stream",
       "stream": "stdout",
       "text": [
        "Overwriting test_nose2.py\n"
       ]
      }
     ],
     "prompt_number": 90
    },
    {
     "cell_type": "code",
     "collapsed": false,
     "input": [
      "!nosetests -s test_nose2.py"
     ],
     "language": "python",
     "metadata": {},
     "outputs": [
      {
       "output_type": "stream",
       "stream": "stdout",
       "text": [
        "j'inialise !!\r\n",
        "test 1\r\n",
        "je finalise !!\r\n",
        ".\r\n",
        "----------------------------------------------------------------------\r\n",
        "Ran 1 test in 0.000s\r\n",
        "\r\n",
        "OK\r\n"
       ]
      }
     ],
     "prompt_number": 91
    },
    {
     "cell_type": "markdown",
     "metadata": {
      "slideshow": {
       "slide_type": "slide"
      }
     },
     "source": [
      "## Les attributs\n",
      "\n",
      "Dans **nosetests**, il est possible de s\u00e9lectionner une partie des tests en utilisant des attributs.\n",
      "\n",
      "On peut par exemple ex\u00e9cuter que les tests qui ne sont pas lents."
     ]
    },
    {
     "cell_type": "code",
     "collapsed": false,
     "input": [
      "%%file test_nose_attr.py\n",
      "from nose.plugins.attrib import attr\n",
      "\n",
      "@attr('lent')\n",
      "def test_lent():\n",
      "    print 'test lent'\n",
      "\n",
      "def test_rapide():\n",
      "    print 'test rapide'"
     ],
     "language": "python",
     "metadata": {},
     "outputs": [
      {
       "output_type": "stream",
       "stream": "stdout",
       "text": [
        "Overwriting test_nose_attr.py\n"
       ]
      }
     ],
     "prompt_number": 110
    },
    {
     "cell_type": "code",
     "collapsed": false,
     "input": [
      "!nosetests -s test_nose_attr.py"
     ],
     "language": "python",
     "metadata": {},
     "outputs": [
      {
       "output_type": "stream",
       "stream": "stdout",
       "text": [
        "test lent\r\n",
        ".test rapide\r\n",
        ".\r\n",
        "----------------------------------------------------------------------\r\n",
        "Ran 2 tests in 0.000s\r\n",
        "\r\n",
        "OK\r\n"
       ]
      }
     ],
     "prompt_number": 111
    },
    {
     "cell_type": "code",
     "collapsed": false,
     "input": [
      "!nosetests -s -a '!lent' test_nose_attr.py"
     ],
     "language": "python",
     "metadata": {},
     "outputs": [
      {
       "output_type": "stream",
       "stream": "stdout",
       "text": [
        "test rapide\r\n",
        ".\r\n",
        "----------------------------------------------------------------------\r\n",
        "Ran 1 test in 0.000s\r\n",
        "\r\n",
        "OK\r\n"
       ]
      }
     ],
     "prompt_number": 112
    },
    {
     "cell_type": "code",
     "collapsed": false,
     "input": [
      "%%file test_nose_attr.py\n",
      "from nose.plugins.attrib import attr\n",
      "\n",
      "@attr(vitesse='lent')\n",
      "def test_lent():\n",
      "    print 'test lent'\n",
      "\n",
      "@attr(vitesse='rapide')\n",
      "def test_rapide():\n",
      "    print 'test rapide'"
     ],
     "language": "python",
     "metadata": {
      "slideshow": {
       "slide_type": "slide"
      }
     },
     "outputs": [
      {
       "output_type": "stream",
       "stream": "stdout",
       "text": [
        "Overwriting test_nose_attr.py\n"
       ]
      }
     ],
     "prompt_number": 113
    },
    {
     "cell_type": "code",
     "collapsed": false,
     "input": [
      "!nosetests -s -a vitesse='lent' test_nose_attr.py"
     ],
     "language": "python",
     "metadata": {},
     "outputs": [
      {
       "output_type": "stream",
       "stream": "stdout",
       "text": [
        "test lent\r\n",
        ".\r\n",
        "----------------------------------------------------------------------\r\n",
        "Ran 1 test in 0.000s\r\n",
        "\r\n",
        "OK\r\n"
       ]
      }
     ],
     "prompt_number": 114
    },
    {
     "cell_type": "markdown",
     "metadata": {
      "slideshow": {
       "slide_type": "slide"
      }
     },
     "source": [
      "## Les tests de couverture\n",
      "\n",
      "Il est \u00e9galement possible avec **nosetests** de voir si nos tests passent bien sur l'ensemble de notre code.\n"
     ]
    },
    {
     "cell_type": "code",
     "collapsed": false,
     "input": [
      "!nosetests --with-coverage --cover-package=fibonacci test_fibo.py"
     ],
     "language": "python",
     "metadata": {},
     "outputs": [
      {
       "output_type": "stream",
       "stream": "stdout",
       "text": [
        ".....\r\n",
        "Name        Stmts   Miss  Cover   Missing\r\n",
        "-----------------------------------------\r\n",
        "fibonacci      24      2    92%   71-72\r\n",
        "----------------------------------------------------------------------\r\n",
        "Ran 5 tests in 0.002s\r\n",
        "\r\n",
        "OK\r\n"
       ]
      }
     ],
     "prompt_number": 116
    },
    {
     "cell_type": "markdown",
     "metadata": {
      "slideshow": {
       "slide_type": "slide"
      }
     },
     "source": [
      "On voit qu'on a oubli\u00e9 de tester 2 lignes de notre module. Si on creuse un peu ces 2 lignes correspondent aux lignes du main ce qui n'est donc pas tr\u00e8s important."
     ]
    }
   ],
   "metadata": {}
  }
 ]
}