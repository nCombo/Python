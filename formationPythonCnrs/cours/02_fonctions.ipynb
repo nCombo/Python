{
 "metadata": {
  "celltoolbar": "Slideshow",
  "name": "",
  "signature": "sha256:5fa2ed4bd3171935e25c5e7c69d4dd7d3018602e6a68e80e7b4e0832d64d9e94"
 },
 "nbformat": 3,
 "nbformat_minor": 0,
 "worksheets": [
  {
   "cells": [
    {
     "cell_type": "markdown",
     "metadata": {
      "slideshow": {
       "slide_type": "slide"
      }
     },
     "source": [
      "#Formation Python\n",
      "#*Les fonctions*"
     ]
    },
    {
     "cell_type": "markdown",
     "metadata": {
      "slideshow": {
       "slide_type": "slide"
      }
     },
     "source": [
      "#Une fonction\n",
      "Une fonction repr\u00e9sente un sous-programme d\u00e9di\u00e9 \u00e0 une t\u00e2che particuli\u00e8re :\n",
      " - quand on appelle une fonction, on quitte le programme principal pour aller dans la fonction ;\n",
      " - on revient dans le programme principal \u00e0 la fin de la fonction."
     ]
    },
    {
     "cell_type": "code",
     "collapsed": false,
     "input": [
      "#d\u00e9finition\n",
      "def maFonction():\n",
      "    pass\n",
      "# Cette fonction ne fait rien et ne produit aucun r\u00e9sultat"
     ],
     "language": "python",
     "metadata": {
      "slideshow": {
       "slide_type": "fragment"
      }
     },
     "outputs": [],
     "prompt_number": 113
    },
    {
     "cell_type": "code",
     "collapsed": false,
     "input": [
      "#Appel\n",
      "maFonction()"
     ],
     "language": "python",
     "metadata": {
      "slideshow": {
       "slide_type": "fragment"
      }
     },
     "outputs": [],
     "prompt_number": 114
    },
    {
     "cell_type": "markdown",
     "metadata": {
      "slideshow": {
       "slide_type": "slide"
      }
     },
     "source": [
      "#Une fonction\n",
      "Une fonction repr\u00e9sente un sous-programme d\u00e9di\u00e9 \u00e0 une t\u00e2che particuli\u00e8re :\n",
      " - quand on appelle une fonction, on quitte le programme principal pour aller dans la fonction ;\n",
      " - on revient dans le programme principal \u00e0 la fin de la fonction."
     ]
    },
    {
     "cell_type": "code",
     "collapsed": false,
     "input": [
      "#d\u00e9finition\n",
      "def maFonction():\n",
      "    pass\n",
      "# Cette fonction ne fait rien et ne produit aucun r\u00e9sultat"
     ],
     "language": "python",
     "metadata": {
      "slideshow": {
       "slide_type": "fragment"
      }
     },
     "outputs": [],
     "prompt_number": 113
    },
    {
     "cell_type": "code",
     "collapsed": false,
     "input": [
      "#Appel et affichage du r\u00e9sultat\n",
      "print maFonction()"
     ],
     "language": "python",
     "metadata": {
      "slideshow": {
       "slide_type": "fragment"
      }
     },
     "outputs": [
      {
       "output_type": "stream",
       "stream": "stdout",
       "text": [
        "None\n"
       ]
      }
     ],
     "prompt_number": 115
    },
    {
     "cell_type": "markdown",
     "metadata": {
      "slideshow": {
       "slide_type": "slide"
      }
     },
     "source": [
      "#Une fonction"
     ]
    },
    {
     "cell_type": "code",
     "collapsed": false,
     "input": [
      "#d\u00e9finition\n",
      "def maFonction(a, b):\n",
      "    pass\n",
      "# Cette fonction ne fait rien et ne produit aucun r\u00e9sultat"
     ],
     "language": "python",
     "metadata": {
      "slideshow": {
       "slide_type": "fragment"
      }
     },
     "outputs": [],
     "prompt_number": 113
    },
    {
     "cell_type": "markdown",
     "metadata": {
      "slideshow": {
       "slide_type": "fragment"
      }
     },
     "source": [
      "Une fonction contient:\n",
      " - le mot clef **def**, un nom, '**(**', des arguments, '**)**' '**:**'\n",
      "  - un corps (indent\u00e9).\n",
      "L'ex\u00e9cution d'une fonction se termine lorsque l'on termine le block indent\u00e9 ou au premier **return**."
     ]
    },
    {
     "cell_type": "markdown",
     "metadata": {
      "slideshow": {
       "slide_type": "slide"
      }
     },
     "source": [
      "## Code de la fonction"
     ]
    },
    {
     "cell_type": "code",
     "collapsed": false,
     "input": [
      "#Ajoutons un corps de fonction\n",
      "def maFonction():\n",
      "    print(\"Dans ma fonction\")\n",
      "#Appel \u00e0 maFonction\n",
      "maFonction()"
     ],
     "language": "python",
     "metadata": {
      "slideshow": {
       "slide_type": "fragment"
      }
     },
     "outputs": [
      {
       "output_type": "stream",
       "stream": "stdout",
       "text": [
        "Dans ma fonction\n"
       ]
      }
     ],
     "prompt_number": 121
    },
    {
     "cell_type": "code",
     "collapsed": false,
     "input": [
      "#Appel et affichage du r\u00e9sultat\n",
      "print maFonction()"
     ],
     "language": "python",
     "metadata": {
      "slideshow": {
       "slide_type": "fragment"
      }
     },
     "outputs": [
      {
       "output_type": "stream",
       "stream": "stdout",
       "text": [
        "Dans ma fonction\n",
        "None\n"
       ]
      }
     ],
     "prompt_number": 122
    },
    {
     "cell_type": "markdown",
     "metadata": {
      "slideshow": {
       "slide_type": "slide"
      }
     },
     "source": [
      "## Retour gr\u00e2ce au mot clef **return**"
     ]
    },
    {
     "cell_type": "code",
     "collapsed": false,
     "input": [
      "def maFonction():\n",
      "    print(\"Dans ma fonction\")\n",
      "    return\n",
      "    print(\"Toujours dans ma fonction\")\n",
      "print maFonction()"
     ],
     "language": "python",
     "metadata": {
      "slideshow": {
       "slide_type": "fragment"
      }
     },
     "outputs": [
      {
       "output_type": "stream",
       "stream": "stdout",
       "text": [
        "Dans ma fonction\n",
        "None\n"
       ]
      }
     ],
     "prompt_number": 120
    },
    {
     "cell_type": "markdown",
     "metadata": {
      "slideshow": {
       "slide_type": "slide"
      }
     },
     "source": [
      "#Une fonction\n",
      "Une partie de programme qui appelle un sous-programme peut lui communiquer des arguments."
     ]
    },
    {
     "cell_type": "code",
     "collapsed": false,
     "input": [
      "def maFonction(a, b):\n",
      "    print \"coucou\", a, \"et\", b\n",
      "maFonction(\"tata\", \"toto\")"
     ],
     "language": "python",
     "metadata": {
      "slideshow": {
       "slide_type": "fragment"
      }
     },
     "outputs": [
      {
       "output_type": "stream",
       "stream": "stdout",
       "text": [
        "coucou tata et toto\n",
        "None\n"
       ]
      }
     ],
     "prompt_number": 124
    },
    {
     "cell_type": "markdown",
     "metadata": {
      "slideshow": {
       "slide_type": "slide"
      }
     },
     "source": [
      "A son tour, le sous-programme peut communiquer \u00e0 \"l'appelant\" un r\u00e9sultat."
     ]
    },
    {
     "cell_type": "code",
     "collapsed": false,
     "input": [
      "def maFonction(a, b):\n",
      "    resultat = int(a * b)\n",
      "    print a, \"x\", b, \"=>\", resultat\n",
      "    return resultat\n",
      "val = maFonction(10, 4.2)\n",
      "print \"Le r\u00e9sultat de maFonction(10, 4.2) est:\", val"
     ],
     "language": "python",
     "metadata": {
      "slideshow": {
       "slide_type": "fragment"
      }
     },
     "outputs": [
      {
       "output_type": "stream",
       "stream": "stdout",
       "text": [
        "10 x 4.2 => 42\n",
        "Le r\u00e9sultat de maFonction(10, 4.2) est: 42\n"
       ]
      }
     ],
     "prompt_number": 1
    },
    {
     "cell_type": "markdown",
     "metadata": {
      "slideshow": {
       "slide_type": "slide"
      }
     },
     "source": [
      "##Passage de param\u00e8tres par adresse, par valeur\n",
      "Python passe les variables par adresse.\n"
     ]
    },
    {
     "cell_type": "code",
     "collapsed": false,
     "input": [
      "def maFonction(a, b):\n",
      "    print \"{0} => 5, \\\"{1}\\\" => \\\"tata\\\"\".format(a[0], \"\".join(b))\n",
      "    a[0] = 5\n",
      "    b[1] = \"a\"\n",
      "    b[3] = \"a\"\n",
      "a = [10]\n",
      "b = list(\"toto\")\n",
      "maFonction(a, b)\n",
      "print \"a=\", a[0], \",\", \"b=\", \"\".join(b)"
     ],
     "language": "python",
     "metadata": {
      "slideshow": {
       "slide_type": "fragment"
      }
     },
     "outputs": [
      {
       "output_type": "stream",
       "stream": "stdout",
       "text": [
        "10 => 5, \"toto\" => \"tata\"\n",
        "a= 5 , b= tata\n"
       ]
      }
     ],
     "prompt_number": 8
    },
    {
     "cell_type": "markdown",
     "metadata": {
      "slideshow": {
       "slide_type": "slide"
      }
     },
     "source": [
      "##Passage de param\u00e8tres par adresse, par valeur\n",
      "Python passe les variables par adresse.<br/>\n",
      "Cependant, les types scalaires de Python entier, flottant et chaine sont *immutables*."
     ]
    },
    {
     "cell_type": "code",
     "collapsed": false,
     "input": [
      "def maFonction(a, b):\n",
      "    print \"{0} => 5, \\\"{1}\\\" => \\\"tata\\\"\".format(a, b)\n",
      "    a = 5\n",
      "    b = \"tata\"\n",
      "a = 10\n",
      "b = \"toto\"\n",
      "maFonction(a, b)\n",
      "print \"a=\", a, \",\", \"b=\", b\n"
     ],
     "language": "python",
     "metadata": {
      "slideshow": {
       "slide_type": "fragment"
      }
     },
     "outputs": [
      {
       "output_type": "stream",
       "stream": "stdout",
       "text": [
        "10 => 5, \"toto\" => \"tata\"\n",
        "a= 10 , b= toto\n"
       ]
      }
     ],
     "prompt_number": 9
    },
    {
     "cell_type": "markdown",
     "metadata": {
      "slideshow": {
       "slide_type": "slide"
      }
     },
     "source": [
      "##Passage de param\u00e8tres par adresse, par valeur\n",
      "Python passe les variables par adresse.<br/>\n",
      "Cependant, les types scalaires de Python entier, flottant et chaine sont *immutables*.<br/>\n",
      "Pour communiquer les changements au programme principal, on peut retourner la ou les valeurs transform\u00e9e(s)."
     ]
    },
    {
     "cell_type": "code",
     "collapsed": false,
     "input": [
      "def maFonction(a, b):\n",
      "    print \"{0} => 5, \\\"{1}\\\" => \\\"tata\\\"\".format(a, b)\n",
      "    a = 5\n",
      "    b = \"tata\"\n",
      "    return a, b\n",
      "a = 10\n",
      "b = \"toto\"\n",
      "a, b = maFonction(a, b)\n",
      "print \"a=\", a, \",\", \"b=\", b"
     ],
     "language": "python",
     "metadata": {
      "slideshow": {
       "slide_type": "fragment"
      }
     },
     "outputs": [
      {
       "output_type": "stream",
       "stream": "stdout",
       "text": [
        "10 => 5, \"toto\" => \"tata\"\n",
        "a= 5 , b= tata\n"
       ]
      }
     ],
     "prompt_number": 10
    },
    {
     "cell_type": "markdown",
     "metadata": {
      "slideshow": {
       "slide_type": "slide"
      }
     },
     "source": [
      "#R\u00e9cursivit\u00e9\n",
      " Une fonction peut s'appeler elle-m\u00eame, directement ou indirectement."
     ]
    },
    {
     "cell_type": "code",
     "collapsed": false,
     "input": [
      "def fact(n):\n",
      "    if n <= 1:\n",
      "        return 1\n",
      "    else:\n",
      "        return n * fact(n - 1)\n",
      "fact(5)"
     ],
     "language": "python",
     "metadata": {
      "slideshow": {
       "slide_type": "fragment"
      }
     },
     "outputs": [
      {
       "metadata": {},
       "output_type": "pyout",
       "prompt_number": 108,
       "text": [
        "120"
       ]
      }
     ],
     "prompt_number": 108
    },
    {
     "cell_type": "markdown",
     "metadata": {
      "slideshow": {
       "slide_type": "slide"
      }
     },
     "source": [
      "Pensez \u00e0 une condition d'arr\u00eat."
     ]
    },
    {
     "cell_type": "code",
     "collapsed": false,
     "input": [
      "\n",
      "def inf(n):\n",
      "    return inf(n + 1)\n",
      "try:\n",
      "    inf(0)\n",
      "except RuntimeError, e:\n",
      "    print \"Erreur: \\\"{0}\\\"\".format(e)"
     ],
     "language": "python",
     "metadata": {
      "slideshow": {
       "slide_type": "fragment"
      }
     },
     "outputs": [
      {
       "output_type": "stream",
       "stream": "stdout",
       "text": [
        "Erreur: \"maximum recursion depth exceeded\"\n"
       ]
      }
     ],
     "prompt_number": 106
    },
    {
     "cell_type": "markdown",
     "metadata": {
      "slideshow": {
       "slide_type": "slide"
      }
     },
     "source": [
      "##Visibilit\u00e9 des variables\n",
      "\n",
      " - Chaque fonction cr\u00e9e sa propre pile;\n",
      " - Une fonction a acc\u00e8s \u00e0 ses variables locales et aux variables globales;\n",
      " - Si une variable locale a le m\u00eame nom qu'une variable globale, c'est elle qui l'emporte;\n",
      " - Pour changer la valeur d'une variable globale dans une fonction, il faut utiliser le mot clef **global**."
     ]
    },
    {
     "cell_type": "code",
     "collapsed": false,
     "input": [
      "######################################################\n",
      "#### Une fonction voit l'espace m\u00e9moire \"global\", ####\n",
      "####                      mais ne le modifie pas. ####\n",
      "######################################################\n",
      "a = 5\n",
      "b = 6\n",
      "c = 7\n",
      "def maFonction(c):\n",
      "    b = 7\n",
      "    print \"a={0}, b={1}, c={2}\".format(a, b, c)\n",
      "maFonction(\"$\")\n",
      "print \"a={0}, b={1}, c={2}\".format(a, b, c)"
     ],
     "language": "python",
     "metadata": {
      "slideshow": {
       "slide_type": "slide"
      }
     },
     "outputs": [
      {
       "output_type": "stream",
       "stream": "stdout",
       "text": [
        "a=5, b=7, c=$\n",
        "a=5, b=6, c=7\n"
       ]
      }
     ],
     "prompt_number": 26
    },
    {
     "cell_type": "code",
     "collapsed": false,
     "input": [
      "###############################################\n",
      "#### Partage de l'espace m\u00e9moire \"global\"  ####\n",
      "###############################################\n",
      "a = 5\n",
      "b = 6\n",
      "c = 7\n",
      "def maFonction(c):\n",
      "    global b\n",
      "    a = 8\n",
      "    b = 7\n",
      "    print \"a={0}, b={1}, c={2}\".format(a, b, c)\n",
      "maFonction(\"$\")\n",
      "print \"a={0}, b={1}, c={2}\".format(a, b, c)\n"
     ],
     "language": "python",
     "metadata": {
      "slideshow": {
       "slide_type": "slide"
      }
     },
     "outputs": [
      {
       "output_type": "stream",
       "stream": "stdout",
       "text": [
        "a=8, b=7, c=$\n",
        "a=5, b=7, c=7\n"
       ]
      }
     ],
     "prompt_number": 31
    },
    {
     "cell_type": "code",
     "collapsed": false,
     "input": [
      "##########################################\n",
      "#### Imbrication des espaces m\u00e9moires ####\n",
      "##########################################\n",
      "a = 5\n",
      "b = 6\n",
      "c = 7\n",
      "def maFonction(c):\n",
      "    global b\n",
      "    a = 8\n",
      "    b = 7\n",
      "    print \" * a={0}, b={1}, c={2}\".format(a, b, c)\n",
      "    def maSousFonction():\n",
      "        global a\n",
      "        b = 32\n",
      "        a = 0\n",
      "        print \" *** a={0}, b={1}, c={2}\".format(a, b, c)\n",
      "    maSousFonction()\n",
      "maFonction(\"$\")\n",
      "print \"a={0}, b={1}, c={2}\".format(a, b, c)\n"
     ],
     "language": "python",
     "metadata": {
      "slideshow": {
       "slide_type": "slide"
      }
     },
     "outputs": [
      {
       "output_type": "stream",
       "stream": "stdout",
       "text": [
        " * a=8, b=7, c=$\n",
        " *** a=0, b=32, c=$\n",
        "a=0, b=7, c=7\n"
       ]
      }
     ],
     "prompt_number": 34
    },
    {
     "cell_type": "markdown",
     "metadata": {
      "slideshow": {
       "slide_type": "slide"
      }
     },
     "source": [
      "#Valeurs par d\u00e9faut\n",
      " Il est possible de donner une valeur par d\u00e9faut aux arguments des fonctions.\n"
     ]
    },
    {
     "cell_type": "code",
     "collapsed": false,
     "input": [
      "def maFonction(a, b = 5, c = 6):\n",
      "    print a, b, c\n",
      "maFonction(1)\n",
      "maFonction(1, 2)\n",
      "maFonction(1, 2, 3)"
     ],
     "language": "python",
     "metadata": {
      "slideshow": {
       "slide_type": "fragment"
      }
     },
     "outputs": [
      {
       "output_type": "stream",
       "stream": "stdout",
       "text": [
        "1 5 6\n",
        "1 2 6\n",
        "1 2 3\n"
       ]
      }
     ],
     "prompt_number": 38
    },
    {
     "cell_type": "markdown",
     "metadata": {
      "slideshow": {
       "slide_type": "slide"
      }
     },
     "source": [
      "#Appel d'une fonction avec les arguments \"nomm\u00e9s\"\n",
      " Pour plus de lisibilit\u00e9 ou parce que \u00e7a vous dit, il est possible de nommer les arguments d'une fonction."
     ]
    },
    {
     "cell_type": "code",
     "collapsed": false,
     "input": [
      "def maFonction(a, b, c):\n",
      "    print a, b, c\n",
      "maFonction(c = \"a\", a = \"b\", b = \"c\")\n"
     ],
     "language": "python",
     "metadata": {
      "slideshow": {
       "slide_type": "fragment"
      }
     },
     "outputs": [
      {
       "output_type": "stream",
       "stream": "stdout",
       "text": [
        "b c a\n"
       ]
      }
     ],
     "prompt_number": 41
    },
    {
     "cell_type": "markdown",
     "metadata": {
      "slideshow": {
       "slide_type": "fragment"
      }
     },
     "source": [
      "Cela permet \u00e9galement de changer l'ordre des arguments de la fonction."
     ]
    },
    {
     "cell_type": "markdown",
     "metadata": {
      "slideshow": {
       "slide_type": "slide"
      }
     },
     "source": [
      "#Arguments d\u00e9finis \u00e0 la vol\u00e9e\n",
      " Il est souvent utile pour une fonction d'accepter n'importe quel argument."
     ]
    },
    {
     "cell_type": "markdown",
     "metadata": {
      "slideshow": {
       "slide_type": "fragment"
      }
     },
     "source": [
      "# Nombre variable d'arguments"
     ]
    },
    {
     "cell_type": "code",
     "collapsed": false,
     "input": [
      "def unNouveauNomDeFonction(*arguments):\n",
      "    for arg in arguments:\n",
      "        print arg,\n",
      "    print \"\"\n",
      "unNouveauNomDeFonction(\"abcd\", 0, 2, [1, 2, 3, 4], {\"a\": 5, \"b\": 6})"
     ],
     "language": "python",
     "metadata": {
      "slideshow": {
       "slide_type": "fragment"
      }
     },
     "outputs": [
      {
       "output_type": "stream",
       "stream": "stdout",
       "text": [
        "abcd 0 2 [1, 2, 3, 4] {'a': 5, 'b': 6} \n"
       ]
      }
     ],
     "prompt_number": 58
    },
    {
     "cell_type": "code",
     "collapsed": false,
     "input": [
      " Il est possible de passer une collection."
     ],
     "language": "python",
     "metadata": {
      "slideshow": {
       "slide_type": "slide"
      }
     },
     "outputs": []
    },
    {
     "cell_type": "code",
     "collapsed": false,
     "input": [
      "unNouveauNomDeFonction(*\"abcd\")\n",
      "unNouveauNomDeFonction(*[1, 2, 3, 4])\n",
      "unNouveauNomDeFonction(*{\"a\": 5, \"b\": 6})"
     ],
     "language": "python",
     "metadata": {
      "slideshow": {
       "slide_type": "fragment"
      }
     },
     "outputs": [
      {
       "output_type": "stream",
       "stream": "stdout",
       "text": [
        "a b c d \n",
        "1 2 3 4 \n",
        "a b \n"
       ]
      }
     ],
     "prompt_number": 59
    },
    {
     "cell_type": "markdown",
     "metadata": {
      "slideshow": {
       "slide_type": "slide"
      }
     },
     "source": [
      "#Arguments d\u00e9finis \u00e0 la vol\u00e9e\n",
      " Il est souvent utile pour une fonction d'accepter n'importe quel argument.\n",
      " # Arguments nomm\u00e9s"
     ]
    },
    {
     "cell_type": "code",
     "collapsed": false,
     "input": [
      "def unNouveauNomDeFonction(**arguments):\n",
      "    for clef in arguments:\n",
      "        print \"{0}:{1}\".format(clef, arguments[clef]),\n",
      "    print \"\"\n",
      "unNouveauNomDeFonction(a = 5, b = \"6\")"
     ],
     "language": "python",
     "metadata": {
      "slideshow": {
       "slide_type": "fragment"
      }
     },
     "outputs": [
      {
       "output_type": "stream",
       "stream": "stdout",
       "text": [
        "a:5 b:6 \n"
       ]
      }
     ],
     "prompt_number": 54
    },
    {
     "cell_type": "markdown",
     "metadata": {
      "slideshow": {
       "slide_type": "slide"
      }
     },
     "source": [
      " Il est possible de passer une collection."
     ]
    },
    {
     "cell_type": "code",
     "collapsed": false,
     "input": [
      "unNouveauNomDeFonction(**{\"a\": 9, \"b\": 16})"
     ],
     "language": "python",
     "metadata": {
      "slideshow": {
       "slide_type": "fragment"
      }
     },
     "outputs": [
      {
       "output_type": "stream",
       "stream": "stdout",
       "text": [
        "a:5 b:6 \n"
       ]
      }
     ],
     "prompt_number": 56
    },
    {
     "cell_type": "markdown",
     "metadata": {
      "slideshow": {
       "slide_type": "slide"
      }
     },
     "source": [
      "## Pour aller plus loin :\n",
      "### Une fonction est une valeur comme une autre."
     ]
    },
    {
     "cell_type": "code",
     "collapsed": false,
     "input": [
      "def fa(a):\n",
      "    return a ** 2\n",
      "maVar = fa\n",
      "print maVar(5)"
     ],
     "language": "python",
     "metadata": {
      "slideshow": {
       "slide_type": "fragment"
      }
     },
     "outputs": [
      {
       "output_type": "stream",
       "stream": "stdout",
       "text": [
        "25\n"
       ]
      }
     ],
     "prompt_number": 64
    },
    {
     "cell_type": "code",
     "collapsed": false,
     "input": [
      "def jAccepteUneFonction(f, v):\n",
      "    return int(f(v))\n",
      "print jAccepteUneFonction(maVar, 6.48074069841)\n",
      "print jAccepteUneFonction(fa, 6.48074069841)"
     ],
     "language": "python",
     "metadata": {
      "slideshow": {
       "slide_type": "fragment"
      }
     },
     "outputs": [
      {
       "output_type": "stream",
       "stream": "stdout",
       "text": [
        "42\n",
        "42\n"
       ]
      }
     ],
     "prompt_number": 67
    },
    {
     "cell_type": "markdown",
     "metadata": {
      "slideshow": {
       "slide_type": "slide"
      }
     },
     "source": [
      "## Pour aller plus loin :\n",
      "### Une fonction peut cr\u00e9er une autre fonction.\n",
      " Cette fonction \"capture\" les variables."
     ]
    },
    {
     "cell_type": "code",
     "collapsed": false,
     "input": [
      "def f0(a):\n",
      "    def f0_0():\n",
      "        return a * 2\n",
      "    return f0_0\n",
      "maVar2 = f0(21)\n",
      "maVar3 = f0(42)\n",
      "print maVar2()\n",
      "print maVar3()"
     ],
     "language": "python",
     "metadata": {
      "slideshow": {
       "slide_type": "fragment"
      }
     },
     "outputs": [
      {
       "output_type": "stream",
       "stream": "stdout",
       "text": [
        "42\n",
        "84\n"
       ]
      }
     ],
     "prompt_number": 72
    },
    {
     "cell_type": "markdown",
     "metadata": {
      "slideshow": {
       "slide_type": "slide"
      }
     },
     "source": [
      "## Pour aller plus loin :\n",
      "### On peut d\u00e9finir une fonction avec un syntaxe *courte*: les **lambdas**."
     ]
    },
    {
     "cell_type": "code",
     "collapsed": false,
     "input": [
      "maVar4 = lambda a : a * 2\n",
      "print maVar4(21)"
     ],
     "language": "python",
     "metadata": {
      "slideshow": {
       "slide_type": "fragment"
      }
     },
     "outputs": [
      {
       "output_type": "stream",
       "stream": "stdout",
       "text": [
        "42\n"
       ]
      }
     ],
     "prompt_number": 73
    },
    {
     "cell_type": "markdown",
     "metadata": {
      "slideshow": {
       "slide_type": "slide"
      }
     },
     "source": [
      "## Pour aller plus loin :\n",
      "### Utilisation des \"_first-class functions_\"\n",
      "> En informatique, un langage de programmation poss\u00e8de des _first-class functions_ s'il traite une fonction comme tous ses autres types."
     ]
    },
    {
     "cell_type": "markdown",
     "metadata": {
      "slideshow": {
       "slide_type": "slide"
      }
     },
     "source": [
      "## Les pr\u00e9dicats\n",
      "Un pr\u00e9dicat est une fonction qui retourne \"Vrai\" ou \"Faux\" en fonction de crit\u00e8res qui lui sont propres.\n",
      "Id\u00e9alement, la valeur \"Vrai\" ou \"Faux\" du pr\u00e9dicat ne doit d\u00e9pendre que des arguments de celui-ci."
     ]
    },
    {
     "cell_type": "code",
     "collapsed": false,
     "input": [
      "# Pr\u00e9dicat qui nous dit si la valeur de l'entier a est plus grande que 10\n",
      "def auDessusDe10(a):\n",
      "    return a >= 10\n",
      "print auDessusDe10(5),auDessusDe10(11)"
     ],
     "language": "python",
     "metadata": {
      "slideshow": {
       "slide_type": "fragment"
      }
     },
     "outputs": [
      {
       "output_type": "stream",
       "stream": "stdout",
       "text": [
        "False True\n"
       ]
      }
     ],
     "prompt_number": 75
    },
    {
     "cell_type": "markdown",
     "metadata": {
      "slideshow": {
       "slide_type": "slide"
      }
     },
     "source": [
      "### Utilisation"
     ]
    },
    {
     "cell_type": "code",
     "collapsed": false,
     "input": [
      "# Pr\u00e9dicat qui nous dit si la valeur de l'entier a est plus grande que 10\n",
      "def auDessusDe10(a):\n",
      "    return a >= 10\n",
      "\n",
      "monTableau = [ 1764, 49, 25, 9, 0, -16, 25, -9, 4, 64 ]\n",
      "print filter(auDessusDe10, monTableau)"
     ],
     "language": "python",
     "metadata": {
      "slideshow": {
       "slide_type": "fragment"
      }
     },
     "outputs": [
      {
       "output_type": "stream",
       "stream": "stdout",
       "text": [
        "[1764, 49, 25, 25, 64]\n",
        "[-16, -9]\n"
       ]
      }
     ],
     "prompt_number": 93
    },
    {
     "cell_type": "markdown",
     "metadata": {
      "slideshow": {
       "slide_type": "slide"
      }
     },
     "source": [
      "# Pr\u00e9dicats anonymes: les lambdas"
     ]
    },
    {
     "cell_type": "code",
     "collapsed": false,
     "input": [
      "monTableau = [ 1764, 49, 25, 9, 0, -16, 25, -9, 4, 64 ]\n",
      "print filter(lambda a : a < 0, monTableau)"
     ],
     "language": "python",
     "metadata": {
      "slideshow": {
       "slide_type": "fragment"
      }
     },
     "outputs": [
      {
       "output_type": "stream",
       "stream": "stdout",
       "text": [
        "[-16, -9]\n"
       ]
      }
     ],
     "prompt_number": 5
    },
    {
     "cell_type": "markdown",
     "metadata": {
      "slideshow": {
       "slide_type": "fragment"
      }
     },
     "source": [
      "Syntaxe:\n",
      "**lambda** arg0 [, arg1, [arg2, ...]] : _code_\n",
      "\n",
      "La derni\u00e8re _expression_ de la section **_code_** de lambda correspond \u00e0 la valeur retourn\u00e9e."
     ]
    },
    {
     "cell_type": "code",
     "collapsed": false,
     "input": [
      "lambda a : a < 0\n",
      "print filter(lambda a : a < 0, monTableau)"
     ],
     "language": "python",
     "metadata": {
      "slideshow": {
       "slide_type": "slide"
      }
     },
     "outputs": [
      {
       "output_type": "stream",
       "stream": "stdout",
       "text": [
        "[-16, -9]\n"
       ]
      }
     ],
     "prompt_number": 6
    },
    {
     "cell_type": "code",
     "collapsed": false,
     "input": [
      "# est \u00e9quivalent \u00e0\n",
      "def anon0(a):\n",
      "    return a < 0\n",
      "print filter(anon0, monTableau)"
     ],
     "language": "python",
     "metadata": {
      "slideshow": {
       "slide_type": "fragment"
      }
     },
     "outputs": [
      {
       "output_type": "stream",
       "stream": "stdout",
       "text": [
        "[-16, -9]\n"
       ]
      }
     ],
     "prompt_number": 7
    },
    {
     "cell_type": "markdown",
     "metadata": {
      "slideshow": {
       "slide_type": "slide"
      }
     },
     "source": [
      "#Le traitement de donn\u00e9es par fonctions\n",
      "Il existe _3_ traitements standards sur les donn\u00e9es de type \"**sequences**\" en python :\n",
      "- filter : qui, comme nous l'avons vu, permet de _filtrer_ nos donn\u00e9es selon un crit\u00e8re exprim\u00e9 par un pr\u00e9dicat :\n",
      "    - len(data) >= len(filter(predicat, data))\n",
      "- map : qui applique un traitement \u00e0 chaque \u00e9l\u00e9ment :\n",
      "    - len(data) == len(map(lambda, data))\n",
      "- _reduce_: qui fusionne les \u00e9l\u00e9ments gr\u00e2ce \u00e0 un op\u00e9rateur :\n",
      "    - 1 == len(reduce(lambda, data))"
     ]
    },
    {
     "cell_type": "markdown",
     "metadata": {
      "slideshow": {
       "slide_type": "slide"
      }
     },
     "source": [
      "## map"
     ]
    },
    {
     "cell_type": "code",
     "collapsed": false,
     "input": [
      "monTableau = [ 1764, 49, 25, 9, 0, -16, 25, -9, 4, 64 ]\n",
      "print map(lambda a : (1e10000/1e10000 if (a < 0) else int(a ** .5)), monTableau)"
     ],
     "language": "python",
     "metadata": {
      "slideshow": {
       "slide_type": "fragment"
      }
     },
     "outputs": [
      {
       "output_type": "stream",
       "stream": "stdout",
       "text": [
        "[42, 7, 5, 3, 0, nan, 5, nan, 2, 8]\n"
       ]
      }
     ],
     "prompt_number": 98
    },
    {
     "cell_type": "markdown",
     "metadata": {
      "slideshow": {
       "slide_type": "slide"
      }
     },
     "source": [
      "##reduce"
     ]
    },
    {
     "cell_type": "code",
     "collapsed": false,
     "input": [
      "monTableau = [ 1764, 49, 25, 9 ]\n",
      "print reduce(lambda a, b : a + b, monTableau)"
     ],
     "language": "python",
     "metadata": {
      "slideshow": {
       "slide_type": "fragment"
      }
     },
     "outputs": [
      {
       "output_type": "stream",
       "stream": "stdout",
       "text": [
        "1847\n"
       ]
      }
     ],
     "prompt_number": 12
    },
    {
     "cell_type": "code",
     "collapsed": false,
     "input": [
      "def add(a, b):\n",
      "    print \" - {} + {}\".format(a, b)\n",
      "    return a + b\n",
      "print reduce(add, monTableau)"
     ],
     "language": "python",
     "metadata": {
      "slideshow": {
       "slide_type": "fragment"
      }
     },
     "outputs": [
      {
       "output_type": "stream",
       "stream": "stdout",
       "text": [
        " - 1764 + 49\n",
        " - 1813 + 25\n",
        " - 1838 + 9\n",
        "1847\n"
       ]
      }
     ],
     "prompt_number": 14
    },
    {
     "cell_type": "markdown",
     "metadata": {
      "slideshow": {
       "slide_type": "slide"
      }
     },
     "source": [
      "<table style=\"width:100%;\">\n",
      "<tr>\n",
      "<td>\n",
      "<code>\n",
      "**def** add(a, b):\n",
      "  **print** \" - {} + {}\".format(a, b)\n",
      "  **return** a + b\n",
      "**print** reduce(add, monTableau)\n",
      "` - 1764 + 49`\n",
      "` - 1813 + 25`\n",
      "` - 1838 + 9`\n",
      "`1847`\n",
      "</code>\n",
      "</td>\n",
      "<td>\n",
      "![Illustration reduce](./figures/fonctions_reduce.png \"Illustration reduce\")\n",
      "</td>\n",
      "</tr>\n",
      "</table>"
     ]
    },
    {
     "cell_type": "code",
     "collapsed": false,
     "input": [],
     "language": "python",
     "metadata": {},
     "outputs": []
    }
   ],
   "metadata": {}
  }
 ]
}