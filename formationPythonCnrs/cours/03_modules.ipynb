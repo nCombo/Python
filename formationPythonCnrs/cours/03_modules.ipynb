{
 "metadata": {
  "celltoolbar": "Slideshow",
  "name": "",
  "signature": "sha256:9bae94d4825a749588b04667d9ccdd82687c044e3bc1d42968e98a01e188fa4d"
 },
 "nbformat": 3,
 "nbformat_minor": 0,
 "worksheets": [
  {
   "cells": [
    {
     "cell_type": "heading",
     "level": 1,
     "metadata": {
      "slideshow": {
       "slide_type": "slide"
      }
     },
     "source": [
      "Les Modules"
     ]
    },
    {
     "cell_type": "markdown",
     "metadata": {
      "slideshow": {
       "slide_type": "slide"
      }
     },
     "source": [
      "- un module est un bloc de code r\u00e9utilisable en python. Ce bloc de code peut-\u00eatre import\u00e9 par un autre bloc de code. Il existe plusieurs types de module : les Modules Python, les modules d'extension et les packages.\n",
      "- Les modules python sont comme leur nom l'indique \u00e9crit en python dans un fichier ayant comme extension **.py** (.pyc et/ou .pyo). Ils sont parfois appel\u00e9s \"pure module\". Le nom du module est le nom du fichier (sans l'extension) accessible via la variable globale **`__name__`**.\n",
      "- les modules d'extension sont des modules \u00e9crits en langage bas-niveau utilisable par Python : C/C++ pour Python ou Java pour Jython. Ces modules sont g\u00e9n\u00e9ralement contenus dans un seul fichier pr\u00e9-compil\u00e9 et chargeable dynamiquement comme par exemple un objet partag\u00e9 (fichier .so) sous unix, une DLL sous windows ou une classe java.\n",
      "- Un package est un module qui contient d\u2019autres modules. Un package est g\u00e9n\u00e9ralement un r\u00e9pertoire contenant un fichier **`__init__.py`**.\n",
      "- Il existe un package particulier qui est le \"root package\". C'est la racine dans la hi\u00e9rarchie des paquets. la grande majorit\u00e9 de la biblioth\u00e8que standard est dans le \"root package\". "
     ]
    },
    {
     "cell_type": "heading",
     "level": 2,
     "metadata": {
      "slideshow": {
       "slide_type": "slide"
      }
     },
     "source": [
      "Pr\u00e9sentation :"
     ]
    },
    {
     "cell_type": "markdown",
     "metadata": {
      "slideshow": {
       "slide_type": "subslide"
      }
     },
     "source": [
      "Lancer votre \u00e9diteur de texte pour cr\u00e9er un fichier python appel\u00e9 **fibo.py** dans le \u00e9pertoire courant et contenant ce bout de code :"
     ]
    },
    {
     "cell_type": "code",
     "collapsed": false,
     "input": [
      "%%file fibo.py\n",
      "#!/usr/bin/env python\n",
      "# -*- coding: utf-8 -*-\n",
      "\"\"\"\n",
      "Module nombres de Fibonacci\n",
      "\"\"\"\n",
      "\n",
      "# Fibonacci numbers module\n",
      "\n",
      "def fib(n):    # write Fibonacci series up to n\n",
      "    a, b = 0, 1\n",
      "    while b < n:\n",
      "        print b,\n",
      "        a, b = b, a+b\n",
      "\n",
      "def fib2(n): # return Fibonacci series up to n\n",
      "    result = []\n",
      "    a, b = 0, 1\n",
      "    while b < n:\n",
      "        result.append(b)\n",
      "        a, b = b, a+b\n",
      "    return result\n"
     ],
     "language": "python",
     "metadata": {
      "slideshow": {
       "slide_type": "subslide"
      }
     },
     "outputs": [
      {
       "output_type": "stream",
       "stream": "stdout",
       "text": [
        "Overwriting fibo.py\n"
       ]
      }
     ],
     "prompt_number": 8
    },
    {
     "cell_type": "markdown",
     "metadata": {
      "slideshow": {
       "slide_type": "subslide"
      }
     },
     "source": [
      "Une fois ce fichier cr\u00e9\u00e9, lancer l'interpr\u00e9teur via la commande python et importer le module cr\u00e9\u00e9 :\n",
      "```shell\n",
      ">>> import fibo\n",
      "```\n",
      "Une fois le module import\u00e9, vous pouvez acceder aux m\u00e9thodes et variables via son nom.\n",
      "```shell\n",
      ">>> fibo.fib(1000)\n",
      "1 1 2 3 5 8 13 21 34 55 89 144 233 377 610 987\n",
      ">>> fibo.fib2(100)\n",
      "[1, 1, 2, 3, 5, 8, 13, 21, 34, 55, 89]\n",
      ">>> fibo.__name__\n",
      "'fibo'\n",
      "```"
     ]
    },
    {
     "cell_type": "markdown",
     "metadata": {
      "slideshow": {
       "slide_type": "subslide"
      }
     },
     "source": [
      "- Un module peut contenir aussi bien des d\u00e9clarations (statements) que des definitions de fonctions.\n",
      "- Les d\u00e9clarations sont destin\u00e9es \u00e0 initialiser le module.\n",
      "- Elles sont ex\u00e9cut\u00e9es seulement lors du premier import du module. (pour forcer le rechargement, il faut utiliser reload()\n",
      "- Chaque module possede son propre espace de nommage (ou table de nommage) \"priv\u00e9es\" qui est globale pour toutes les fonctions de ce m\u00eame module. Les variables sont accessibles via la notation \"nommodule.nomvariable\" (comme pour une fonction)\n",
      "- Un module peut importer d'autres modules. Par convention, on place tous les imports au d\u00e9but du module.\n",
      "- l'instruction \"import\" cr\u00e9e un objet de type module contenant toutes les donn\u00e9es et fonctions du module, et ajoute une variable d\u00e9signant ce module au sein de l'espace de nommage du programme/module/interp\u00e9teur qui fait l'import. Il existe une variante qui permet d'imorter directement dans la table de nommage du module qui fait l'import : **from module import nom**\n",
      "- Par exemple :\n",
      "```shell\n",
      ">>> from fibo import fib, fib2\n",
      ">>> fib(500)\n",
      "1 1 2 3 5 8 13 21 34 55 89 144 233 377\n",
      "```\n",
      "*Dans cet exemple, fib et fib2 sont ajout\u00e9s dans la table de nommage local. Fibo n'est pas d\u00e9fini.\n",
      "On peut aussi utilis\u00e9 le symbole * qui va importer toute la table de nommage sauf ceux qui contiennent un tiret\\-bas \\( underscore : \\_ \\)*"
     ]
    },
    {
     "cell_type": "heading",
     "level": 2,
     "metadata": {
      "slideshow": {
       "slide_type": "slide"
      }
     },
     "source": [
      "Execution d'un module"
     ]
    },
    {
     "cell_type": "markdown",
     "metadata": {
      "slideshow": {
       "slide_type": "subslide"
      }
     },
     "source": [
      "Pour executer un module Python, on utilise cette commande :\n",
      "```shell\n",
      "$> python fibo.py <arguments\\>\n",
      "```\n",
      "\n",
      "Le code va \u00eatre execut\u00e9 comme lors d'un import mais la valeur de __name__ est egal \u00e0 __main__.\n",
      "Donc si vous ajout\u00e9 ce bout de code \u00e0 la fin de votre module :\n",
      "\n",
      "```python\n",
      "if __name__ == \"__main__\":\n",
      "    import sys\n",
      "    fib(int(sys.argv[1]))\n",
      "```\n",
      "Vous rendrez ce fichier utilisable comme un script ou comme un module.\n",
      "\n",
      "```shell\n",
      "$ python fibo.py 50\n",
      "1 1 2 3 5 8 13 21 34\n",
      "```\n",
      "\n",
      "Pour rappel, si le module est import\u00e9, le code du main ne sera pas lanc\u00e9 :\n",
      "\n",
      "```python\n",
      ">>> import fibo\n",
      ">>>\n",
      "```\n",
      "\n",
      "Enfin, il est possible d'executer un module python comme un script unix en ajoutant :\n",
      "```python\n",
      "#!/usr/bin/env python\n",
      "```\n",
      "en d\u00e9but de fichier. le module sera executable alors via la commande \n",
      "```shell\n",
      "$> ./fibo.py <arguments>\n",
      "```\n"
     ]
    },
    {
     "cell_type": "heading",
     "level": 2,
     "metadata": {
      "slideshow": {
       "slide_type": "slide"
      }
     },
     "source": [
      "Le Path"
     ]
    },
    {
     "cell_type": "markdown",
     "metadata": {
      "slideshow": {
       "slide_type": "subslide"
      }
     },
     "source": [
      "Quand un module nomm\u00e9 **spam** est import\u00e9, l'interpreteur cherche en premier ce nom dans les modules int\u00e9gr\u00e9s. S'il ne le trouve pas, il va ensuite cherch\u00e9 un fichier nomm\u00e9 **spam.py** duns une liste de r\u00e9pertoire donn\u00e9s par la variable **sys.path**.\n",
      "```python\n",
      ">>> import sys\n",
      ">>> sys.path\n",
      "['', '/usr/lib/python2.7', '/usr/lib/python2.7/plat-linux2', '/usr/lib/python2.7/lib-tk', '/usr/lib/python2.7/lib-old', '/usr/lib/python2.7/lib-dynload', '/usr/local/lib/python2.7/dist-packages', '/usr/lib/python2.7/dist-packages', '/usr/lib/python2.7/dist-packages/PIL', '/usr/lib/pymodules/python2.7']\n",
      "```\n",
      "**sys.path** contient le r\u00e9pertoire courant, le PYTHONPATH et les d\u00e9pendances par d\u00e9faut de l'installation python.\n"
     ]
    },
    {
     "cell_type": "heading",
     "level": 2,
     "metadata": {
      "slideshow": {
       "slide_type": "slide"
      }
     },
     "source": [
      "Les modules Compil\u00e9s"
     ]
    },
    {
     "cell_type": "markdown",
     "metadata": {
      "slideshow": {
       "slide_type": "subslide"
      }
     },
     "source": [
      "* Pour acc\u00e9lerer le chargement des modules, une version compil\u00e9e du module est pr\u00e9sente dans le m\u00eame r\u00e9pertoire. La compilation est faite automatiquement par Python si le module est plus r\u00e9cent que l'\u00e9ventuel compilation disponible. Cette derni\u00e8re poss\u00e8de l'extension .pyc. \n",
      "* la compilation n'augmente pas la vitesse d'excution mais la vitesse de chargement du module.\n",
      "* Il ne s'agit que d'une version \"byte code\" du module. c'est donc ind\u00e9pendant de la plateforme d'execution, ils peuvent donc \u00eatre partag\u00e9s. (on parle de portabilit\u00e9)\n"
     ]
    },
    {
     "cell_type": "heading",
     "level": 2,
     "metadata": {
      "slideshow": {
       "slide_type": "slide"
      }
     },
     "source": [
      "Les modules standard"
     ]
    },
    {
     "cell_type": "markdown",
     "metadata": {
      "slideshow": {
       "slide_type": "subslide"
      }
     },
     "source": [
      "* Python fournit toute une bibliotheque de modules standard d\u00e9crite dans un document spar\u00e9 : la Python Library Reference.\n",
      "* Certains modules sont int\u00e9gr\u00e9s \u00e0 l'interpreteur (selon par exemple le syst\u00e8me d'exploitation : winreg n'st fourni uniquement sur les syst\u00e8mes Windows) et permettent un acc\u00e8s aux op\u00e9rations qui ne font pas partie du noyau de la langue (**dir** ou **help** que nous allons voir apr\u00e8s par exemple) pour am\u00e9liorer l'efficacitg\u00e9 ou un acc\u00e8s \u00e0 des primitives du syst\u00e8me d'exploitation (**sys** qui est fourni dans chaque interpr\u00e9teur Python).\n",
      "```python\n",
      ">>> import sys\n",
      ">>> sys.ps1\n",
      "'>>> '\n",
      ">>> sys.path\n",
      "['', '/usr/lib/python2.7', '/usr/lib/python2.7/plat-linux2', '/usr/lib/python2.7/lib-tk', '/usr/lib/python2.7/lib-old', '/usr/lib/python2.7/lib-dynload', '/usr/local/lib/python2.7/dist-packages', '/usr/lib/python2.7/dist-packages', '/usr/lib/python2.7/dist-packages/PIL', '/usr/lib/pymodules/python2.7']\n",
      "```\n",
      "Vous pouvez faire un ***sys.path.append*** pour ajouter un r\u00e9pertoire de d\u00e9veloppement utilisable par diff\u00e9rents module.\n",
      "\n"
     ]
    },
    {
     "cell_type": "heading",
     "level": 2,
     "metadata": {
      "slideshow": {
       "slide_type": "slide"
      }
     },
     "source": [
      "La fonction dir()"
     ]
    },
    {
     "cell_type": "markdown",
     "metadata": {
      "slideshow": {
       "slide_type": "subslide"
      }
     },
     "source": [
      "La fonction int\u00e9gr\u00e9e dir() renvoie la liste des noms d\u00e9finit par un module.\n",
      "```python\n",
      ">>> import fibo\n",
      ">>> dir(fibo)\n",
      "['__builtins__', '__doc__', '__file__', '__name__', '__package__', 'fib', 'fib2']\n",
      "```\n",
      "Sans argument, la fonction **dir()** liste les noms que l'on a actuellement d\u00e9finis:\n",
      "```python\n",
      ">>> import fibo\n",
      ">>> dir(fibo)\n",
      "['__builtins__', '__doc__', '__file__', '__name__', '__package__', 'fib', 'fib2']\n",
      ">>> a = [1, 2, 3, 4, 5]\n",
      ">>> import sys\n",
      ">>> dir()\n",
      "['__builtins__', '__doc__', '__name__', '__package__', 'a', 'fibo', 'sys']\n",
      "```\n",
      "- **`__builtins__`** est l'espace de noms contenant toutes les fonctions et variables int\u00e9gr\u00e9es.\n",
      "- **`__doc__`** contient l'aide du module\n",
      "- **`__file__`** contient le nom du fichier python contenant le module\n",
      "- **`__name__`** contient le nom module\n",
      "- **`__package__`** contient le nom du package contenant le module\n",
      "\n",
      "```python\n",
      ">>> fibo.__doc__\n",
      "'\\nModule nombres de Fibonacci\\n'\n",
      ">>> print fibo\n",
      "<module 'fibo' from 'fibo.py'>\n",
      ">>> fibo.__file__\n",
      "'fibo.py'\n",
      ">>> fibo.__name__\n",
      "'fibo'\n",
      ">>> fibo.__package__\n",
      ">>> \n",
      "```\n",
      "\n"
     ]
    },
    {
     "cell_type": "heading",
     "level": 2,
     "metadata": {
      "slideshow": {
       "slide_type": "slide"
      }
     },
     "source": [
      "La fonction help()"
     ]
    },
    {
     "cell_type": "markdown",
     "metadata": {
      "slideshow": {
       "slide_type": "subslide"
      }
     },
     "source": [
      "* Aide en ligne Python.\n",
      "* la commande **help()** place l'interpr\u00e9teur en mode d'aide\n",
      "\n",
      "```shell\n",
      ">>> help()\n",
      "\n",
      "Welcome to Python 2.7!  This is the online help utility.\n",
      "\n",
      "If this is your first time using Python, you should definitely check out\n",
      "the tutorial on the Internet at http://docs.python.org/2.7/tutorial/.\n",
      "\n",
      "Enter the name of any module, keyword, or topic to get help on writing\n",
      "Python programs and using Python modules.  To quit this help utility and\n",
      "return to the interpreter, just type \"quit\".\n",
      "\n",
      "To get a list of available modules, keywords, or topics, type \"modules\",\n",
      "\"keywords\", or \"topics\".  Each module also comes with a one-line summary\n",
      "of what it does; to list the modules whose summaries contain a given word\n",
      "such as \"spam\", type \"modules spam\".\n",
      "\n",
      "help> figo\n",
      "no Python documentation found for 'figo'\n",
      "\n",
      "```\n",
      "\n",
      "* **help(module)** renvoie l'aide du module\n",
      "\n",
      "\n",
      "```python\n",
      ">>> import fibo\n",
      ">>> help(fibo)\n",
      "Help on module fibo:\n",
      "\n",
      "NAME\n",
      "    fibo - # Fibonacci numbers module\n",
      "\n",
      "FILE\n",
      "    /root/fibo.py\n",
      "\n",
      "FUNCTIONS\n",
      "    fib(n)\n",
      "    \n",
      "    fib2(n)\n",
      "    \n",
      "\n",
      "```\n",
      "\n",
      "* **help(module.methode)** renvoie l'aide de la m\u00e9thode\n",
      "\n",
      "-----\n",
      "** Ajoutons de l'aide \u00e0 notre module fibo : **"
     ]
    },
    {
     "cell_type": "code",
     "collapsed": false,
     "input": [
      "%%file fibo_help.py\n",
      "#!/usr/bin/env python\n",
      "# -*- coding: utf-8 -*-\n",
      "\"\"\"\n",
      "Fibonacci numbers module\n",
      "\"\"\"\n",
      "\n",
      "def fib(n):    # write Fibonacci series up to n\n",
      "    \"\"\"\n",
      "    do : write Fibonacci series up to n \n",
      "    parameters : n as number\n",
      "    return : void\n",
      "    \"\"\"\n",
      "    a, b = 0, 1\n",
      "    while b < n:\n",
      "        print b,\n",
      "        a, b = b, a+b\n",
      "\n",
      "def fib2(n): # return Fibonacci series up to n\n",
      "    result = []\n",
      "    a, b = 0, 1\n",
      "    while b < n:\n",
      "        result.append(b)\n",
      "        a, b = b, a+b\n",
      "    return result"
     ],
     "language": "python",
     "metadata": {
      "slideshow": {
       "slide_type": "subslide"
      }
     },
     "outputs": [
      {
       "output_type": "stream",
       "stream": "stdout",
       "text": [
        "Writing fibo_help.py\n"
       ]
      }
     ],
     "prompt_number": 2
    },
    {
     "cell_type": "markdown",
     "metadata": {
      "slideshow": {
       "slide_type": "subslide"
      }
     },
     "source": [
      "** Voici le r\u00e9sultat :**\n",
      "\n",
      "```python\n",
      ">>> reload(fibo)\n",
      "<module 'fibo' from 'fibo.py'>\n",
      ">>> help(fibo)\n",
      "Help on module fibo:\n",
      "\n",
      "NAME\n",
      "    fibo - Fibonacci numbers module\n",
      "\n",
      "FILE\n",
      "    /root/fibo.py\n",
      "\n",
      "FUNCTIONS\n",
      "    fib(n)\n",
      "        do : write Fibonacci series up to n \n",
      "        parameters : n as number\n",
      "        return : void\n",
      "    \n",
      "    fib2(n)\n",
      "```"
     ]
    },
    {
     "cell_type": "heading",
     "level": 2,
     "metadata": {
      "slideshow": {
       "slide_type": "slide"
      }
     },
     "source": [
      "Les Packages"
     ]
    },
    {
     "cell_type": "markdown",
     "metadata": {
      "slideshow": {
       "slide_type": "subslide"
      }
     },
     "source": [
      "* Les packages sont une facon de structurer l'espace de noms des modules Python en utilisant le \"dotted module names\" (nom de module avec des points). Par exemple, le module nomm\u00e9 **A.B** d\u00e9signe un module nomm\u00e9 **B** dans le package nomm\u00e9 **A**.\n",
      "* Si on prends l'exemple d'un projet de traitement de fichier texte. Il existe un grand nombre de format (txt,xml,csv,json etc) et vous pouvez avoir un grand nombre d'operation de traitement \u00e0 effectuer (compression, exportation, etc.)\n",
      "* Voici un exemple de structure possible pour ce projet :\n",
      "\n",
      "```python\n",
      "traitement/                          racine du package\n",
      "      __init__.py                    Initialise le package traitement\n",
      "      formats/                       Subpackage pour les formats de fichier\n",
      "              __init__.py\n",
      "              csv.py\n",
      "              json.py\n",
      "              txt.py\n",
      "              xml.py\n",
      "              ...\n",
      "      compression/                   Subpackage pour la compression\n",
      "              __init__.py\n",
      "              zip.py\n",
      "              tar.py\n",
      "              ...\n",
      "      exportation/                   Subpackage pour l'exportation\n",
      "              __init__.py\n",
      "              pdf.py\n",
      "              html.py\n",
      "              ...\n",
      "```\n",
      "\n",
      "- Lors de l'importation d'un package, Python cherche dans les r\u00e9pertoires du **sys.path** \u00e0 la recherche du sous-r\u00e9pertoire du paquet.\n",
      "\n",
      "    *Dans l'exemple ci-apr\u00e8s, lors de l'instruction **`import calculatrice`*, Python trouve le sous-r\u00e9pertoire calculatrice dans le r\u00e9pertoire '/Library/Python/2.7/site-packages' contenu dans le sys.path*\n",
      "\n",
      "```\n",
      "    >>> import sys\n",
      "    >>> sys.path\n",
      "    ['', ..., '/Library/Python/2.7/site-packages']\n",
      "    >>> import calculatrice\n",
      "    >>> calculatrice.__file__\n",
      "    '/Library/Python/2.7/site-packages/calculatrice/__init__.pyc'\n",
      "    >>>\n",
      "    \n",
      "```\n",
      "\n",
      "- les fichiers **`__init__.py`** permettent d'indiquer que le r\u00e9pertoire est un package.  Ils permettent d'executer du code lors de l'initialisation (instancier la variable **`__all__`** par exemple).\n",
      "- on peut importer un module du package ci-dessus avec cette commande :\n",
      "\n",
      "```Python\n",
      "import traitement.formats.csv\n",
      "```\n",
      "\n",
      "* cette commande charge le module **traitement.formats.csv** . Pour l'utiliser, il devra \u00eatre r\u00e9f\u00e9renc\u00e9 par son nom complet tel qu'import\u00e9 :\n",
      "\n",
      "```Python\n",
      ">>> traitement.formats.csv.read('file1.csv')\n",
      "```\n",
      "\n",
      "* Une autre fa\u00e7on d'importer un \"sous\" module est :\n",
      "\n",
      "```Python\n",
      "from traitement.formats import csv\n",
      "```\n",
      "\n",
      "* Cette commande charge le module **csv** et le rend disponible sans le prefix du package. De cette mani\u00e8re, la fonction read est utilisable de cette mani\u00e8re :\n",
      "\n",
      "```Python\n",
      ">>> csv.read('file1.csv')\n",
      "```\n",
      "\n",
      "* Enfin, si on a besoin que de la fonction read, on peut la charger directement :\n",
      "\n",
      "```Python\n",
      "from traitement.formats.csv import read\n",
      "```\n",
      "\n",
      "* cette derni\u00e8re fonction charge quand m\u00eame le module csv mais rends la fonction read directement disponible :\n",
      "\n",
      "```Python\n",
      ">>> read('file1.csv')\n",
      "```\n",
      "\n",
      "-------\n",
      "\n",
      "* Attention : quand vous utilisez la commande **from package import item**, l'**item** peut-\u00eatre un module (ou un sous-package) du package mais \u00e9galement un autre nom d\u00e9fini dans un module comme une variable, une fonction ou une classe.\n",
      "* L'instruction **import** teste en premier si l'\u00e9l\u00e9ment est d\u00e9fini dans le paquet sinon il suppose que c'est un module et tente de le cahrger. Si le module n'est pas trouv\u00e9 l'exception **ImportError** est soulev\u00e9.\n",
      "* par contre, si vous utilisez la syntaxe ** import item.subitem.subsubitem **, chaque item except\u00e9 le dernier doit \u00eatre un package. Le dernier peut etre un module ou un package mais ne peut \u00eatre une varaible, une fonction ou une classe.\n",
      "* quand j'importe paquet.module, si c'est la premi\u00e8re fois que je \"traverse\" paquet, cela cr\u00e9e l'objet paquet correspondant (et son espace de noms) et cela \u00e9xecute l'**`__init__`.py** correspondant. Seulement la premi\u00e8re fois, de la m\u00eame mani\u00e8re que seul un premier import execute le fichier correspondant. L'**`__init__.py`** peut cr\u00e9er des donn\u00e9es et des fonctions au sein de l'objet correspondant au package.... cest pourquoi en cas de \"import paquet.nom\", Python cherche d'abord une varibale ou fonction dans l'objet correspondant au paquet, avant de chercher un module ou un paquet dans le r\u00e9pertoire du paquet.\n"
     ]
    },
    {
     "cell_type": "heading",
     "level": 2,
     "metadata": {
      "slideshow": {
       "slide_type": "slide"
      }
     },
     "source": [
      "Compl\u00e9ment d'information"
     ]
    },
    {
     "cell_type": "markdown",
     "metadata": {
      "slideshow": {
       "slide_type": "subslide"
      }
     },
     "source": [
      "* Le **from package import \\*** est d\u00e9conseill\u00e9. Cette instruction va lancer le parcours des modules du package et faire toutes les importations. Cela peut prendre donc un certain temps et l'importation des modules peut g\u00e9n\u00e9rer des conflits dans la table de nommage. L'auteur du package peut fournir une liste explicite des modules \u00e0 importer gr\u00e2ce \u00e0 la variable `__all__` dans le `__init__.py` du package.\n",
      "\n",
      "    ```python\n",
      "        __all__ = [\"csv\", \"json\", \"txt\", \"xml\"]\n",
      "    ```\n",
      "\n",
      "* Enfin, pour les import intra package, on peut utiliser les r\u00e9f\u00e9rences relative. \n",
      "* Par exemple, depuis le module **zip**, on peut utiliser ces commandes :\n",
      "\n",
      "    ```python\n",
      "        from . import tar\n",
      "        from .. import formats\n",
      "        from ..exportation import pdf\n",
      "    ```\n"
     ]
    },
    {
     "cell_type": "heading",
     "level": 2,
     "metadata": {
      "slideshow": {
       "slide_type": "slide"
      }
     },
     "source": [
      "Distribuez votre projet : le packaging"
     ]
    },
    {
     "cell_type": "markdown",
     "metadata": {
      "slideshow": {
       "slide_type": "subslide"
      }
     },
     "source": [
      "- Une distribution est une collection de modules Python distribu\u00e9s ensembles comme une ressource t\u00e9l\u00e9chargeable et destin\u00e9es \u00e0 \u00eatre install\u00e9. Il existe \u00e9norm\u00e9ment de distributions de modules comme PIL (the Python Imaging Library) PyXML etc.\n",
      "\n",
      "- Pour faire le lien entre la distribution et la plateforme de destination, on utilise des classes interm\u00e9diaires appel\u00e9es packagers. Les packagers sont prendre les sources et les compiler pour les releaser. Ainsi les utilisateurs finaux vont pouvoir installer les modules sans difficult\u00e9s. Distutils est un packagers qui va vous permettre facilement de distribuer votre code.\n",
      "\n",
      "- La librairie Distutils regroupe l\u2019ensemble des utilitaires python pour la distribution de modules. Pour distribuer votre code, il faudra \u00e9crire un script d\u2019installation (nomm\u00e9 setup.py par convention) et \u00e9ventuellement \u00e9crire un fichier de configuration d\u2019installation.\n",
      "- Ensuite, il vous faudra cr\u00e9er une ressource distribuable (souvent une archive) et optionnellement cr\u00e9er une ou plusieurs distributions compil\u00e9es.\n"
     ]
    },
    {
     "cell_type": "markdown",
     "metadata": {
      "slideshow": {
       "slide_type": "subslide"
      }
     },
     "source": [
      "- Le script setup est g\u00e9n\u00e9ralement assez simple. Voici un premier exemple :\n",
      "\n",
      "```python\n",
      "from distutils.core import setup\n",
      "setup(name='foo',\n",
      "      version='1.0',\n",
      "      py_modules=['foo'],\n",
      "      )\n",
      "```\n",
      "\n",
      "- La plupart des informations sont fournies comme argument \u00e0 la fonction setup.\n",
      "- Ces arguments peuvent \u00eatre regroup\u00e9s en deux cat\u00e9gories : les metadata du package (nom, version) et les informations sur ce qu\u2019est, ce que fait le package. \n",
      "- Les modules sont sp\u00e9cifi\u00e9s par leur nom d\u2019objet et non leur nom de fichier. Il est recommand\u00e9 de fournir des metadata suppl\u00e9mentaire comme son nom, son adresse mail et une url de projet :\n",
      "    - Vous pouvez lister des modules individuellement : py_modules = ['mod1', 'pkg.mod2']\n",
      "    - ou lister des packages entier : packages=['distutils', 'distutils.command'] Ici on sp\u00e9cifie des modules pur python par package plut\u00f4t que de lister tous les modules de ce paquet.\n",
      "    - par exemple ce package :\n",
      "        ```python\n",
      "        setup.py\n",
      "        src/\n",
      "            mypkg/\n",
      "                __init__.py\n",
      "                module.py\n",
      "                data/\n",
      "                    tables.dat\n",
      "                    spoons.dat\n",
      "                    forks.dat\n",
      "        ```\n",
      "    - pourrait avoir un setup comme cela :\n",
      "        ```python\n",
      "        setup(...,\n",
      "          packages=['mypkg'],\n",
      "          package_dir={'mypkg': 'src/mypkg'},\n",
      "          package_data={'mypkg': ['data/*.dat']},\n",
      "          )\n",
      "        ```\n",
      "        "
     ]
    },
    {
     "cell_type": "markdown",
     "metadata": {
      "slideshow": {
       "slide_type": "subslide"
      }
     },
     "source": [
      "* Voici une liste non exhaustive d'argument de la fonction **setup**\n",
      "    - le nom du projet : nom=\"sample\"\n",
      "    - la version : version=\"1.2.0\" (voir PEP440)\n",
      "    - les packages \u00e0 inclure dans le projet. On peut les lister ou utiliser find_packages pour automatiser cette tache (exclude pour pour exlure ceux qui ne doivent pas etre install\u00e9) : py_modules=['foo'],\n",
      "    - Metadonn\u00e9es: Il est important d'inclure des m\u00e9tadonn\u00e9es \u00e0 propose de votre projet. \n",
      "\n",
      "        ```python\n",
      "\n",
      "            # A description of your project\n",
      "            description='A sample Python project',\n",
      "            long_description=long_description,\n",
      "\n",
      "            # The project's main homepage\n",
      "            url='https://github.com/pypa/sampleproject',\n",
      "\n",
      "            # Author details\n",
      "            author='The Python Packaging Authority',\n",
      "            author_email='pypa-dev@googlegroups.com',\n",
      "\n",
      "            # Choose your license\n",
      "            license='MIT',\n",
      "\n",
      "            # See https://pypi.python.org/pypi?%3Aaction=list_classifiers\n",
      "            classifiers=[\n",
      "                # How mature is this project? Common values are\n",
      "                #   3 - Alpha\n",
      "                #   4 - Beta\n",
      "                #   5 - Production/Stable\n",
      "                'Development Status :: 3 - Alpha',\n",
      "\n",
      "                # Indicate who your project is intended for\n",
      "                'Intended Audience :: Developers',\n",
      "                'Topic :: Software Development :: Build Tools',\n",
      "\n",
      "                # Pick your license as you wish (should match \"license\" above)\n",
      "                'License :: OSI Approved :: MIT License',\n",
      "\n",
      "                # Specify the Python versions you support here. In particular, ensure\n",
      "                # that you indicate whether you support Python 2, Python 3 or both.\n",
      "                'Programming Language :: Python :: 2',\n",
      "                'Programming Language :: Python :: 2.6',\n",
      "                'Programming Language :: Python :: 2.7',\n",
      "                'Programming Language :: Python :: 3',\n",
      "                'Programming Language :: Python :: 3.2',\n",
      "                'Programming Language :: Python :: 3.3',\n",
      "                'Programming Language :: Python :: 3.4',\n",
      "            ],\n",
      "\n",
      "            # What does your project relate to?\n",
      "            keywords='sample setuptools development',\n",
      "        ```\n",
      "\n",
      "- Enfin, il est possible d'ajouter :\n",
      "    - Les d\u00e9pendances : install_requires = ['peppercorn']\n",
      "        \"install_requires\" est utilis\u00e9 pour sp\u00e9cifier quelles d\u00e9pendances sont n\u00e9cessaire au projet pour fonctionner. Ces d\u00e9pendances seront install\u00e9s par Pip lors de l'installation de votre projet.\n",
      "    - Fichiers additionnels : package_data = { 'sample': ['package_data.dat']}\n",
      "- Voici un exemple plus complet :\n",
      "\n",
      "    ```python\n",
      "    #!/usr/bin/env python\n",
      "\n",
      "    from distutils.core import setup\n",
      "\n",
      "    setup(name='Distutils',\n",
      "          version='1.0',\n",
      "          description='Python Distribution Utilities',\n",
      "          author='Greg Ward',\n",
      "          author_email='gward@python.net',\n",
      "          url='https://www.python.org/sigs/distutils-sig/',\n",
      "          packages=['distutils', 'distutils.command'],\n",
      "         )\n",
      "\n",
      "    ```\n",
      "\n",
      "* Vous pouvez \u00e9galement inclure d'autre fichier au package comme un ***README*** pour expliquer le projet et un ***MANIFEST*** pour d\u00e9finir des fichiers suppl\u00e9mentaire \u00e0 inclure dans la distribution du projet packat\u00e9. \n",
      "\n"
     ]
    },
    {
     "cell_type": "markdown",
     "metadata": {
      "slideshow": {
       "slide_type": "subslide"
      }
     },
     "source": [
      "- Pour cr\u00e9er une distribution des fichiers sources du module, il faut donc cr\u00e9er un script d\u2019installation (setup.py) contenant le code ci-dessus et d\u2019executer la commande \n",
      "```\n",
      "$>python setup.py sdist [$>sdist setup.py sous windows]\n",
      "```\n",
      "\n",
      "- sdist va cr\u00e9er une archive (tarball sous unix et zip sous windows) contenant le script setup.py et le module. Le fichier d\u2019archive sera nomm\u00e9 foo-1.0.tar.gz (ou .zip) et sera d\u00e9compress\u00e9 dans un r\u00e9pertoire foo-1.0.\n",
      "\n"
     ]
    },
    {
     "cell_type": "markdown",
     "metadata": {
      "slideshow": {
       "slide_type": "subslide"
      }
     },
     "source": [
      "- Pour installer le module, apr\u00e8s avoir t\u00e9l\u00e9charger et d\u00e9compresser l'archive, il faut se d\u00e9placer dans le r\u00e9pertoire cr\u00e9er par la d\u00e9compression de l'archive et taper la commande suivante :\n",
      "```\n",
      "$>python setup.py install\n",
      "```\n",
      "\n",
      "- Cette commande va copier les fichiers dans le r\u00e9pertoire r\u00e9serv\u00e9 aux modules tiers de l\u2019installation Python. \n",
      "- Remarque : On note donc que c'est le m\u00eame script qui sert pour la distribution et l\u2019installation.\n"
     ]
    },
    {
     "cell_type": "markdown",
     "metadata": {
      "slideshow": {
       "slide_type": "subslide"
      }
     },
     "source": [
      "- On peut faciliter encore plus l\u2019installation des modules distribu\u00e9s. Par exemple, sous windows, on peut cr\u00e9er un installateur executable avec cette commande :\n",
      "```\n",
      "$>python setup.py bdist_wininst\n",
      "```\n",
      "\n",
      "- Cette commande var cr\u00e9er un exe nomm\u00e9 foo-1.0.win32.exe dans le r\u00e9pertoire courant.\n",
      "- Il existe \u00e9galement d\u2019autre format de distribution : le rpm avec bdist_rpm, le pkgtool (bdist_pkgtool) et le hp_ux swinstall (bdist_sdux)\n",
      "- Vous pouvez lister les formats de distribution disponibles avec cette commande :\n",
      "```\n",
      "$>python setup.py bdist \u2013help-formats\n",
      "```\n",
      "\n"
     ]
    },
    {
     "cell_type": "markdown",
     "metadata": {
      "slideshow": {
       "slide_type": "subslide"
      }
     },
     "source": [
      "Pour installer des packages, on vous conseille d'utiliser Pip (Python installing package). Cet outil cherche les packages sur le Python Package Index (PyPi). Les packages python peuvent \u00eatre compact\u00e9 dans des archives tarball ou zip. Python utilise des formats de distribution. Actuellement, Python utilise egg mais ce format va etre peu \u00e0 peu remplac\u00e9 par wheel. Pour construire votre package, vous pouvez donc utiliser **wheel** et pour envoyer votre package sur Pypi, il faut utiliser l'outil **twine**"
     ]
    },
    {
     "cell_type": "code",
     "collapsed": false,
     "input": [],
     "language": "python",
     "metadata": {},
     "outputs": []
    }
   ],
   "metadata": {}
  }
 ]
}