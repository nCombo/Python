{
 "metadata": {
  "name": "",
  "signature": "sha256:f38c54ebc9b83477cddc53241a66c4e2eab763828699b68adbf84d0ab7832a10"
 },
 "nbformat": 3,
 "nbformat_minor": 0,
 "worksheets": [
  {
   "cells": [
    {
     "cell_type": "heading",
     "level": 1,
     "metadata": {},
     "source": [
      "Python Devlog session Objets 6/6 : Compl\u00e9ments"
     ]
    },
    {
     "cell_type": "heading",
     "level": 2,
     "metadata": {},
     "source": [
      "Attributs cach\u00e9s"
     ]
    },
    {
     "cell_type": "markdown",
     "metadata": {},
     "source": [
      "Dans un objet, les attributs ordinaires sont stock\u00e9s dans un attribut sp\u00e9cial nomm\u00e9 `__dict__`. Chaque instance poss\u00e8de \u00e9galement un attribut nomm\u00e9 `__class__` qui pointe vers sa classe."
     ]
    },
    {
     "cell_type": "markdown",
     "metadata": {},
     "source": [
      "Dans une classe, on trouve \u00e9galement des attributs sp\u00e9ciaux :\n",
      "* `__doc__`: documentation de la classe,\n",
      "* `__dict__` :  attributs de la classe,\n",
      "* `__name__` : nom de la classe, \n",
      "* `__bases__` : tuple contenant les classes de bases de la classe courante.\n",
      "* `__mro__` : ordre de parcours des anc\u00eatres de la classe.\n",
      "* `__module__` : nom du module o\u00f9 la classe est d\u00e9finie (`__main__` en mode interactif)."
     ]
    },
    {
     "cell_type": "code",
     "collapsed": false,
     "input": [
      "class A1 : pass\n",
      "class A2 : pass\n",
      "\n",
      "class B(A1,A2):\n",
      "    def __init__(self,value): self.data = value\n",
      "    def display(self) : print \"data:\", self.data\n",
      "        \n",
      "b = B(\"abc\")\n",
      "\n",
      "print b.__dict__"
     ],
     "language": "python",
     "metadata": {},
     "outputs": []
    },
    {
     "cell_type": "code",
     "collapsed": false,
     "input": [
      "print b.__dict__['data']"
     ],
     "language": "python",
     "metadata": {},
     "outputs": [
      {
       "output_type": "stream",
       "stream": "stdout",
       "text": [
        "abc\n"
       ]
      }
     ],
     "prompt_number": 2
    },
    {
     "cell_type": "code",
     "collapsed": false,
     "input": [
      "print ( b.__class__, )"
     ],
     "language": "python",
     "metadata": {},
     "outputs": [
      {
       "output_type": "stream",
       "stream": "stdout",
       "text": [
        "(<class __main__.B at 0x0000000004206588>,)\n"
       ]
      }
     ],
     "prompt_number": 3
    },
    {
     "cell_type": "code",
     "collapsed": false,
     "input": [
      "print b.__class__.__name__"
     ],
     "language": "python",
     "metadata": {},
     "outputs": [
      {
       "output_type": "stream",
       "stream": "stdout",
       "text": [
        "B\n"
       ]
      }
     ],
     "prompt_number": 4
    },
    {
     "cell_type": "code",
     "collapsed": false,
     "input": [
      "print b.__class__.__bases__"
     ],
     "language": "python",
     "metadata": {},
     "outputs": [
      {
       "output_type": "stream",
       "stream": "stdout",
       "text": [
        "(<class __main__.A1 at 0x0000000004180EE8>, <class __main__.A2 at 0x00000000042065E8>)\n"
       ]
      }
     ],
     "prompt_number": 5
    },
    {
     "cell_type": "code",
     "collapsed": false,
     "input": [
      "print b.__class__.__dict__"
     ],
     "language": "python",
     "metadata": {},
     "outputs": [
      {
       "output_type": "stream",
       "stream": "stdout",
       "text": [
        "{'__module__': '__main__', 'display': <function display at 0x000000000422A588>, '__init__': <function __init__ at 0x000000000422A5F8>, '__doc__': None}\n"
       ]
      }
     ],
     "prompt_number": 6
    },
    {
     "cell_type": "heading",
     "level": 2,
     "metadata": {},
     "source": [
      "Attributs pseudo-priv\u00e9s"
     ]
    },
    {
     "cell_type": "markdown",
     "metadata": {},
     "source": [
      "Au sein d'une instruction compos\u00e9e `class`, tous les noms qui sont pr\u00e9fix\u00e9s par un double soulign\u00e9 `__` (et non \u00e0 la fin), sont \"magiquement\" manipul\u00e9s par l'interpr\u00e9teur Python qui ins\u00e8re devant le nom un simple soulign\u00e9 `_` et le nom de la classe courante. Ainsi, les attributs recoivent un nom qui devient sp\u00e9cifique \u00e0 la classe, et qui ne risque plus d'\u00eatre red\u00e9fini par erreur dans les classes d\u00e9riv\u00e9es. On parle d'attributs \"pseudo-priv\u00e9s\", non pas parce que l'acc\u00e8s \u00e0 ces attributs est v\u00e9ritablement interdit, mais parce que l'alt\u00e9ration automatique de leurs noms complique leur acc\u00e8s de l'ext\u00e9rieur. "
     ]
    },
    {
     "cell_type": "code",
     "collapsed": false,
     "input": [
      "class Demo:\n",
      "    public_data = \"public data\"\n",
      "    __private_data = \"private data\"\n",
      "    def public_method(self): print \"public method()\"\n",
      "    def __private_method(self): print \"private method()\"\n",
      "    \n",
      "dir(Demo)"
     ],
     "language": "python",
     "metadata": {},
     "outputs": [
      {
       "metadata": {},
       "output_type": "pyout",
       "prompt_number": 7,
       "text": [
        "['_Demo__private_data',\n",
        " '_Demo__private_method',\n",
        " '__doc__',\n",
        " '__module__',\n",
        " 'public_data',\n",
        " 'public_method']"
       ]
      }
     ],
     "prompt_number": 7
    },
    {
     "cell_type": "code",
     "collapsed": false,
     "input": [
      "print Demo.public_data"
     ],
     "language": "python",
     "metadata": {},
     "outputs": [
      {
       "output_type": "stream",
       "stream": "stdout",
       "text": [
        "public data\n"
       ]
      }
     ],
     "prompt_number": 8
    },
    {
     "cell_type": "code",
     "collapsed": false,
     "input": [
      "print Demo.__private_data"
     ],
     "language": "python",
     "metadata": {},
     "outputs": [
      {
       "ename": "AttributeError",
       "evalue": "class Demo has no attribute '__private_data'",
       "output_type": "pyerr",
       "traceback": [
        "\u001b[1;31m---------------------------------------------------------------------------\u001b[0m\n\u001b[1;31mAttributeError\u001b[0m                            Traceback (most recent call last)",
        "\u001b[1;32m<ipython-input-9-5a651a2f66b8>\u001b[0m in \u001b[0;36m<module>\u001b[1;34m()\u001b[0m\n\u001b[1;32m----> 1\u001b[1;33m \u001b[1;32mprint\u001b[0m \u001b[0mDemo\u001b[0m\u001b[1;33m.\u001b[0m\u001b[0m__private_data\u001b[0m\u001b[1;33m\u001b[0m\u001b[0m\n\u001b[0m",
        "\u001b[1;31mAttributeError\u001b[0m: class Demo has no attribute '__private_data'"
       ]
      }
     ],
     "prompt_number": 9
    },
    {
     "cell_type": "code",
     "collapsed": false,
     "input": [
      "print Demo._Demo__private_data"
     ],
     "language": "python",
     "metadata": {},
     "outputs": [
      {
       "output_type": "stream",
       "stream": "stdout",
       "text": [
        "private data\n"
       ]
      }
     ],
     "prompt_number": 10
    },
    {
     "cell_type": "code",
     "collapsed": false,
     "input": [
      "d = Demo()\n",
      "d.public_method()"
     ],
     "language": "python",
     "metadata": {},
     "outputs": [
      {
       "output_type": "stream",
       "stream": "stdout",
       "text": [
        "public method()\n"
       ]
      }
     ],
     "prompt_number": 11
    },
    {
     "cell_type": "code",
     "collapsed": false,
     "input": [
      "d.__private_method()"
     ],
     "language": "python",
     "metadata": {},
     "outputs": [
      {
       "ename": "AttributeError",
       "evalue": "Demo instance has no attribute '__private_method'",
       "output_type": "pyerr",
       "traceback": [
        "\u001b[1;31m---------------------------------------------------------------------------\u001b[0m\n\u001b[1;31mAttributeError\u001b[0m                            Traceback (most recent call last)",
        "\u001b[1;32m<ipython-input-24-f98a2e3c7104>\u001b[0m in \u001b[0;36m<module>\u001b[1;34m()\u001b[0m\n\u001b[1;32m----> 1\u001b[1;33m \u001b[0md\u001b[0m\u001b[1;33m.\u001b[0m\u001b[0m__private_method\u001b[0m\u001b[1;33m(\u001b[0m\u001b[1;33m)\u001b[0m\u001b[1;33m\u001b[0m\u001b[0m\n\u001b[0m",
        "\u001b[1;31mAttributeError\u001b[0m: Demo instance has no attribute '__private_method'"
       ]
      }
     ],
     "prompt_number": 24
    },
    {
     "cell_type": "code",
     "collapsed": false,
     "input": [
      "d._Demo__private_method()"
     ],
     "language": "python",
     "metadata": {},
     "outputs": [
      {
       "output_type": "stream",
       "stream": "stdout",
       "text": [
        "private method()\n"
       ]
      }
     ],
     "prompt_number": 12
    },
    {
     "cell_type": "markdown",
     "metadata": {},
     "source": [
      "A la diff\u00e9rence d'autres langages, toutes les donn\u00e9es d'un objet r\u00e9side dans l'objet lui-m\u00eame, quelle que soit la classe et la m\u00e9thode \u00e0 l'origine de ces donn\u00e9es. Cela peut g\u00e9n\u00e9rer des interactions involontaires, en particulier dans le cas d'un h\u00e9ritage multiple venant de classes issues de d\u00e9veloppeurs ind\u00e9pendants. Les attributs pseudo-priv\u00e9s \u00e9vitent ces interactions non voulues. "
     ]
    },
    {
     "cell_type": "code",
     "collapsed": false,
     "input": [
      "class C1(object):\n",
      "    def set1(self): self.__X = 1\n",
      "    def get1(self): return self.__X\n",
      "        \n",
      "class C2(object):\n",
      "    def set2(self): self.__X = 2\n",
      "    def get2(self): return self.__X\n",
      "        \n",
      "class C3(C1,C2): pass\n",
      "\n",
      "obj = C3()\n",
      "obj.set1()\n",
      "obj.set2()\n",
      "print obj.get1(), obj.get2()"
     ],
     "language": "python",
     "metadata": {},
     "outputs": [
      {
       "output_type": "stream",
       "stream": "stdout",
       "text": [
        "1 2\n"
       ]
      }
     ],
     "prompt_number": 13
    },
    {
     "cell_type": "heading",
     "level": 2,
     "metadata": {},
     "source": [
      "Propri\u00e9t\u00e9s"
     ]
    },
    {
     "cell_type": "markdown",
     "metadata": {},
     "source": [
      "On peut d\u00e9finir dans une classe des attributs particuliers de type \"propri\u00e9t\u00e9\" (property). Ces propri\u00e9t\u00e9s ressemblent \u00e0 des variables membres, et s'utilisent comme des variables membres, mais en r\u00e9alit\u00e9 le fait de lire une propri\u00e9t\u00e9 d\u00e9clenche l'utilisation du \"getter\" qui lui est attach\u00e9, et le fait d'affecter une nouvelle valeur \u00e0 cette propri\u00e9t\u00e9 d\u00e9clenche l'utilisation du \"setter\" attach\u00e9 (si et seulement si il est d\u00e9fini). Typiquement, \"getter\" et \"setter\" manipulent une variable interne pseudo-priv\u00e9e."
     ]
    },
    {
     "cell_type": "markdown",
     "metadata": {},
     "source": [
      "Ci-dessous, nous d\u00e9finissons pour la classe `Vector` des propri\u00e9t\u00e9s `x` et `y`, dont la lecture d\u00e9clenche un appel \u00e0 `getx()` ou `gety()`, qui renvoient les valeurs des variables pseudo-priv\u00e9es `__x` ou `__y` des instances de `Vector`. Seule la propri\u00e9t\u00e9 `x` a \u00e9t\u00e9 associ\u00e9e \u00e0 un \"setter\". `y`, en l'absence de \"setter\", est en lecture seule : on ne peut pas lui affecter de valeur (par contre on peut le faire sur `__y` via `init()`)."
     ]
    },
    {
     "cell_type": "code",
     "collapsed": false,
     "input": [
      "class Vector(object):\n",
      "  def init(self,u=0,v=0):\n",
      "    self.__x = u\n",
      "    self.__y = v\n",
      "  def getx(self):\n",
      "    return self.__x\n",
      "  def setx(self,u):\n",
      "    self.__x = u    \n",
      "  x = property(getx,setx)\n",
      "  def gety(self):\n",
      "    return self.__y\n",
      "  y = property(gety)\n",
      "\n",
      "v = Vector()\n",
      "v.init(3, -4)\n",
      "print v.x, v.y\n",
      "v.x = 2\n",
      "print v.x"
     ],
     "language": "python",
     "metadata": {},
     "outputs": [
      {
       "output_type": "stream",
       "stream": "stdout",
       "text": [
        "3 -4\n",
        "2\n"
       ]
      }
     ],
     "prompt_number": 28
    },
    {
     "cell_type": "code",
     "collapsed": false,
     "input": [
      "v.y = 5"
     ],
     "language": "python",
     "metadata": {},
     "outputs": [
      {
       "ename": "AttributeError",
       "evalue": "can't set attribute",
       "output_type": "pyerr",
       "traceback": [
        "\u001b[1;31m---------------------------------------------------------------------------\u001b[0m\n\u001b[1;31mAttributeError\u001b[0m                            Traceback (most recent call last)",
        "\u001b[1;32m<ipython-input-29-916c9ff1d97a>\u001b[0m in \u001b[0;36m<module>\u001b[1;34m()\u001b[0m\n\u001b[1;32m----> 1\u001b[1;33m \u001b[0mv\u001b[0m\u001b[1;33m.\u001b[0m\u001b[0my\u001b[0m \u001b[1;33m=\u001b[0m \u001b[1;36m5\u001b[0m\u001b[1;33m\u001b[0m\u001b[0m\n\u001b[0m",
        "\u001b[1;31mAttributeError\u001b[0m: can't set attribute"
       ]
      }
     ],
     "prompt_number": 29
    },
    {
     "cell_type": "markdown",
     "metadata": {},
     "source": [
      "Ce qui est remarquable ici, c'est que Python ne force pas une encapsulation pr\u00e9coce et inutile. On peut tr\u00e8s bien d\u00e9velopper une premi\u00e8re version de classe avec des attributs publics, avoir des clients, puis d\u00e9cider ult\u00e9rieurement d'en faire des propri\u00e9t\u00e9s, si le besoin s'en fait sentir."
     ]
    },
    {
     "cell_type": "markdown",
     "metadata": {},
     "source": [
      "On a vu aussi, dans notre exemple, qu'il est facile de faire des propri\u00e9t\u00e9s \"read-only\" en ne d\u00e9clarant que les \"getters\". Il est cependant plus classique de fournir \u00e0 la fois la m\u00e9thode de lecture et d'\u00e9criture, notamment pour controler qu'on n'enregistre que des valeurs valides dans une propri\u00e9t\u00e9. Par exemple, si nos vecteurs ne peuvent contenir que des valeurs entre -1 et 1 :"
     ]
    },
    {
     "cell_type": "code",
     "collapsed": false,
     "input": [
      "class Vector(object):\n",
      "  def init(self,u=0,v=0):\n",
      "    self.x = u\n",
      "    self.y = v\n",
      "  def getx(self):\n",
      "    return self.__x\n",
      "  def setx(self,x):\n",
      "    if (x<-1): self.__x = -1\n",
      "    elif (x>1): self.__x = 1\n",
      "    else: self.__x = x\n",
      "  x = property(getx,setx)\n",
      "  def gety(self):\n",
      "    return self.__y\n",
      "  def sety(self,y):\n",
      "    if (y<-1): self.__y = -1\n",
      "    elif (y>1): self.__y = 1\n",
      "    else: self.__y = y\n",
      "  y = property(gety,sety)\n",
      "\n",
      "v = Vector()\n",
      "v.init(3, -4)\n",
      "print v.x, v.y"
     ],
     "language": "python",
     "metadata": {},
     "outputs": [
      {
       "output_type": "stream",
       "stream": "stdout",
       "text": [
        "1 -1\n"
       ]
      }
     ],
     "prompt_number": 30
    },
    {
     "cell_type": "heading",
     "level": 2,
     "metadata": {},
     "source": [
      "Variables de classe"
     ]
    },
    {
     "cell_type": "markdown",
     "metadata": {},
     "source": [
      "On peut ajouter des donn\u00e9es \u00e0 une classe (et pas seulement des m\u00e9thodes), auquel cas elles sont en quelque sorte partag\u00e9es et visibles pour toutes les instances de la classe.\n",
      "\n",
      "En effet, quand vous demandez \u00e0 lire la donn\u00e9e nomm\u00e9e `x` de l'instance `obj`, ce qui se note `obj.x`, l'interpr\u00e9teur Python cherche d'abord le nom dans l'instance elle-m\u00eame, puis \u00e0 d\u00e9faut dans la classe, puis dans ses anc\u00eatres, comme pour n'importe quel attribut.\n",
      "\n",
      "Dans l'exemple ci-dessous, on dote la classe `Vecteur` de variable `x` et `y` qui contiennent des valeirs par d\u00e9faut pour les instances. On peut cr\u00e9er ces variables directement lors de la cr\u00e9ation de classe, comme nous le faisons pour `x`, ou l'ajouter ult\u00e9rieurement, comme nous le faisons pour `y`."
     ]
    },
    {
     "cell_type": "code",
     "collapsed": false,
     "input": [
      "class Vecteur(object) :\n",
      "    x = 0\n",
      "\n",
      "Vecteur.y = 0\n",
      "\n",
      "v = Vecteur()\n",
      "\n",
      "print Vecteur.x, Vecteur.y\n",
      "print v.x, v.y"
     ],
     "language": "python",
     "metadata": {},
     "outputs": [
      {
       "output_type": "stream",
       "stream": "stdout",
       "text": [
        "0 0\n",
        "0 0\n"
       ]
      }
     ],
     "prompt_number": 2
    },
    {
     "cell_type": "markdown",
     "metadata": {},
     "source": [
      "Par contre, si vous affectez une nouvelle valeur \u00e0 `obj.x`, et que ce nom n'existe pas encore dans l'instance, un nouvel attribut est cr\u00e9\u00e9 \u00e0 cette occasion, dans l'instance. Formulons le \u00e0 nouveau : en cas de lecture, l'interpr\u00e9teur cherche l'attribut dans l'instance concern\u00e9e, puis dans sa classe et ses anc\u00eatres, mais en cas d'affectation d'une nouvelle valeur, l'attribut est ajout\u00e9 \u00e0 l'instance si il n'existe pas d\u00e9j\u00e0."
     ]
    },
    {
     "cell_type": "code",
     "collapsed": false,
     "input": [
      "v.x, v.y = 10, 20\n",
      "\n",
      "print Vecteur.x, Vecteur.y\n",
      "print v.x, v.y"
     ],
     "language": "python",
     "metadata": {},
     "outputs": [
      {
       "output_type": "stream",
       "stream": "stdout",
       "text": [
        "0 0\n",
        "10 20\n"
       ]
      }
     ],
     "prompt_number": 4
    },
    {
     "cell_type": "heading",
     "level": 2,
     "metadata": {},
     "source": [
      "Un langage tr\u00e8s dynamique"
     ]
    },
    {
     "cell_type": "markdown",
     "metadata": {},
     "source": [
      "Les instructions `class` et les instructions `def`, sont trait\u00e9es \u00e0 l'ex\u00e9cution comme n'importe quelles instructions. Elles retournent des objets, certes un peu sp\u00e9ciaux, et leur assigne un nom dans l'espace de nom courant. Avec ces objets, on peut r\u00e9aliser des manipulations impossibles dans d'autres langages, comme par exemple cr\u00e9er une m\u00e9thode d'abord en tant que fonction, \u00e0 l'ext\u00e9rieur de la classe, puis la rattacher \u00e0 posteriori."
     ]
    },
    {
     "cell_type": "code",
     "collapsed": false,
     "input": [
      "class A(object):\n",
      "    def __init__(self,value): self.data = value\n",
      "    def display(self) : print \"data:\", self.data\n",
      "\n",
      "a = A('bonjour')\n",
      "\n",
      "def my_display_upper(self):\n",
      "    print \"data:\", self.data.upper()\n",
      "\n",
      "A.display_upper = my_display_upper\n",
      "\n",
      "a.display_upper()"
     ],
     "language": "python",
     "metadata": {},
     "outputs": [
      {
       "output_type": "stream",
       "stream": "stdout",
       "text": [
        "data: BONJOUR\n"
       ]
      }
     ],
     "prompt_number": 22
    },
    {
     "cell_type": "markdown",
     "metadata": {},
     "source": [
      "Une m\u00e9thode peut s'invoquer \u00e0 travers le nom de classe, mais dans ce cas il ne faut pas oublier de redonner le nom de l'objet \u00e0 traiter comme premier argument (self) :"
     ]
    },
    {
     "cell_type": "code",
     "collapsed": false,
     "input": [
      "A.display_upper(a)"
     ],
     "language": "python",
     "metadata": {},
     "outputs": [
      {
       "output_type": "stream",
       "stream": "stdout",
       "text": [
        "data: BONJOUR\n"
       ]
      }
     ],
     "prompt_number": 23
    },
    {
     "cell_type": "markdown",
     "metadata": {},
     "source": [
      "Je peux toujours aussi appeler directement la fonction \u00e0 travers son nom original (`my_display_upper`) :"
     ]
    },
    {
     "cell_type": "code",
     "collapsed": false,
     "input": [
      "my_display_upper(a)"
     ],
     "language": "python",
     "metadata": {},
     "outputs": [
      {
       "output_type": "stream",
       "stream": "stdout",
       "text": [
        "data: BONJOUR\n"
       ]
      }
     ],
     "prompt_number": 24
    },
    {
     "cell_type": "markdown",
     "metadata": {},
     "source": [
      "On peut m\u00eame s'amuser, comme ci-dessous, \u00e0 d\u00e9crocher la fonction de la classe (en effacant le nom), et \u00e0 l'accrocher directement \u00e0 l'instance. Mais dans ce cas, la d\u00e9finition automatique de `self` n'est pas r\u00e9alis\u00e9e (ce m\u00e9canisme n'est actif que pour les fonctions attach\u00e9es dans des classes). On doit alors redonner `a` comme argument \u00e0 l'appel de fonction."
     ]
    },
    {
     "cell_type": "code",
     "collapsed": false,
     "input": [
      "del A.display_upper\n",
      "\n",
      "a.display_upper = my_display_upper\n",
      "\n",
      "a.display_upper(a)"
     ],
     "language": "python",
     "metadata": {},
     "outputs": [
      {
       "output_type": "stream",
       "stream": "stdout",
       "text": [
        "data: BONJOUR\n"
       ]
      }
     ],
     "prompt_number": 25
    },
    {
     "cell_type": "heading",
     "level": 2,
     "metadata": {},
     "source": [
      "Les encoches"
     ]
    },
    {
     "cell_type": "markdown",
     "metadata": {},
     "source": [
      "La d\u00e9finition dans une classe d'un attribut sp\u00e9cial nomm\u00e9 `__slots__` permet de limiter la liste des attributs autoris\u00e9s (sans pour autant les cr\u00e9er). Cela permet d'\u00e9viter des erreurs de frappe involontaire, de faire certaines optimisations, mais en contre-partie cela peut affecter l'existence de l'attribut sp\u00e9cial `__dict__`, et perturber le fonctionnement d'outils g\u00e9n\u00e9riques qui s'appuient sur ce dictionnaire interne."
     ]
    },
    {
     "cell_type": "code",
     "collapsed": false,
     "input": [
      "class DemoSlots(object):\n",
      "    __slots__ = ['att1','att2']\n",
      "\n",
      "ds = DemoSlots()\n",
      "print ds.att1"
     ],
     "language": "python",
     "metadata": {},
     "outputs": [
      {
       "ename": "AttributeError",
       "evalue": "att1",
       "output_type": "pyerr",
       "traceback": [
        "\u001b[1;31m---------------------------------------------------------------------------\u001b[0m\n\u001b[1;31mAttributeError\u001b[0m                            Traceback (most recent call last)",
        "\u001b[1;32m<ipython-input-26-c8617deaf333>\u001b[0m in \u001b[0;36m<module>\u001b[1;34m()\u001b[0m\n\u001b[0;32m      3\u001b[0m \u001b[1;33m\u001b[0m\u001b[0m\n\u001b[0;32m      4\u001b[0m \u001b[0mds\u001b[0m \u001b[1;33m=\u001b[0m \u001b[0mDemoSlots\u001b[0m\u001b[1;33m(\u001b[0m\u001b[1;33m)\u001b[0m\u001b[1;33m\u001b[0m\u001b[0m\n\u001b[1;32m----> 5\u001b[1;33m \u001b[1;32mprint\u001b[0m \u001b[0mds\u001b[0m\u001b[1;33m.\u001b[0m\u001b[0matt1\u001b[0m\u001b[1;33m\u001b[0m\u001b[0m\n\u001b[0m",
        "\u001b[1;31mAttributeError\u001b[0m: att1"
       ]
      }
     ],
     "prompt_number": 26
    },
    {
     "cell_type": "code",
     "collapsed": false,
     "input": [
      "ds.att1 = \"this is att1\"\n",
      "print ds.att1"
     ],
     "language": "python",
     "metadata": {},
     "outputs": [
      {
       "output_type": "stream",
       "stream": "stdout",
       "text": [
        "this is att1\n"
       ]
      }
     ],
     "prompt_number": 39
    },
    {
     "cell_type": "code",
     "collapsed": false,
     "input": [
      "ds.att3 = \"this is att3\""
     ],
     "language": "python",
     "metadata": {},
     "outputs": [
      {
       "ename": "AttributeError",
       "evalue": "'DemoSlots' object has no attribute 'att3'",
       "output_type": "pyerr",
       "traceback": [
        "\u001b[1;31m---------------------------------------------------------------------------\u001b[0m\n\u001b[1;31mAttributeError\u001b[0m                            Traceback (most recent call last)",
        "\u001b[1;32m<ipython-input-40-3f4ad9ce7b2c>\u001b[0m in \u001b[0;36m<module>\u001b[1;34m()\u001b[0m\n\u001b[1;32m----> 1\u001b[1;33m \u001b[0mds\u001b[0m\u001b[1;33m.\u001b[0m\u001b[0matt3\u001b[0m \u001b[1;33m=\u001b[0m \u001b[1;34m\"this is att3\"\u001b[0m\u001b[1;33m\u001b[0m\u001b[0m\n\u001b[0m",
        "\u001b[1;31mAttributeError\u001b[0m: 'DemoSlots' object has no attribute 'att3'"
       ]
      }
     ],
     "prompt_number": 40
    },
    {
     "cell_type": "code",
     "collapsed": false,
     "input": [
      "class DerivedSlots(DemoSlots): pass\n",
      "ds = DerivedSlots()\n",
      "ds.att3 = \"this is att3\""
     ],
     "language": "python",
     "metadata": {},
     "outputs": [],
     "prompt_number": 41
    },
    {
     "cell_type": "heading",
     "level": 2,
     "metadata": {},
     "source": [
      "M\u00e9thodes statiques et m\u00e9thodes de classe"
     ]
    },
    {
     "cell_type": "markdown",
     "metadata": {},
     "source": [
      "Imaginons que l'on veuille compter le nombre d'instances cr\u00e9\u00e9es par une classe. Pour r\u00e9cup\u00e9rer le nombre courant d'instances, on peut \u00e9crire une m\u00e9thode qui ne se sert que de l'attribut de classe, et cette m\u00e9thode devrait pouvoir \u00eatre appel\u00e9e via le nom de classe, sans passer par une instance, mais cela ne fonctionne pas \u00e0 l'aide d'une impl\u00e9mentation \"naive\" telle que celle-ci :"
     ]
    },
    {
     "cell_type": "code",
     "collapsed": false,
     "input": [
      "class DemoComptage(object):\n",
      "    __nb_objets = 0\n",
      "    def __init__(self):\n",
      "        DemoComptage.__nb_objets = DemoComptage.__nb_objets+1\n",
      "    def nb_objets():\n",
      "        return __nb_objets\n",
      "    \n",
      "a = DemoComptage()    \n",
      "b = DemoComptage()    \n",
      "c = DemoComptage()\n",
      "\n",
      "print DemoComptage.nb_objets()"
     ],
     "language": "python",
     "metadata": {},
     "outputs": [
      {
       "ename": "TypeError",
       "evalue": "unbound method nb_objets() must be called with DemoComptage instance as first argument (got nothing instead)",
       "output_type": "pyerr",
       "traceback": [
        "\u001b[1;31m---------------------------------------------------------------------------\u001b[0m\n\u001b[1;31mTypeError\u001b[0m                                 Traceback (most recent call last)",
        "\u001b[1;32m<ipython-input-1-225b71655857>\u001b[0m in \u001b[0;36m<module>\u001b[1;34m()\u001b[0m\n\u001b[0;32m     10\u001b[0m \u001b[0mc\u001b[0m \u001b[1;33m=\u001b[0m \u001b[0mDemoComptage\u001b[0m\u001b[1;33m(\u001b[0m\u001b[1;33m)\u001b[0m\u001b[1;33m\u001b[0m\u001b[0m\n\u001b[0;32m     11\u001b[0m \u001b[1;33m\u001b[0m\u001b[0m\n\u001b[1;32m---> 12\u001b[1;33m \u001b[1;32mprint\u001b[0m \u001b[0mDemoComptage\u001b[0m\u001b[1;33m.\u001b[0m\u001b[0mnb_objets\u001b[0m\u001b[1;33m(\u001b[0m\u001b[1;33m)\u001b[0m\u001b[1;33m\u001b[0m\u001b[0m\n\u001b[0m",
        "\u001b[1;31mTypeError\u001b[0m: unbound method nb_objets() must be called with DemoComptage instance as first argument (got nothing instead)"
       ]
      }
     ],
     "prompt_number": 1
    },
    {
     "cell_type": "markdown",
     "metadata": {},
     "source": [
      "En effet, m\u00eame si `self` n'est pas utilis\u00e9 dans le corps d'une m\u00e9thode, l'interpr\u00e9teur Python exige qu'une m\u00e9thode soit invoqu\u00e9e \u00e0 travers une instance. L'attribut `nb_objets` de la classe est \u00e9videmment accessible \u00e0 tous, donc il peut \u00eatr lu directement par les clients, mais si on tient \u00e0 pr\u00e9server l'encapsulation, une simple fonction ext\u00e9rieure peut faire l'affaire :"
     ]
    },
    {
     "cell_type": "code",
     "collapsed": false,
     "input": [
      "class DemoComptage(object):\n",
      "    nb_objets = 0\n",
      "    def __init__(self):\n",
      "        DemoComptage.nb_objets = DemoComptage.nb_objets+1\n",
      "\n",
      "def nb_objets():\n",
      "    return DemoComptage.nb_objets\n",
      "    \n",
      "a = DemoComptage()    \n",
      "b = DemoComptage()    \n",
      "c = DemoComptage()\n",
      "\n",
      "print nb_objets()"
     ],
     "language": "python",
     "metadata": {},
     "outputs": [
      {
       "output_type": "stream",
       "stream": "stdout",
       "text": [
        "3\n"
       ]
      }
     ],
     "prompt_number": 2
    },
    {
     "cell_type": "markdown",
     "metadata": {},
     "source": [
      "Cependant, pour satisfaire les programmeurs qui tiennent \u00e0 localiser la fonction au sein de la classe, depuis Python 2.2, on peut d\u00e9finir des m\u00e9thodes dites \"statiques\", qui peuvent s'invoquer sans passer par une instance :"
     ]
    },
    {
     "cell_type": "code",
     "collapsed": false,
     "input": [
      "class DemoComptage(object):\n",
      "    _nb_objets = 0\n",
      "    def __init__(self):\n",
      "        DemoComptage._nb_objets = DemoComptage._nb_objets+1\n",
      "    def nb_objets():\n",
      "        return DemoComptage._nb_objets\n",
      "    nb_objets = staticmethod(nb_objets)\n",
      "    \n",
      "a = DemoComptage()    \n",
      "b = DemoComptage()    \n",
      "c = DemoComptage()\n",
      "\n",
      "print DemoComptage.nb_objets()"
     ],
     "language": "python",
     "metadata": {},
     "outputs": [
      {
       "output_type": "stream",
       "stream": "stdout",
       "text": [
        "3\n"
       ]
      }
     ],
     "prompt_number": 4
    },
    {
     "cell_type": "markdown",
     "metadata": {},
     "source": [
      "Il existe \u00e9galement des m\u00e9thodes dites \"de classe\", qui recoivent en premier argument non pas l'instance courante, mais la classe courante."
     ]
    },
    {
     "cell_type": "code",
     "collapsed": false,
     "input": [
      "class DemoClassMethod(object):\n",
      "    def m(cls,data):\n",
      "        print cls, data\n",
      "    m = classmethod(m)\n",
      "    \n",
      "DemoClassMethod.m(\"bonjour\")"
     ],
     "language": "python",
     "metadata": {},
     "outputs": [
      {
       "output_type": "stream",
       "stream": "stdout",
       "text": [
        "<class '__main__.DemoClassMethod'> bonjour\n"
       ]
      }
     ],
     "prompt_number": 52
    },
    {
     "cell_type": "heading",
     "level": 2,
     "metadata": {},
     "source": [
      "D\u00e9corateurs de fonctions"
     ]
    },
    {
     "cell_type": "markdown",
     "metadata": {},
     "source": [
      "Les m\u00e9thodes statiques et les m\u00e9thodes de classes sont des cas particuliers de \"d\u00e9corateurs\" de fonction.\n",
      "\n",
      "Un d\u00e9corateur est une fonction qui manipule une fonction. Il peut effectuer une action une fois pour toute, et renvoyer la fonction originale, ou bien renvoyer une nouvelle fonction qui effectuera des manipulations \u00e0 chaque appel, avant de le r\u00e9percuter \u00e0 la fonction originale qui aura \u00e9t\u00e9 m\u00e9moris\u00e9e en interne.\n",
      "\n",
      "Par exemple, lors de l'instruction `nb_objets = staticmethod(nb_objets)`, on appelle le d\u00e9corateur `staticmethod`, qui substitue \u00e0 la fonction `nb_objets` originale une autre fonction, dont le r\u00f4le sera, \u00e0 chaque appel, de mettre de c\u00f4t\u00e9 le premier argument (`self`) et de transmettre les autres \u00e0 la fonction `nb_objets` originale.\n",
      "\n",
      "On peut maintenant d\u00e9finir plus facilement une d\u00e9coration, \u00e0 l'aide du caract\u00e8re `@` :"
     ]
    },
    {
     "cell_type": "code",
     "collapsed": false,
     "input": [
      "class DemoDeco(object):\n",
      "    _nb_objets = 0\n",
      "    def __init__(self):\n",
      "        DemoDeco._nb_objets += 1\n",
      "    @staticmethod\n",
      "    def nb_objets():\n",
      "        return DemoDeco._nb_objets\n",
      "    @classmethod\n",
      "    def m(cls,data):\n",
      "        print cls, data\n",
      "    \n",
      "a = DemoDeco()    \n",
      "b = DemoDeco()    \n",
      "c = DemoDeco()\n",
      "\n",
      "print DemoDeco.nb_objets()"
     ],
     "language": "python",
     "metadata": {},
     "outputs": [
      {
       "output_type": "stream",
       "stream": "stdout",
       "text": [
        "3\n"
       ]
      }
     ],
     "prompt_number": 53
    },
    {
     "cell_type": "code",
     "collapsed": false,
     "input": [
      "DemoDeco.m(\"bonjour\")"
     ],
     "language": "python",
     "metadata": {},
     "outputs": [
      {
       "output_type": "stream",
       "stream": "stdout",
       "text": [
        "<class '__main__.DemoDeco'> bonjour\n"
       ]
      }
     ],
     "prompt_number": 54
    },
    {
     "cell_type": "markdown",
     "metadata": {},
     "source": [
      "On peut empiler autant de d\u00e9corateurs que souhait\u00e9s. Le code ci-dessous :"
     ]
    },
    {
     "cell_type": "code",
     "collapsed": false,
     "input": [
      "@A @B @C\n",
      "def f():\n",
      "    ..."
     ],
     "language": "python",
     "metadata": {},
     "outputs": []
    },
    {
     "cell_type": "markdown",
     "metadata": {},
     "source": [
      "est l'\u00e9quivalent de :"
     ]
    },
    {
     "cell_type": "code",
     "collapsed": false,
     "input": [
      "def f():\n",
      "    ...\n",
      "f = A(B(C(f)))"
     ],
     "language": "python",
     "metadata": {},
     "outputs": []
    },
    {
     "cell_type": "markdown",
     "metadata": {},
     "source": [
      "On peut bien sur \u00e9crire ses propres d\u00e9corateurs. On les impl\u00e9mente en g\u00e9n\u00e9ral \u00e0 l'aide d'une classe qui stocke la fonction d\u00e9cor\u00e9e, et d\u00e9finit l'op\u00e9rateur d'appel `__call__`. Par exemple, ci-dessous, une classe qui compte les appels \u00e0 la fonction d\u00e9cor\u00e9e :"
     ]
    },
    {
     "cell_type": "code",
     "collapsed": false,
     "input": [
      "class compteur(object):\n",
      "    def __init__(self,func):\n",
      "        self.func = func\n",
      "        self.count = 0\n",
      "    def __call__(self,*args):\n",
      "        self.count += 1\n",
      "        print 'call %s to %s' % (self.count,self.func.__name__)\n",
      "        self.func(*args)\n",
      "        \n",
      "@compteur\n",
      "def bidon(texte):\n",
      "    print texte\n",
      "\n",
      "bidon(\"bonjour\")"
     ],
     "language": "python",
     "metadata": {},
     "outputs": [
      {
       "output_type": "stream",
       "stream": "stdout",
       "text": [
        "call 1 to bidon\n",
        "bonjour\n"
       ]
      }
     ],
     "prompt_number": 56
    },
    {
     "cell_type": "code",
     "collapsed": false,
     "input": [
      "bidon(\"bonsoir\")"
     ],
     "language": "python",
     "metadata": {},
     "outputs": [
      {
       "output_type": "stream",
       "stream": "stdout",
       "text": [
        "call 2 to bidon\n",
        "bonsoir\n"
       ]
      }
     ],
     "prompt_number": 57
    },
    {
     "cell_type": "markdown",
     "metadata": {},
     "source": [
      "Enfin, notons qu'il existe des d\u00e9corateurs permettant de simplifier la d\u00e9finition des propri\u00e9t\u00e9s d'une classe (attributs dont l'acc\u00e8s en lecture et/ou en \u00e9criture est confi\u00e9 \u00e0 des m\u00e9thodes). L'exemple de vecteur pr\u00e9c\u00e9demment vu peut-\u00eatre r\u00e9\u00e9crit ainsi :"
     ]
    },
    {
     "cell_type": "code",
     "collapsed": false,
     "input": [
      "class Vector(object):\n",
      "  def init(self,u=0,v=0):\n",
      "    self.x = u\n",
      "    self.y = v\n",
      "  @property\n",
      "  def x(self):\n",
      "    return self.__x\n",
      "  @x.setter\n",
      "  def x(self,u):\n",
      "    if (u<-1): self.__x = -1\n",
      "    elif (u>1): self.__x = 1\n",
      "    else: self.__x = u\n",
      "  @property\n",
      "  def y(self):\n",
      "    return self.__y\n",
      "  @y.setter\n",
      "  def y(self,v):\n",
      "    if (v<-1): self.__y = -1\n",
      "    elif (v>1): self.__y = 1\n",
      "    else: self.__y = v\n",
      "\n",
      "v = Vector()\n",
      "v.init(3, -4)\n",
      "print v.x, v.y"
     ],
     "language": "python",
     "metadata": {},
     "outputs": [
      {
       "output_type": "stream",
       "stream": "stdout",
       "text": [
        "1 -1\n"
       ]
      }
     ],
     "prompt_number": 1
    },
    {
     "cell_type": "heading",
     "level": 2,
     "metadata": {},
     "source": [
      "H\u00e9riter d'un type pr\u00e9d\u00e9fini"
     ]
    },
    {
     "cell_type": "markdown",
     "metadata": {},
     "source": [
      "On peut h\u00e9riter des types pr\u00e9d\u00e9finis, comme de n'importe quelle autre classe. **ATTENTION**, dans l'exemple ci-dessous, comme on h\u00e9rite d'une classe \"non-modifiable\" (\"immutable\"), on ne peut pas red\u00e9finir **`__init__`**, qui intervient apr\u00e8s a cr\u00e9ation de l'instance ; on est oblig\u00e9 de passer par une red\u00e9finition de **`__new__`**."
     ]
    },
    {
     "cell_type": "code",
     "collapsed": false,
     "input": [
      "class FloatWithUnit(float):\n",
      "    def __new__(cls,value,unit):\n",
      "        instance = float.__new__(cls,value)\n",
      "        instance.unit = unit\n",
      "        return instance\n",
      "    def __str__(self):\n",
      "        return float.__str__(self)+\" \"+self.unit\n",
      "    def __mul__(self,other):\n",
      "        return FloatWithUnit(float.__mul__(self,other),self.unit+\"*\"+other.unit)\n",
      "    \n",
      "largeur = FloatWithUnit(2,\"cm\")\n",
      "longueur = FloatWithUnit(5,\"cm\")\n",
      "print largeur*longueur"
     ],
     "language": "python",
     "metadata": {},
     "outputs": [
      {
       "output_type": "stream",
       "stream": "stdout",
       "text": [
        "10.0 cm*cm\n"
       ]
      }
     ],
     "prompt_number": 1
    },
    {
     "cell_type": "heading",
     "level": 2,
     "metadata": {},
     "source": [
      "Les classes de style ancien"
     ]
    },
    {
     "cell_type": "markdown",
     "metadata": {},
     "source": [
      "Toutes les explications de cette formation concerne les classes de nouveau style, apparue avec 2.2, et qu'il faut utiliser \u00e0 chaque fois que c'est possible. Comment savoir si une classe est d'ancien ou nouveau style ?\n",
      "* avant 2.2 : toutes les classes sont de stype ancien\n",
      "* de 2.2 \u00e0 2.x : les classes qui ont la classe `object` parmi leurs anc\u00eatres sont de nouveau style.\n",
      "* \u00e0 partir de 3 : toutes les classes sont de nouveau style"
     ]
    },
    {
     "cell_type": "markdown",
     "metadata": {},
     "source": [
      "Un grand nombre de fonctionnalit\u00e9s avanc\u00e9es ne sont disponibles que pour les classes de nouveau style : `super()`, propri\u00e9t\u00e9s, encoches, m\u00e9thodes statiques, d\u00e9corateurs, h\u00e9ritage d'un type pr\u00e9d\u00e9fini..."
     ]
    },
    {
     "cell_type": "markdown",
     "metadata": {},
     "source": [
      "Par ailleurs, en cas d'h\u00e9ritage en losange, les comportements son subtilement diff\u00e9rents. Pour les classes de nouveau style, la recherche d'attribut se fait en profondeur d'abord, puis de gauche \u00e0 droite, \u00e0 une exception pr\u00e8s : les classes d\u00e9riv\u00e9es sont toujours explor\u00e9es avant leurs classes de base. Cette exception n'avait pas cours pour les classes de style ancien : "
     ]
    },
    {
     "cell_type": "code",
     "collapsed": false,
     "input": [
      "class A: x = \"A\"\n",
      "class B1(A): pass\n",
      "class B2(A): x = \"B2\"\n",
      "class C(B1,B2): pass\n",
      "\n",
      "print C.x"
     ],
     "language": "python",
     "metadata": {},
     "outputs": [
      {
       "output_type": "stream",
       "stream": "stdout",
       "text": [
        "A\n"
       ]
      }
     ],
     "prompt_number": 2
    },
    {
     "cell_type": "markdown",
     "metadata": {},
     "source": [
      "En cas de nouveau style : "
     ]
    },
    {
     "cell_type": "code",
     "collapsed": false,
     "input": [
      "class A(object): x = \"A\"\n",
      "class B1(A): pass\n",
      "class B2(A): x = \"B2\"\n",
      "class C(B1,B2): pass\n",
      "\n",
      "print C.x"
     ],
     "language": "python",
     "metadata": {},
     "outputs": [
      {
       "output_type": "stream",
       "stream": "stdout",
       "text": [
        "B2\n"
       ]
      }
     ],
     "prompt_number": 3
    },
    {
     "cell_type": "markdown",
     "metadata": {},
     "source": [
      "Pour \u00e9viter toute ambiguit\u00e9, quel que soit le style de classe, on peut dire explicitement quelle est la m\u00e9thode \u00e0 utiliser :"
     ]
    },
    {
     "cell_type": "code",
     "collapsed": false,
     "input": [
      "class A: x = \"A\"\n",
      "class B1(A): pass\n",
      "class B2(A): x = \"B2\"\n",
      "class C(B1,B2): x = B2.x\n",
      "\n",
      "print C.x"
     ],
     "language": "python",
     "metadata": {},
     "outputs": [
      {
       "output_type": "stream",
       "stream": "stdout",
       "text": [
        "B2\n"
       ]
      }
     ],
     "prompt_number": 4
    },
    {
     "cell_type": "heading",
     "level": 2,
     "metadata": {},
     "source": [
      "It\u00e9rateurs"
     ]
    },
    {
     "cell_type": "markdown",
     "metadata": {},
     "source": [
      "Aujourd'hui, avant de rechercher une m\u00e9thode `__getitem__`, l'interpr\u00e9teur Python cherche d'abord une m\u00e9thode `__iter__`, qui peut impl\u00e9menter des sch\u00e9mas d'it\u00e9ration plus complexes. La m\u00e9thode `__iter__` est suppos\u00e9e retourn\u00e9 un objet \"it\u00e9rateur\", sur lequel on va ensuite appeler la m\u00e9thode `next` (en python 3 : `__next__`), qui renvoit un nouvel \u00e9l\u00e9ment \u00e0 chaque appel, et l\u00e8ve une exception `StopIteration` lorsqu'il n'y a plus d'\u00e9l\u00e9ments."
     ]
    },
    {
     "cell_type": "code",
     "collapsed": false,
     "input": [
      "class ReverseIterator(object):\n",
      "    def __init__(self, seq):\n",
      "        self.seq = seq\n",
      "        self.index = len(seq.data)\n",
      "    def next(self):\n",
      "        if self.index == 0:\n",
      "            raise StopIteration\n",
      "        self.index = self.index - 1\n",
      "        return self.seq.data[self.index]\n",
      "\n",
      "class Reverse(object):\n",
      "    def __init__(self, data):\n",
      "        self.data = data\n",
      "    def __iter__(self):\n",
      "        return ReverseIterator(self)\n",
      "\n",
      "for char in Reverse('123'):\n",
      "    print(char)"
     ],
     "language": "python",
     "metadata": {},
     "outputs": [
      {
       "output_type": "stream",
       "stream": "stdout",
       "text": [
        "3\n",
        "2\n",
        "1\n"
       ]
      }
     ],
     "prompt_number": 31
    },
    {
     "cell_type": "markdown",
     "metadata": {},
     "source": [
      "Notre classe peut servir elle aussi dans tous les contextes d'it\u00e9ration."
     ]
    },
    {
     "cell_type": "code",
     "collapsed": false,
     "input": [
      "inverse = Reverse('123')\n",
      "[c for c in inverse]"
     ],
     "language": "python",
     "metadata": {},
     "outputs": [
      {
       "metadata": {},
       "output_type": "pyout",
       "prompt_number": 32,
       "text": [
        "['3', '2', '1']"
       ]
      }
     ],
     "prompt_number": 32
    },
    {
     "cell_type": "code",
     "collapsed": false,
     "input": [
      "[c for c in inverse]"
     ],
     "language": "python",
     "metadata": {},
     "outputs": [
      {
       "metadata": {},
       "output_type": "pyout",
       "prompt_number": 33,
       "text": [
        "['3', '2', '1']"
       ]
      }
     ],
     "prompt_number": 33
    },
    {
     "cell_type": "code",
     "collapsed": false,
     "input": [
      "[c+d for c in inverse for d in inverse]"
     ],
     "language": "python",
     "metadata": {},
     "outputs": [
      {
       "metadata": {},
       "output_type": "pyout",
       "prompt_number": 34,
       "text": [
        "['33', '32', '31', '23', '22', '21', '13', '12', '11']"
       ]
      }
     ],
     "prompt_number": 34
    },
    {
     "cell_type": "markdown",
     "metadata": {},
     "source": [
      "Pour \u00e9viter d'avoir \u00e0 \u00e9crire deux classes, on peut \u00eatre tent\u00e9 de dire qu'objet est son propre it\u00e9rateur, et de placer la m\u00e9thode `next()` dans la classe d'origine (exemple ci-dessous). Dans la pratique, c'est peu utile, car l'objet ne peut \u00eatre it\u00e9r\u00e9 qu'une seule fois. On peut alors \u00eatre tent\u00e9 d'ajouter une m\u00e9thode `raz()` qui remettrait l'index \u00e0 0, mais avec encore une limite : impossible de lancer deux it\u00e9rations simultan\u00e9es. Ne rusez pas : faites deux classes."
     ]
    },
    {
     "cell_type": "code",
     "collapsed": false,
     "input": [
      "class Reverse(object):\n",
      "    def __init__(self, data):\n",
      "        self.__data = data\n",
      "        self.__index = len(data)\n",
      "    def __iter__(self):\n",
      "        return self\n",
      "    def next(self):\n",
      "        if self.__index == 0:\n",
      "            raise StopIteration\n",
      "        self.__index = self.__index - 1\n",
      "        return self.__data[self.__index]\n",
      "\n",
      "inverse = Reverse('123')\n",
      "print [c for c in inverse]\n",
      "print [c for c in inverse]"
     ],
     "language": "python",
     "metadata": {},
     "outputs": [
      {
       "output_type": "stream",
       "stream": "stdout",
       "text": [
        "['3', '2', '1']\n",
        "[]\n"
       ]
      }
     ],
     "prompt_number": 35
    },
    {
     "cell_type": "code",
     "collapsed": false,
     "input": [
      "class Reverse(object):\n",
      "    def __init__(self, data):\n",
      "        self.__data = data\n",
      "        self.__index = len(data)\n",
      "    def __iter__(self):\n",
      "        return self\n",
      "    def next(self):\n",
      "        if self.__index == 0:\n",
      "            raise StopIteration\n",
      "        self.__index = self.__index - 1\n",
      "        return self.__data[self.__index]\n",
      "    def raz(self):\n",
      "        self.__index = len(self.__data)\n",
      "\n",
      "inverse = Reverse('123')\n",
      "print [c for c in inverse]\n",
      "inverse.raz()\n",
      "print [c for c in inverse]\n",
      "inverse.raz()\n",
      "print [c+d for c in inverse for d in inverse]"
     ],
     "language": "python",
     "metadata": {},
     "outputs": [
      {
       "output_type": "stream",
       "stream": "stdout",
       "text": [
        "['3', '2', '1']\n",
        "['3', '2', '1']\n",
        "['32', '31']\n"
       ]
      }
     ],
     "prompt_number": 36
    }
   ],
   "metadata": {}
  }
 ]
}