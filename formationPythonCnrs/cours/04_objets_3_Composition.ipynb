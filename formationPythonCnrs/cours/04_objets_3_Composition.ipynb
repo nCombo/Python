{
 "metadata": {
  "name": "",
  "signature": "sha256:2a11e24e5483352a2fdf464530d0861580434b3051f812cb24808d1ee6137ff8"
 },
 "nbformat": 3,
 "nbformat_minor": 0,
 "worksheets": [
  {
   "cells": [
    {
     "cell_type": "heading",
     "level": 1,
     "metadata": {
      "internals": {
       "slide_type": "subslide"
      },
      "slideshow": {
       "slide_type": "slide"
      }
     },
     "source": [
      "Python Devlog session Objets 3/6 : Les objets compos\u00e9s"
     ]
    },
    {
     "cell_type": "heading",
     "level": 2,
     "metadata": {
      "internals": {},
      "slideshow": {
       "slide_type": "-"
      }
     },
     "source": [
      "G\u00e9n\u00e9ralit\u00e9s"
     ]
    },
    {
     "cell_type": "markdown",
     "metadata": {
      "internals": {},
      "slideshow": {
       "slide_type": "-"
      }
     },
     "source": [
      "Un objet peut contenir des objets, qui peuvent contenir des objets, qui\u2026\n",
      "On peut descendre dans les niveaux successifs en enchainant les \".\" ."
     ]
    },
    {
     "cell_type": "code",
     "collapsed": false,
     "input": [
      "class Vecteur(object): pass\n",
      "class Impulsion(object) : pass\n",
      "\n",
      "imp = Impulsion()\n",
      "imp.vitesse = Vecteur()\n",
      "imp.vitesse.x = 1.\n",
      "imp.vitesse.y = 0.\n",
      "imp.vitesse.z = 0.\n",
      "imp.masse = 10.\n",
      "\n",
      "print ( imp.vitesse.x, imp.vitesse.y, imp.vitesse.z, imp.masse )"
     ],
     "language": "python",
     "metadata": {
      "internals": {},
      "slideshow": {
       "slide_type": "-"
      }
     },
     "outputs": [
      {
       "output_type": "stream",
       "stream": "stdout",
       "text": [
        "(1.0, 0.0, 0.0, 10.0)\n"
       ]
      }
     ],
     "prompt_number": 4
    },
    {
     "cell_type": "heading",
     "level": 2,
     "metadata": {
      "internals": {},
      "slideshow": {
       "slide_type": "-"
      }
     },
     "source": [
      "(Non)Chainage des constructeurs"
     ]
    },
    {
     "cell_type": "markdown",
     "metadata": {
      "internals": {},
      "slideshow": {
       "slide_type": "-"
      }
     },
     "source": [
      "Dans un constructeur, il n'y a pas d'appel automatique aux constructeurs des sous-parties de l'objet courant, comme cela existe dans d'autres langages. Un objet n'a pas d'obligation de contenir des donn\u00e9es, et donc tout ce qui est ajout\u00e9 doit l'\u00eatre explicitement, y compris dans les constructeurs."
     ]
    },
    {
     "cell_type": "code",
     "collapsed": false,
     "input": [
      "class Vecteur(object):\n",
      "    def __init__(self):\n",
      "        self.x = 0\n",
      "        self.y = 0\n",
      "        self.z = 0\n",
      "    def __str__(self):\n",
      "        return \"%d|%d|%d\" % ( self.x, self.y, self.z )\n",
      "        \n",
      "class Impulsion(object):\n",
      "    def __init__(self):\n",
      "        self.vitesse = Vecteur()\n",
      "        self.masse = 0\n",
      "    def __str__(self):\n",
      "        return \"%s|%d\" % ( self.vitesse.__str__(), self.masse )\n",
      "\n",
      "i1 = Impulsion()\n",
      "print \"(%s)\" % i1"
     ],
     "language": "python",
     "metadata": {
      "internals": {},
      "slideshow": {
       "slide_type": "-"
      }
     },
     "outputs": [
      {
       "output_type": "stream",
       "stream": "stdout",
       "text": [
        "(0|0|0|0)\n"
       ]
      }
     ],
     "prompt_number": 1
    },
    {
     "cell_type": "markdown",
     "metadata": {
      "internals": {},
      "slideshow": {
       "slide_type": "-"
      }
     },
     "source": [
      "Du point de vue de l'affectation, de la copie, de la comparaison, et de beaucoup d'autres op\u00e9rations, un objet se comporte essentiellement comme un dictionnaire contenant des attributs."
     ]
    },
    {
     "cell_type": "heading",
     "level": 2,
     "metadata": {
      "internals": {},
      "slideshow": {
       "slide_type": "-"
      }
     },
     "source": [
      "Affectation et copie"
     ]
    },
    {
     "cell_type": "markdown",
     "metadata": {
      "internals": {},
      "slideshow": {
       "slide_type": "-"
      }
     },
     "source": [
      "Lorsqu'on affecte un objet \u00e0 une variable, il n'y a pas de copie. Comme d'habitude, cela g\u00e9n\u00e8re une nouvelle variable qui r\u00e9f\u00e9rence le m\u00eame objet original. Dans l'exemple ci-dessous, on voit que si je modifie un attribut de `i2`, `i1` est \u00e9galement modifi\u00e9."
     ]
    },
    {
     "cell_type": "code",
     "collapsed": false,
     "input": [
      "i2 = i1\n",
      "i2.masse = 1\n",
      "print \"(%s), (%s)\" % ( i2, i1 )"
     ],
     "language": "python",
     "metadata": {
      "internals": {},
      "slideshow": {
       "slide_type": "-"
      }
     },
     "outputs": [
      {
       "output_type": "stream",
       "stream": "stdout",
       "text": [
        "(0|0|0|1), (0|0|0|1)\n"
       ]
      }
     ],
     "prompt_number": 2
    },
    {
     "cell_type": "markdown",
     "metadata": {
      "internals": {},
      "slideshow": {
       "slide_type": "-"
      }
     },
     "source": [
      "Pour dupliquer un objet, on peut avoir recours au module `copy`, et \u00e0 sa fonction `copy`. Ainsi, si je modifie maintenant un attribut de `i2`, l'attribut correspondant de `i1` est inchang\u00e9."
     ]
    },
    {
     "cell_type": "code",
     "collapsed": false,
     "input": [
      "import copy\n",
      "i2 = copy.copy(i1)\n",
      "i2.masse = 2\n",
      "print \"(%s), (%s)\" % ( i2, i1 )"
     ],
     "language": "python",
     "metadata": {
      "internals": {},
      "slideshow": {
       "slide_type": "-"
      }
     },
     "outputs": [
      {
       "output_type": "stream",
       "stream": "stdout",
       "text": [
        "(0|0|2|2), (0|0|2|1)\n"
       ]
      }
     ],
     "prompt_number": 8
    },
    {
     "cell_type": "markdown",
     "metadata": {
      "internals": {},
      "slideshow": {
       "slide_type": "-"
      }
     },
     "source": [
      "Mais il s'agit d'une copie de surface. L'\u00e9quivalent d'une affectation des attributs un \u00e0 un :"
     ]
    },
    {
     "cell_type": "code",
     "collapsed": false,
     "input": [
      "i2 = Impulsion()\n",
      "i2.vitesse = i1.vitesse # i2 = copy.copy(i1)\n",
      "i2.masse = i1.masse     # i2 = copy.copy(i1)\n",
      "i2.masse = 2\n",
      "print \"(%s), (%s)\" % ( i2, i1 )"
     ],
     "language": "python",
     "metadata": {
      "internals": {},
      "slideshow": {
       "slide_type": "-"
      }
     },
     "outputs": [
      {
       "output_type": "stream",
       "stream": "stdout",
       "text": [
        "(0|0|0|2), (0|0|0|1)\n"
       ]
      }
     ],
     "prompt_number": 5
    },
    {
     "cell_type": "markdown",
     "metadata": {
      "internals": {},
      "slideshow": {
       "slide_type": "-"
      }
     },
     "source": [
      "Comme au d\u00e9but, pour `i2 = i1`, l'instruction `i2.vitesse = i1.vitesse` ne duplique pas l'instance de `Vecteur`, mais fait en sorte que `i2.vitesse` et `i1.vitesse` d\u00e9signe la m\u00eame instance. Ainsi, si on change un attribut de `i2.vitesse`, on agit \u00e9galement sur `i1.vitesse` :"
     ]
    },
    {
     "cell_type": "code",
     "collapsed": false,
     "input": [
      "i2.vitesse.z = 2\n",
      "print \"(%s), (%s)\" % ( i2, i1 )"
     ],
     "language": "python",
     "metadata": {
      "internals": {},
      "slideshow": {
       "slide_type": "-"
      }
     },
     "outputs": [
      {
       "output_type": "stream",
       "stream": "stdout",
       "text": [
        "(0|0|2|2), (0|0|2|1)\n"
       ]
      }
     ],
     "prompt_number": 6
    },
    {
     "cell_type": "markdown",
     "metadata": {
      "internals": {},
      "slideshow": {
       "slide_type": "-"
      }
     },
     "source": [
      "Si on souhaite dupliquer int\u00e9gralement un objet et tous ses attributs \u00e0 tous les niveaux, on pr\u00e9f\u00e8rera la fonction `deepcopy`. Dans l'exemple suivant, on modifie un sous-sous-attribut de `i2`, sans affecter `i1`."
     ]
    },
    {
     "cell_type": "code",
     "collapsed": false,
     "input": [
      "i2 = copy.deepcopy(i1)\n",
      "i2.vitesse.y = 3\n",
      "print \"(%s), (%s)\" % ( i2, i1 )"
     ],
     "language": "python",
     "metadata": {
      "internals": {},
      "slideshow": {
       "slide_type": "-"
      }
     },
     "outputs": [
      {
       "output_type": "stream",
       "stream": "stdout",
       "text": [
        "(0|3|2|1), (0|0|2|1)\n"
       ]
      }
     ],
     "prompt_number": 7
    },
    {
     "cell_type": "heading",
     "level": 2,
     "metadata": {
      "internals": {},
      "slideshow": {
       "slide_type": "-"
      }
     },
     "source": [
      "Egalit\u00e9 et identit\u00e9"
     ]
    },
    {
     "cell_type": "markdown",
     "metadata": {
      "internals": {},
      "slideshow": {
       "slide_type": "-"
      }
     },
     "source": [
      "Malheureusement, \u00e0 la diff\u00e9rence d'un dictionnaire, l'op\u00e9rateur de comparaison `==` n'est pas capable de v\u00e9rifier r\u00e9cursivement l'\u00e9galit\u00e9 de tous les donn\u00e9es membres de l'objet. A la place, il se contente de v\u00e9rifier que les deux variables d\u00e9signent le m\u00eame objet, \u00e0 la fa\u00e7on d'un `is`. Pour obtenir le comportement \"logique\", il faut par exemple red\u00e9finir les op\u00e9rateurs `__eq__`et `__ne__` \u00e0 tous les niveaux :"
     ]
    },
    {
     "cell_type": "code",
     "collapsed": false,
     "input": [
      "class Vecteur(object):\n",
      "    def __init__(self,x=0,y=0,z=0):\n",
      "        self.__x = x\n",
      "        self.__y = y\n",
      "        self.__z = z\n",
      "    def __str__(self):\n",
      "        return \"%d|%d|%d\" % ( self.__x, self.__y, self.__z )\n",
      "        \n",
      "class Impulsion(object):\n",
      "    def __init__(self,x=0,y=0,z=0,m=0):\n",
      "        self.__vitesse = Vecteur(x,y,z)\n",
      "        self.__masse = m\n",
      "    def __str__(self):\n",
      "        return \"%s|%d\" % ( self.__vitesse.__str__(), self.__masse )\n",
      "\n",
      "i1 = Impulsion(1,2,3,4)\n",
      "\n",
      "import copy\n",
      "i2 = copy.deepcopy(i1)\n",
      "\n",
      "(i1 is i2, i1==i2, i1!=i2)"
     ],
     "language": "python",
     "metadata": {
      "internals": {},
      "slideshow": {
       "slide_type": "-"
      }
     },
     "outputs": [
      {
       "metadata": {},
       "output_type": "pyout",
       "prompt_number": 16,
       "text": [
        "(False, False, True)"
       ]
      }
     ],
     "prompt_number": 16
    },
    {
     "cell_type": "code",
     "collapsed": false,
     "input": [
      "class Vecteur(object):\n",
      "    def __init__(self,x=0,y=0,z=0):\n",
      "        self.__x = x\n",
      "        self.__y = y\n",
      "        self.__z = z\n",
      "    def __str__(self):\n",
      "        return \"%d|%d|%d\" % ( self.__x, self.__y, self.__z )\n",
      "    def __eq__(self,other):\n",
      "        return ( self.__x==other.__x ) and ( self.__y==other.__y ) and ( self.__z==other.__z )\n",
      "        \n",
      "class Impulsion(object):\n",
      "    def __init__(self,x=0,y=0,z=0,m=0):\n",
      "        self.__vitesse = Vecteur(x,y,z)\n",
      "        self.__masse = m\n",
      "    def __str__(self):\n",
      "        return \"%s|%d\" % ( self.__vitesse.__str__(), self.__masse )\n",
      "    def __eq__(self,other): \n",
      "        return ( self.__vitesse==other.__vitesse ) and ( self.__masse==other.__masse )\n",
      "\n",
      "i1 = Impulsion(1,2,3,4)\n",
      "\n",
      "import copy\n",
      "i2 = copy.deepcopy(i1)\n",
      "\n",
      "(i1 is i2, i1==i2, i1!=i2)"
     ],
     "language": "python",
     "metadata": {
      "internals": {},
      "slideshow": {
       "slide_type": "-"
      }
     },
     "outputs": [
      {
       "metadata": {},
       "output_type": "pyout",
       "prompt_number": 14,
       "text": [
        "(False, True, True)"
       ]
      }
     ],
     "prompt_number": 14
    },
    {
     "cell_type": "code",
     "collapsed": false,
     "input": [
      "class Vecteur:\n",
      "    def __init__(self,x=0,y=0,z=0):\n",
      "        self.__x = x\n",
      "        self.__y = y\n",
      "        self.__z = z\n",
      "    def __str__(self):\n",
      "        return \"%d|%d|%d\" % ( self.__x, self.__y, self.__z )\n",
      "    def __eq__(self,other):\n",
      "        return ( self.__x==other.__x ) and ( self.__y==other.__y ) and ( self.__z==other.__z )\n",
      "    def __ne__(self,other): return not(self==other)\n",
      "        \n",
      "class Impulsion:\n",
      "    def __init__(self,x=0,y=0,z=0,m=0):\n",
      "        self.__vitesse = Vecteur(x,y,z)\n",
      "        self.__masse = m\n",
      "    def __str__(self):\n",
      "        return \"%s|%d\" % ( self.__vitesse.__str__(), self.__masse )\n",
      "    def __eq__(self,other): \n",
      "        return ( self.__vitesse==other.__vitesse ) and ( self.__masse==other.__masse )\n",
      "    def __ne__(self,other): return not(self==other)\n",
      "\n",
      "i1 = Impulsion(1,2,3,4)\n",
      "\n",
      "import copy\n",
      "i2 = copy.deepcopy(i1)\n",
      "\n",
      "(i1 is i2, i1==i2, i1!=i2)"
     ],
     "language": "python",
     "metadata": {
      "internals": {},
      "slideshow": {
       "slide_type": "-"
      }
     },
     "outputs": [
      {
       "metadata": {},
       "output_type": "pyout",
       "prompt_number": 17,
       "text": [
        "(False, True, False)"
       ]
      }
     ],
     "prompt_number": 17
    }
   ],
   "metadata": {}
  }
 ]
}