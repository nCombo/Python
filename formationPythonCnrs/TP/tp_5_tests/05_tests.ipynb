{
 "metadata": {
  "name": "",
  "signature": "sha256:8cd84a8ffa902a0f55f7f2fb6ddf7b4334935c781bff95f21b1431c2eed1eec8"
 },
 "nbformat": 3,
 "nbformat_minor": 0,
 "worksheets": [
  {
   "cells": [
    {
     "cell_type": "markdown",
     "metadata": {},
     "source": [
      "# TP sur les tests"
     ]
    },
    {
     "cell_type": "markdown",
     "metadata": {},
     "source": [
      "Dans ce TPs, nous allons utiliser les outils vus dans le cours (**doctest**, **unittest** et **nosetests**) sur un package permettant de simuler une calculatrice.\n",
      "\n",
      "Il faut r\u00e9cup\u00e9rer les sources qui se trouvent dans `TPs/data/tests`. Nous allons dans un premier temps installer le package en utilisant la commande\n",
      "\n",
      "```\n",
      "python setup.py install --user\n",
      "```\n",
      "\n",
      "Vous avez alors un ex\u00e9cutable qui s'appelle `calc.py`\n",
      "\n"
     ]
    },
    {
     "cell_type": "code",
     "collapsed": false,
     "input": [
      "!calc.py"
     ],
     "language": "python",
     "metadata": {},
     "outputs": [
      {
       "output_type": "stream",
       "stream": "stdout",
       "text": [
        "\r\n",
        "usage\r\n",
        "=====\r\n",
        "\r\n",
        "./calc.py s\r\n",
        "\r\n",
        "o\u00f9 s est une chaine de caract\u00e8res repr\u00e9sentant l'expression \u00e0 \r\n",
        "calculer.\r\n",
        "\r\n"
       ]
      }
     ],
     "prompt_number": 3
    },
    {
     "cell_type": "code",
     "collapsed": false,
     "input": [
      "!calc.py '3+4-5'"
     ],
     "language": "python",
     "metadata": {},
     "outputs": [
      {
       "output_type": "stream",
       "stream": "stdout",
       "text": [
        "2.0\r\n"
       ]
      }
     ],
     "prompt_number": 5
    },
    {
     "cell_type": "markdown",
     "metadata": {},
     "source": [
      "Ce package contient trois modules\n",
      "\n",
      "- *operateur*: ce module explique ce que fait une addition, une soustraction, ...\n",
      "- *parser*: ce module permet de parser la cha\u00eene de caract\u00e8res.\n",
      "- *calculatrice*: ce module permet de faire fonctionner la calculatrice en fonction de la cha\u00eene de caract\u00e8res entr\u00e9e par l'utilisateur."
     ]
    },
    {
     "cell_type": "markdown",
     "metadata": {},
     "source": [
      "Lorsque l'on \u00e9crit un package en Python, on suit g\u00e9n\u00e9ralement l'arborescence suivante pour les tests.\n",
      "\n",
      "&nbsp;\n",
      "<center>\n",
      "<img src=\"files/figures/tests_arbo.png\" style=\"width: 40%;\" />\n",
      "</center>"
     ]
    },
    {
     "cell_type": "markdown",
     "metadata": {},
     "source": [
      "# Exercices\n",
      "\n",
      "1. Reprendre les modules *operateur* et *parser* et ajouter des tests en utilisant **doctest**.\n",
      "2. Cr\u00e9er un r\u00e9pertoire de tests et \u00e9crire des tests utilisant **unittest**\n",
      "3. Ex\u00e9cuter les tests cr\u00e9\u00e9s pr\u00e9cedemment avec **nosetests**\n",
      "4. Ecrire des tests ayant le *matchTest* de **nosetests** dans le r\u00e9pertoire tests.\n",
      "5. Ajouter des attributs et tester.\n",
      "6. Faire des tests de couverture et rajouter des tests si n\u00e9cessaire."
     ]
    }
   ],
   "metadata": {}
  }
 ]
}