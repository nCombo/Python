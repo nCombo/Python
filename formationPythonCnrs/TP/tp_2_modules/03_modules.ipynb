{
 "metadata": {
  "celltoolbar": "Slideshow",
  "name": "",
  "signature": "sha256:b7d26d15fee006d429923a973e26be1114d3f2b971c8ad54f250c7f302d15f22"
 },
 "nbformat": 3,
 "nbformat_minor": 0,
 "worksheets": [
  {
   "cells": [
    {
     "cell_type": "heading",
     "level": 1,
     "metadata": {
      "slideshow": {
       "slide_type": "slide"
      }
     },
     "source": [
      "TP Calculatrice"
     ]
    },
    {
     "cell_type": "markdown",
     "metadata": {
      "slideshow": {
       "slide_type": "slide"
      }
     },
     "source": [
      "Dans ce TP, nous allons cr\u00e9er une calculatrice qui va prendre une expression et la calculer.\n",
      "La calulatrice aura donc une fonction principale de calcul qui renverra le r\u00e9sultat de l'expression.\n",
      "\n",
      "\n",
      "```Python\n",
      "\n",
      "    $> python main.py\n",
      "\n",
      "    >>> 3 + 4 * 6 / 5      \n",
      "    ( ['=', '+', '*', '/'] [3.0, 4.0, 6.0, 5.0] )\n",
      "    8.4\n",
      "    >>> \n",
      "\n",
      "```\n",
      "\n",
      "\n"
     ]
    },
    {
     "cell_type": "heading",
     "level": 2,
     "metadata": {},
     "source": [
      "Le main"
     ]
    },
    {
     "cell_type": "markdown",
     "metadata": {
      "slideshow": {
       "slide_type": "subslide"
      }
     },
     "source": [
      "- cr\u00e9er un fichier main.py qui va r\u00e9cup\u00e9rer l'expression tap\u00e9e par l'utilisateur et l'afficher :\n",
      "\n",
      "    ```python\n",
      "    print\n",
      "    ligne=raw_input(\">>> \")\n",
      "    print \"**** %s ****\" %ligne\n",
      "    \n",
      "    ```"
     ]
    },
    {
     "cell_type": "markdown",
     "metadata": {
      "slideshow": {
       "slide_type": "subslide"
      }
     },
     "source": [
      "- Dans ce main, ajouter une boucle while qui r\u00e9cup\u00e8re l'expression tap\u00e9e tant que celle-ci est diff\u00e9rente de \"OFF\":"
     ]
    },
    {
     "cell_type": "markdown",
     "metadata": {
      "slideshow": {
       "slide_type": "subslide"
      }
     },
     "source": [
      "```python\n",
      "# -*- coding: utf-8 -*-\n",
      "\n",
      "print\n",
      "ligne=raw_input(\">>> \")\n",
      "while ligne!='OFF':\n",
      "    print \"**** %s ****\" %ligne\n",
      "    ligne=raw_input(\">>> \")\n",
      "\n",
      "```\n"
     ]
    },
    {
     "cell_type": "heading",
     "level": 2,
     "metadata": {
      "slideshow": {
       "slide_type": "slide"
      }
     },
     "source": [
      "l'analyseur"
     ]
    },
    {
     "cell_type": "markdown",
     "metadata": {
      "slideshow": {
       "slide_type": "subslide"
      }
     },
     "source": [
      "* cr\u00e9er un fichier analyseur.py et y copier le code ci-dessous :\n",
      "\n",
      "```python\n",
      "# -*- coding: utf-8 -*-\n",
      "\n",
      "import re\n",
      "\n",
      "parse_op = re.compile(r'[-+*/]')\n",
      "parse_num = re.compile(r'[^-+*/]+')\n",
      "\n",
      "def analyse(s):\n",
      "\n",
      "    opList = parse_op.findall(s)\n",
      "    numList = map(float, parse_num.findall(s))\n",
      "    \n",
      "    if len(opList) != len(numList):\n",
      "        opList.insert(0, '=')\n",
      "\n",
      "    return opList, numList\n",
      "    \n",
      "```\n"
     ]
    },
    {
     "cell_type": "markdown",
     "metadata": {
      "slideshow": {
       "slide_type": "subslide"
      }
     },
     "source": [
      "* Retourner dans le fichier main, importer le module analyser et appeler la fonction analyse avec l'expression fourni en param\u00e9tre. Imprimer le r\u00e9sultat.\n",
      "\n",
      "```python\n",
      "$> python main.py \n",
      "\n",
      ">>> 3 + 4 * 6 / 5\n",
      "**** 3 + 4 * 6 / 5 ****\n",
      "(['=', '+', '*', '/'], [3.0, 4.0, 6.0, 5.0])\n",
      ">>> \n",
      "\n",
      "```\n",
      "\n"
     ]
    },
    {
     "cell_type": "heading",
     "level": 2,
     "metadata": {
      "slideshow": {
       "slide_type": "slide"
      }
     },
     "source": [
      "les op\u00e9rateurs"
     ]
    },
    {
     "cell_type": "markdown",
     "metadata": {
      "slideshow": {
       "slide_type": "subslide"
      }
     },
     "source": [
      "- Cr\u00e9er un sous r\u00e9pertoire \"operateurs\"\n",
      "- Pour chaque op\u00e9ration (+,-,*,/), cr\u00e9er un fichier portant le nom de l'op\u00e9ration.\n",
      "- Pour chaque op\u00e9ration, \u00e9crire sa d\u00e9finition retournant le r\u00e9sultat.\n",
      "\n",
      "```python\n",
      ".\n",
      "|____ main.py\n",
      "|____ operateurs\n",
      "| |____ __init__.py\n",
      "| |____ addition.py\n",
      "| |____ division.py\n",
      "| |____ multiplication.py\n",
      "| |____ soustraction.py\n",
      "|____ analyseur.py\n",
      "```\n",
      "\n",
      "- modifier le `__init__.py` afin de cr\u00e9er un dictionnaire mappant l'operateur avec sa fonction\n"
     ]
    },
    {
     "cell_type": "heading",
     "level": 2,
     "metadata": {
      "slideshow": {
       "slide_type": "slide"
      }
     },
     "source": [
      "Fonction de calcul et Affichage du r\u00e9sultat"
     ]
    },
    {
     "cell_type": "markdown",
     "metadata": {
      "slideshow": {
       "slide_type": "subslide"
      }
     },
     "source": [
      "- cr\u00e9er un fichier nomm\u00e9 **calculatrice.py**\n",
      "- importer le package operateurs\n",
      "- importer la m\u00e9thode analyse\n",
      "- cr\u00e9er une fonction calcul qui va prendre en param\u00e8tre une chaine de caract\u00e8re\n",
      "- cette fonction va appeler la fonction analyse pour r\u00e9cup\u00e9rer les op\u00e9rateurs et les chiffres\n",
      "- Pour chaque op\u00e9rateur, appeler la fonction correspondante avec les bons arguments et r\u00e9cup\u00e9rer le r\u00e9sultat\n",
      "- enfin cette fonction doit renvoyer le r\u00e9sultat global\n",
      "- Modifier le main pour qu'il affiche le r\u00e9sultat de l'appel de cette fonction\n",
      "\n"
     ]
    },
    {
     "cell_type": "heading",
     "level": 2,
     "metadata": {
      "slideshow": {
       "slide_type": "slide"
      }
     },
     "source": [
      "Distribution"
     ]
    },
    {
     "cell_type": "markdown",
     "metadata": {
      "slideshow": {
       "slide_type": "subslide"
      }
     },
     "source": [
      "* Cr\u00e9er un fichier setup.py avec le minimum d'information pour distribuer le projet:\n",
      "\n",
      "```python\n",
      "from distutils.core import setup\n",
      "\n",
      "setup(name = 'macalculatrice',\n",
      "      version = '1.0',\n",
      "      author = 'Nicolas CAN',\n",
      "      description = 'module de calculatrice',\n",
      "      packages = ['calculatrice', 'calculatrice.operateurs'],\n",
      "  )\n",
      "```\n",
      "\n",
      "* Pour cr\u00e9er la version distribuable, lancer la commande suivante :\n",
      "\n",
      "```python\n",
      "$>python setup.py sdist\n",
      "```\n",
      "\n"
     ]
    },
    {
     "cell_type": "markdown",
     "metadata": {},
     "source": [
      "* Vous pouvez maintenant distribuer votre projet, apres avoir r\u00e9cup\u00e9r\u00e9 l'archive, vous pouvez l'installer avec :\n",
      "\n",
      "```python\n",
      "$>python setup.py install\n",
      "```\n",
      "* Apr\u00e8s installation, on peut directement appeler le module cr\u00e9er (se placer dans un autre r\u00e9pertoire sans les sources)\n",
      "\n",
      "```python\n",
      "$> ll\n",
      "total 40\n",
      "-rw-r--r--  1 nicolas  staff   318 26 nov 22:10 MANIFEST\n",
      "-rw-r--r--  1 nicolas  staff  8271 26 nov 22:06 TP Module.ipynb\n",
      "drwxr-xr-x  3 nicolas  staff   102 26 nov 22:10 build\n",
      "drwxr-xr-x  8 nicolas  staff   272 26 nov 22:07 calculatrice\n",
      "drwxr-xr-x  3 nicolas  staff   102 26 nov 22:10 dist\n",
      "-rw-r--r--  1 nicolas  staff   229 21 nov 15:21 setup.py\n",
      "$> python\n",
      "Python 2.7.5 (default, Mar  9 2014, 22:15:05) \n",
      "[GCC 4.2.1 Compatible Apple LLVM 5.0 (clang-500.0.68)] on darwin\n",
      "Type \"help\", \"copyright\", \"credits\" or \"license\" for more information.\n",
      ">>> from calculatrice.calculatrice import calcule\n",
      ">>> calcule(\"3 + 4 * 6 / 5\")\n",
      "( ['=', '+', '*', '/'] [3.0, 4.0, 6.0, 5.0] )\n",
      "8.4\n",
      ">>>  \n",
      "```\n",
      "\n",
      "\n"
     ]
    },
    {
     "cell_type": "code",
     "collapsed": false,
     "input": [],
     "language": "python",
     "metadata": {},
     "outputs": []
    }
   ],
   "metadata": {}
  }
 ]
}