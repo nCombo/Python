{
 "metadata": {
  "name": "",
  "signature": "sha256:7fa4b5be53ec1d8b17d9d219c52fc9408ab0f0a1215901e0b5817b4c24c3bb5a"
 },
 "nbformat": 3,
 "nbformat_minor": 0,
 "worksheets": [
  {
   "cells": [
    {
     "cell_type": "heading",
     "level": 1,
     "metadata": {},
     "source": [
      "Python Devlog session Objets TP "
     ]
    },
    {
     "cell_type": "heading",
     "level": 2,
     "metadata": {},
     "source": [
      "1/6 : La d\u00e9finition de classes"
     ]
    },
    {
     "cell_type": "markdown",
     "metadata": {},
     "source": [
      "En partant du code plac\u00e9 dans le r\u00e9pertoire `calculatrice-0`, transformez la fonction `analyse()` de telle sorte qu'elle retourne une instance de la classe `Expression`, contenant deux variables : `opList`, liste des op\u00e9rateurs `opList`, et `numList` la liste des nombres. Placez la d\u00e9finition de classe dans le m\u00eame fichier que `analyse()`.\n",
      "\n",
      "Dotez la classe `Expression` des m\u00e9thodes suivantes :\n",
      "* `paires()` : retourne une liste de paires (op\u00e9rateur,nombre), chaque paire \u00e9tant constitu\u00e9e du \u00e9ni\u00e8me \u00e9l\u00e9ment de `opList` et du eni\u00e8me \u00e9l\u00e9ment correspondant dans la liste `numList` (ce que fait la fonction `zip()`). \n",
      "* `display()` : affichage le contenu de l'expression.\n",
      "* `init()` : pour affecter des valeurs aux attributs `opList` et `numList`."
     ]
    },
    {
     "cell_type": "markdown",
     "metadata": {},
     "source": [
      "On pourra alors r\u00e9\u00e9crire la fonction `calcule()` ainsi :\n",
      "\n",
      "```python\n",
      "def calcule(chaine):\n",
      "    global res\n",
      "    expression = analyse(chaine)\n",
      "    expression.display()\n",
      "    for op, num in expression.paires():\n",
      "\t    if op=='=': res = num\n",
      "\t    else:\n",
      "            fct = operateurs.operations[op]\n",
      "\t        res = fct(res,num)\n",
      "    print res\n",
      "```"
     ]
    },
    {
     "cell_type": "markdown",
     "metadata": {},
     "source": [
      "Comme le code client n'a plus besoin d'acc\u00e9der directement aux attributs `opList` et `numList`, profitez-en pour rendre ces attributs pseudo-priv\u00e9s."
     ]
    },
    {
     "cell_type": "markdown",
     "metadata": {},
     "source": [
      "Cr\u00e9\u00e9z une classe `Calculatrice`, dot\u00e9e d'une variable `res` initialis\u00e9e \u00e0 `0` par une m\u00e9thode `init()`, et d'une m\u00e9thode `calcule()` qui \u00e9value une instance d'`Expression` et stocke le r\u00e9sultat dans `res` (en plus de l'afficher). "
     ]
    },
    {
     "cell_type": "markdown",
     "metadata": {},
     "source": [
      "Dotez la classe `Expression` d'une constante PI. Modifiez `Expression.init()` afin qu'elle reconnaisse la valeur `PI`, et essayez d'\u00e9valuer l'expression `2*PI` avec votre calculatrice."
     ]
    },
    {
     "cell_type": "heading",
     "level": 2,
     "metadata": {},
     "source": [
      "2/6 : Les m\u00e9thodes sp\u00e9ciales"
     ]
    },
    {
     "cell_type": "markdown",
     "metadata": {},
     "source": [
      "1. Dotez la classe Expression d'un constructeur \u00e0 partir d'une cha\u00eene de caract\u00e8re, (et y fondre la fonction `analyse()`).\n",
      "1. Transfomez la m\u00e9thode `display()` en m\u00e9thode `__str__()`.\n",
      "1. Dotez la classe `Expression` d'un comportement de s\u00e9quence (Transformez `paires()` en `__getitem__()`).\n",
      "1. Dotez la classe `Calculatrice` d'un constructeur, puis transformez l\u00e0 en objet-fonction."
     ]
    },
    {
     "cell_type": "markdown",
     "metadata": {},
     "source": [
      "le fichier `calculatrice.py` contient \u00e0 pr\u00e9sent :\n",
      "```python\n",
      "    .....\n",
      "    expr = Expression(chaine)\n",
      "    print expr\n",
      "    for op, num in expr:\n",
      "\t    if op=='=': res = num\n",
      "\t    else:\n",
      "            fct = operateurs.operations[op]\n",
      "            res = fct(res,num)\n",
      "    .....\n",
      "```\n",
      "\n",
      "et le fichier `main.py` :\n",
      "```python\n",
      "calc = Calculatrice()\n",
      "\n",
      "print\n",
      "ligne=raw_input(\">>> \")\n",
      "while ligne!='OFF':\n",
      "    calc(expr)\n",
      "    ligne=raw_input(\">>> \")\n",
      "```"
     ]
    },
    {
     "cell_type": "heading",
     "level": 2,
     "metadata": {},
     "source": [
      "3/6 : Les objets compos\u00e9s"
     ]
    },
    {
     "cell_type": "markdown",
     "metadata": {},
     "source": [
      "1. Dotez la classe `Expression` d'un op\u00e9rateur `+` de concat\u00e9nation.\n",
      "1. Dotez la classe `Expression` d'une m\u00e9thode de comparaison `==`.\n",
      "1. Ajouter le code suivant en fin de `analyseur.py` afin de v\u00e9rifier les op\u00e9rations ci-dessus :\n",
      "```python\n",
      "    if __name__ == \"__main__\":\n",
      "        expr1 = Expression(\"+1+2\")\n",
      "        expr2 = Expression(\"+3+4\")\n",
      "        expr3 = expr1+expr2\n",
      "        expr4 = Expression(\"+1+2+3+4\")\n",
      "        print expr3\n",
      "        print expr4\n",
      "        if (expr3==expr4): print \"Concatenation et comparaison OK\"\n",
      "        else: print \"PROBLEME de concatenation et comparaison\"\n",
      "```\n"
     ]
    },
    {
     "cell_type": "heading",
     "level": 2,
     "metadata": {},
     "source": [
      "4/6 : L'h\u00e9ritage entre classes"
     ]
    },
    {
     "cell_type": "markdown",
     "metadata": {},
     "source": [
      "1. Ajoutez dans `calculatrice.py` une classe d\u00e9riv\u00e9e `CalculatriceEtendue`, qui ajoute la possibilit\u00e9 de demander l'inverse du dernier r\u00e9sultat obtenu, en tapant 'inv' (et rien que \u00e7a), ou bien sa racine carr\u00e9e en tapant 'sqrt'. Traiter ces cas particuliers dans la m\u00e9thode `__call__` de la nouvelle classe  `CalculatriceEtendue` (pas dans la classe `Expression`).\n",
      "1. Dans `main.py`, utilisez et testez la nouvelle calculatrice."
     ]
    },
    {
     "cell_type": "heading",
     "level": 2,
     "metadata": {},
     "source": [
      "5/6 : Sauvegarde et reconstruction d'objets"
     ]
    },
    {
     "cell_type": "markdown",
     "metadata": {},
     "source": [
      "1. Faites en sorte que le programme principal stocke l'\u00e9tat courant de la calculatrice avant de se terminer, et la restaure telle quelle \u00e0 la prochaine \u00e9xecution. Servez vous par exemple d'un fichier `main.pkl`."
     ]
    },
    {
     "cell_type": "heading",
     "level": 2,
     "metadata": {},
     "source": [
      "6/6 : Quelques concepts avanc\u00e9s"
     ]
    },
    {
     "cell_type": "markdown",
     "metadata": {},
     "source": [
      "1. Dotez la classe Expression d'une variable PI. Modifiez `Expression.__init__()` afin qu'elle reconnaisse la valeur PI, et essayez d'\u00e9valuer l'expression 2*PI avec votre calculatrice.\n",
      "1. Observez ce qui se passe si la classe `Calculatrice` n'h\u00e9rite plus de la classe `object`.\n",
      "1. D\u00e9finir `Expression.__slots__` et controllez son bon fonctionnement.\n",
      "1. Prot\u00e9ger la valeur `PI`, suppos\u00e9e constante, en la rendant pseudo-priv\u00e9e et en fournissant une m\u00e9thode statique de r\u00e9cup\u00e9ration de la valeur. Utilisez la notation \"d\u00e9corateur\" pour cette m\u00e9thode.\n",
      "1. A la place de la m\u00e9thode `Calculatrice.getres()`, ajouter une propri\u00e9t\u00e9 `res`, accessible en lecture seule."
     ]
    },
    {
     "cell_type": "code",
     "collapsed": false,
     "input": [],
     "language": "python",
     "metadata": {},
     "outputs": []
    }
   ],
   "metadata": {}
  }
 ]
}